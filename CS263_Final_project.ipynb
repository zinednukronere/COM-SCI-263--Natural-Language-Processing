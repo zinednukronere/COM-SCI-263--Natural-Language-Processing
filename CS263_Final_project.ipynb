{
  "cells": [
    {
      "cell_type": "markdown",
      "source": [
        "#UNIVERSAL SENTENCE ENCODER"
      ],
      "metadata": {
        "id": "IaNseANrqKCL"
      }
    },
    {
      "cell_type": "code",
      "execution_count": null,
      "metadata": {
        "colab": {
          "base_uri": "https://localhost:8080/"
        },
        "id": "Dp_jTQEqENH8",
        "outputId": "d4ed5a7e-1ea2-4441-87c8-2631051c929f"
      },
      "outputs": [
        {
          "output_type": "stream",
          "name": "stdout",
          "text": [
            "Looking in indexes: https://pypi.org/simple, https://us-python.pkg.dev/colab-wheels/public/simple/\n",
            "Collecting transformers\n",
            "  Downloading transformers-4.19.4-py3-none-any.whl (4.2 MB)\n",
            "\u001b[K     |████████████████████████████████| 4.2 MB 5.5 MB/s \n",
            "\u001b[?25hRequirement already satisfied: filelock in /usr/local/lib/python3.7/dist-packages (from transformers) (3.7.0)\n",
            "Requirement already satisfied: numpy>=1.17 in /usr/local/lib/python3.7/dist-packages (from transformers) (1.21.6)\n",
            "Requirement already satisfied: regex!=2019.12.17 in /usr/local/lib/python3.7/dist-packages (from transformers) (2019.12.20)\n",
            "Requirement already satisfied: requests in /usr/local/lib/python3.7/dist-packages (from transformers) (2.23.0)\n",
            "Requirement already satisfied: packaging>=20.0 in /usr/local/lib/python3.7/dist-packages (from transformers) (21.3)\n",
            "Collecting tokenizers!=0.11.3,<0.13,>=0.11.1\n",
            "  Downloading tokenizers-0.12.1-cp37-cp37m-manylinux_2_12_x86_64.manylinux2010_x86_64.whl (6.6 MB)\n",
            "\u001b[K     |████████████████████████████████| 6.6 MB 42.5 MB/s \n",
            "\u001b[?25hCollecting pyyaml>=5.1\n",
            "  Downloading PyYAML-6.0-cp37-cp37m-manylinux_2_5_x86_64.manylinux1_x86_64.manylinux_2_12_x86_64.manylinux2010_x86_64.whl (596 kB)\n",
            "\u001b[K     |████████████████████████████████| 596 kB 49.5 MB/s \n",
            "\u001b[?25hRequirement already satisfied: importlib-metadata in /usr/local/lib/python3.7/dist-packages (from transformers) (4.11.4)\n",
            "Requirement already satisfied: tqdm>=4.27 in /usr/local/lib/python3.7/dist-packages (from transformers) (4.64.0)\n",
            "Collecting huggingface-hub<1.0,>=0.1.0\n",
            "  Downloading huggingface_hub-0.7.0-py3-none-any.whl (86 kB)\n",
            "\u001b[K     |████████████████████████████████| 86 kB 4.5 MB/s \n",
            "\u001b[?25hRequirement already satisfied: typing-extensions>=3.7.4.3 in /usr/local/lib/python3.7/dist-packages (from huggingface-hub<1.0,>=0.1.0->transformers) (4.2.0)\n",
            "Requirement already satisfied: pyparsing!=3.0.5,>=2.0.2 in /usr/local/lib/python3.7/dist-packages (from packaging>=20.0->transformers) (3.0.9)\n",
            "Requirement already satisfied: zipp>=0.5 in /usr/local/lib/python3.7/dist-packages (from importlib-metadata->transformers) (3.8.0)\n",
            "Requirement already satisfied: certifi>=2017.4.17 in /usr/local/lib/python3.7/dist-packages (from requests->transformers) (2022.5.18.1)\n",
            "Requirement already satisfied: idna<3,>=2.5 in /usr/local/lib/python3.7/dist-packages (from requests->transformers) (2.10)\n",
            "Requirement already satisfied: chardet<4,>=3.0.2 in /usr/local/lib/python3.7/dist-packages (from requests->transformers) (3.0.4)\n",
            "Requirement already satisfied: urllib3!=1.25.0,!=1.25.1,<1.26,>=1.21.1 in /usr/local/lib/python3.7/dist-packages (from requests->transformers) (1.24.3)\n",
            "Installing collected packages: pyyaml, tokenizers, huggingface-hub, transformers\n",
            "  Attempting uninstall: pyyaml\n",
            "    Found existing installation: PyYAML 3.13\n",
            "    Uninstalling PyYAML-3.13:\n",
            "      Successfully uninstalled PyYAML-3.13\n",
            "Successfully installed huggingface-hub-0.7.0 pyyaml-6.0 tokenizers-0.12.1 transformers-4.19.4\n"
          ]
        }
      ],
      "source": [
        "!pip install transformers"
      ]
    },
    {
      "cell_type": "markdown",
      "source": [
        "##Libraries"
      ],
      "metadata": {
        "id": "2D-z4NR1uXr6"
      }
    },
    {
      "cell_type": "code",
      "source": [
        "#Gathering required libraries \n",
        "\n",
        "import numpy as np\n",
        "import pandas as pd \n",
        "import matplotlib.pyplot as plt\n",
        "import seaborn as sns\n",
        "import re\n",
        "from string import punctuation\n",
        "\n",
        "# Import NLTK packages \n",
        "import nltk\n",
        "from nltk.tokenize import word_tokenize\n",
        "\n",
        "from nltk.stem import PorterStemmer\n",
        "stemmer = PorterStemmer()\n",
        "\n",
        "# Import scikit\n",
        "from sklearn.preprocessing import MinMaxScaler\n",
        "scale = MinMaxScaler()\n",
        "from sklearn.feature_extraction.text import TfidfVectorizer\n",
        "from sklearn.model_selection import cross_val_score\n",
        "from sklearn.naive_bayes import MultinomialNB\n",
        "from sklearn.linear_model import LogisticRegression\n",
        "from sklearn.ensemble import RandomForestClassifier\n",
        "from sklearn.ensemble import VotingClassifier"
      ],
      "metadata": {
        "id": "7v-5tyf9ESp3"
      },
      "execution_count": null,
      "outputs": []
    },
    {
      "cell_type": "markdown",
      "source": [
        "##Data Loading"
      ],
      "metadata": {
        "id": "oGL5CriGudGh"
      }
    },
    {
      "cell_type": "code",
      "source": [
        "train_data = pd.read_csv(\"/content/2018-E-c-En-train.txt\",sep=\"\t\")\n",
        "validate_data =  pd.read_csv(\"/content/2018-E-c-En-dev.txt\", sep= \"\t\")\n",
        "test_data =  pd.read_csv(\"/content/2018-E-c-En-test-gold.txt\", sep= \"\t\")\n",
        "\n",
        "\n",
        "data = pd.concat([train_data,validate_data, test_data], sort=True)"
      ],
      "metadata": {
        "id": "qRPx0EKsEyqm"
      },
      "execution_count": null,
      "outputs": []
    },
    {
      "cell_type": "code",
      "source": [
        "data.head()"
      ],
      "metadata": {
        "colab": {
          "base_uri": "https://localhost:8080/",
          "height": 206
        },
        "id": "jYNKRo59FfFy",
        "outputId": "e08adf6a-762e-4816-8509-fdd451447c43"
      },
      "execution_count": null,
      "outputs": [
        {
          "output_type": "execute_result",
          "data": {
            "text/plain": [
              "              ID                                              Tweet  anger  \\\n",
              "0  2017-En-21441  “Worry is a down payment on a problem you may ...      0   \n",
              "1  2017-En-31535  Whatever you decide to do make sure it makes y...      0   \n",
              "2  2017-En-21068  @Max_Kellerman  it also helps that the majorit...      1   \n",
              "3  2017-En-31436  Accept the challenges so that you can literall...      0   \n",
              "4  2017-En-22195  My roommate: it's okay that we can't spell bec...      1   \n",
              "\n",
              "   anticipation  disgust  fear  joy  love  optimism  pessimism  sadness  \\\n",
              "0             1        0     0    0     0         1          0        0   \n",
              "1             0        0     0    1     1         1          0        0   \n",
              "2             0        1     0    1     0         1          0        0   \n",
              "3             0        0     0    1     0         1          0        0   \n",
              "4             0        1     0    0     0         0          0        0   \n",
              "\n",
              "   surprise  trust  \n",
              "0         0      1  \n",
              "1         0      0  \n",
              "2         0      0  \n",
              "3         0      0  \n",
              "4         0      0  "
            ],
            "text/html": [
              "\n",
              "  <div id=\"df-6dd43db6-9c8c-4267-831d-2373d7dda557\">\n",
              "    <div class=\"colab-df-container\">\n",
              "      <div>\n",
              "<style scoped>\n",
              "    .dataframe tbody tr th:only-of-type {\n",
              "        vertical-align: middle;\n",
              "    }\n",
              "\n",
              "    .dataframe tbody tr th {\n",
              "        vertical-align: top;\n",
              "    }\n",
              "\n",
              "    .dataframe thead th {\n",
              "        text-align: right;\n",
              "    }\n",
              "</style>\n",
              "<table border=\"1\" class=\"dataframe\">\n",
              "  <thead>\n",
              "    <tr style=\"text-align: right;\">\n",
              "      <th></th>\n",
              "      <th>ID</th>\n",
              "      <th>Tweet</th>\n",
              "      <th>anger</th>\n",
              "      <th>anticipation</th>\n",
              "      <th>disgust</th>\n",
              "      <th>fear</th>\n",
              "      <th>joy</th>\n",
              "      <th>love</th>\n",
              "      <th>optimism</th>\n",
              "      <th>pessimism</th>\n",
              "      <th>sadness</th>\n",
              "      <th>surprise</th>\n",
              "      <th>trust</th>\n",
              "    </tr>\n",
              "  </thead>\n",
              "  <tbody>\n",
              "    <tr>\n",
              "      <th>0</th>\n",
              "      <td>2017-En-21441</td>\n",
              "      <td>“Worry is a down payment on a problem you may ...</td>\n",
              "      <td>0</td>\n",
              "      <td>1</td>\n",
              "      <td>0</td>\n",
              "      <td>0</td>\n",
              "      <td>0</td>\n",
              "      <td>0</td>\n",
              "      <td>1</td>\n",
              "      <td>0</td>\n",
              "      <td>0</td>\n",
              "      <td>0</td>\n",
              "      <td>1</td>\n",
              "    </tr>\n",
              "    <tr>\n",
              "      <th>1</th>\n",
              "      <td>2017-En-31535</td>\n",
              "      <td>Whatever you decide to do make sure it makes y...</td>\n",
              "      <td>0</td>\n",
              "      <td>0</td>\n",
              "      <td>0</td>\n",
              "      <td>0</td>\n",
              "      <td>1</td>\n",
              "      <td>1</td>\n",
              "      <td>1</td>\n",
              "      <td>0</td>\n",
              "      <td>0</td>\n",
              "      <td>0</td>\n",
              "      <td>0</td>\n",
              "    </tr>\n",
              "    <tr>\n",
              "      <th>2</th>\n",
              "      <td>2017-En-21068</td>\n",
              "      <td>@Max_Kellerman  it also helps that the majorit...</td>\n",
              "      <td>1</td>\n",
              "      <td>0</td>\n",
              "      <td>1</td>\n",
              "      <td>0</td>\n",
              "      <td>1</td>\n",
              "      <td>0</td>\n",
              "      <td>1</td>\n",
              "      <td>0</td>\n",
              "      <td>0</td>\n",
              "      <td>0</td>\n",
              "      <td>0</td>\n",
              "    </tr>\n",
              "    <tr>\n",
              "      <th>3</th>\n",
              "      <td>2017-En-31436</td>\n",
              "      <td>Accept the challenges so that you can literall...</td>\n",
              "      <td>0</td>\n",
              "      <td>0</td>\n",
              "      <td>0</td>\n",
              "      <td>0</td>\n",
              "      <td>1</td>\n",
              "      <td>0</td>\n",
              "      <td>1</td>\n",
              "      <td>0</td>\n",
              "      <td>0</td>\n",
              "      <td>0</td>\n",
              "      <td>0</td>\n",
              "    </tr>\n",
              "    <tr>\n",
              "      <th>4</th>\n",
              "      <td>2017-En-22195</td>\n",
              "      <td>My roommate: it's okay that we can't spell bec...</td>\n",
              "      <td>1</td>\n",
              "      <td>0</td>\n",
              "      <td>1</td>\n",
              "      <td>0</td>\n",
              "      <td>0</td>\n",
              "      <td>0</td>\n",
              "      <td>0</td>\n",
              "      <td>0</td>\n",
              "      <td>0</td>\n",
              "      <td>0</td>\n",
              "      <td>0</td>\n",
              "    </tr>\n",
              "  </tbody>\n",
              "</table>\n",
              "</div>\n",
              "      <button class=\"colab-df-convert\" onclick=\"convertToInteractive('df-6dd43db6-9c8c-4267-831d-2373d7dda557')\"\n",
              "              title=\"Convert this dataframe to an interactive table.\"\n",
              "              style=\"display:none;\">\n",
              "        \n",
              "  <svg xmlns=\"http://www.w3.org/2000/svg\" height=\"24px\"viewBox=\"0 0 24 24\"\n",
              "       width=\"24px\">\n",
              "    <path d=\"M0 0h24v24H0V0z\" fill=\"none\"/>\n",
              "    <path d=\"M18.56 5.44l.94 2.06.94-2.06 2.06-.94-2.06-.94-.94-2.06-.94 2.06-2.06.94zm-11 1L8.5 8.5l.94-2.06 2.06-.94-2.06-.94L8.5 2.5l-.94 2.06-2.06.94zm10 10l.94 2.06.94-2.06 2.06-.94-2.06-.94-.94-2.06-.94 2.06-2.06.94z\"/><path d=\"M17.41 7.96l-1.37-1.37c-.4-.4-.92-.59-1.43-.59-.52 0-1.04.2-1.43.59L10.3 9.45l-7.72 7.72c-.78.78-.78 2.05 0 2.83L4 21.41c.39.39.9.59 1.41.59.51 0 1.02-.2 1.41-.59l7.78-7.78 2.81-2.81c.8-.78.8-2.07 0-2.86zM5.41 20L4 18.59l7.72-7.72 1.47 1.35L5.41 20z\"/>\n",
              "  </svg>\n",
              "      </button>\n",
              "      \n",
              "  <style>\n",
              "    .colab-df-container {\n",
              "      display:flex;\n",
              "      flex-wrap:wrap;\n",
              "      gap: 12px;\n",
              "    }\n",
              "\n",
              "    .colab-df-convert {\n",
              "      background-color: #E8F0FE;\n",
              "      border: none;\n",
              "      border-radius: 50%;\n",
              "      cursor: pointer;\n",
              "      display: none;\n",
              "      fill: #1967D2;\n",
              "      height: 32px;\n",
              "      padding: 0 0 0 0;\n",
              "      width: 32px;\n",
              "    }\n",
              "\n",
              "    .colab-df-convert:hover {\n",
              "      background-color: #E2EBFA;\n",
              "      box-shadow: 0px 1px 2px rgba(60, 64, 67, 0.3), 0px 1px 3px 1px rgba(60, 64, 67, 0.15);\n",
              "      fill: #174EA6;\n",
              "    }\n",
              "\n",
              "    [theme=dark] .colab-df-convert {\n",
              "      background-color: #3B4455;\n",
              "      fill: #D2E3FC;\n",
              "    }\n",
              "\n",
              "    [theme=dark] .colab-df-convert:hover {\n",
              "      background-color: #434B5C;\n",
              "      box-shadow: 0px 1px 3px 1px rgba(0, 0, 0, 0.15);\n",
              "      filter: drop-shadow(0px 1px 2px rgba(0, 0, 0, 0.3));\n",
              "      fill: #FFFFFF;\n",
              "    }\n",
              "  </style>\n",
              "\n",
              "      <script>\n",
              "        const buttonEl =\n",
              "          document.querySelector('#df-6dd43db6-9c8c-4267-831d-2373d7dda557 button.colab-df-convert');\n",
              "        buttonEl.style.display =\n",
              "          google.colab.kernel.accessAllowed ? 'block' : 'none';\n",
              "\n",
              "        async function convertToInteractive(key) {\n",
              "          const element = document.querySelector('#df-6dd43db6-9c8c-4267-831d-2373d7dda557');\n",
              "          const dataTable =\n",
              "            await google.colab.kernel.invokeFunction('convertToInteractive',\n",
              "                                                     [key], {});\n",
              "          if (!dataTable) return;\n",
              "\n",
              "          const docLinkHtml = 'Like what you see? Visit the ' +\n",
              "            '<a target=\"_blank\" href=https://colab.research.google.com/notebooks/data_table.ipynb>data table notebook</a>'\n",
              "            + ' to learn more about interactive tables.';\n",
              "          element.innerHTML = '';\n",
              "          dataTable['output_type'] = 'display_data';\n",
              "          await google.colab.output.renderOutput(dataTable, element);\n",
              "          const docLink = document.createElement('div');\n",
              "          docLink.innerHTML = docLinkHtml;\n",
              "          element.appendChild(docLink);\n",
              "        }\n",
              "      </script>\n",
              "    </div>\n",
              "  </div>\n",
              "  "
            ]
          },
          "metadata": {},
          "execution_count": 4
        }
      ]
    },
    {
      "cell_type": "markdown",
      "source": [
        "##Pre-Process"
      ],
      "metadata": {
        "id": "71W25QA2ujM0"
      }
    },
    {
      "cell_type": "code",
      "source": [
        "# Dictionary Contractions\n",
        "dictionary = {\n",
        "  \"ain't\": \"am not\",\n",
        "  \"aren't\": \"are not\",\n",
        "  \"can't\": \"cannot\",\n",
        "  \"can't've\": \"cannot have\",\n",
        "  \"'cause\": \"because\",\n",
        "  \"could've\": \"could have\",\n",
        "  \"couldn't\": \"could not\",\n",
        "  \"couldn't've\": \"could not have\",\n",
        "  \"didn't\": \"did not\",\n",
        "  \"doesn't\": \"does not\",\n",
        "  \"don't\": \"do not\",\n",
        "  \"hadn't\": \"had not\",\n",
        "  \"hadn't've\": \"had not have\",\n",
        "  \"hasn't\": \"has not\",\n",
        "  \"haven't\": \"have not\",\n",
        "  \"he'd\": \"he would\",\n",
        "  \"he'd've\": \"he would have\",\n",
        "  \"he'll\": \"he will\",\n",
        "  \"he'll've\": \"he will have\",\n",
        "  \"he's\": \"he is\",\n",
        "  \"how'd\": \"how did\",\n",
        "  \"how'd'y\": \"how do you\",\n",
        "  \"how'll\": \"how will\",\n",
        "  \"how's\": \"how is\",\n",
        "  \"I'd\": \"I would\",\n",
        "  \"I'd've\": \"I would have\",\n",
        "  \"I'll\": \"I will\",\n",
        "  \"I'll've\": \"I will have\",\n",
        "  \"I'm\": \"I am\",\n",
        "  \"I've\": \"I have\",\n",
        "  \"isn't\": \"is not\",\n",
        "  \"it'd\": \"it had\",\n",
        "  \"it'd've\": \"it would have\",\n",
        "  \"it'll\": \"it will\",\n",
        "  \"it'll've\": \"it will have\",\n",
        "  \"it's\": \"it is\",\n",
        "  \"let's\": \"let us\",\n",
        "  \"ma'am\": \"madam\",\n",
        "  \"mayn't\": \"may not\",\n",
        "  \"might've\": \"might have\",\n",
        "  \"mightn't\": \"might not\",\n",
        "  \"mightn't've\": \"might not have\",\n",
        "  \"must've\": \"must have\",\n",
        "  \"mustn't\": \"must not\",\n",
        "  \"mustn't've\": \"must not have\",\n",
        "  \"needn't\": \"need not\",\n",
        "  \"needn't've\": \"need not have\",\n",
        "  \"o'clock\": \"of the clock\",\n",
        "  \"oughtn't\": \"ought not\",\n",
        "  \"oughtn't've\": \"ought not have\",\n",
        "  \"shan't\": \"shall not\",\n",
        "  \"sha'n't\": \"shall not\",\n",
        "  \"shan't've\": \"shall not have\",\n",
        "  \"she'd\": \"she would\",\n",
        "  \"she'd've\": \"she would have\",\n",
        "  \"she'll\": \"she will\",\n",
        "  \"she'll've\": \"she will have\",\n",
        "  \"she's\": \"she is\",\n",
        "  \"should've\": \"should have\",\n",
        "  \"shouldn't\": \"should not\",\n",
        "  \"shouldn't've\": \"should not have\",\n",
        "  \"so've\": \"so have\",\n",
        "  \"so's\": \"so is\",\n",
        "  \"that'd\": \"that would\",\n",
        "  \"that'd've\": \"that would have\",\n",
        "  \"that's\": \"that is\",\n",
        "  \"there'd\": \"there had\",\n",
        "  \"there'd've\": \"there would have\",\n",
        "  \"there's\": \"there is\",\n",
        "  \"they'd\": \"they would\",\n",
        "  \"they'd've\": \"they would have\",\n",
        "  \"they'll\": \"they will\",\n",
        "  \"they'll've\": \"they will have\",\n",
        "  \"they're\": \"they are\",\n",
        "  \"they've\": \"they have\",\n",
        "  \"to've\": \"to have\",\n",
        "  \"wasn't\": \"was not\",\n",
        "  \"we'd\": \"we had\",\n",
        "  \"we'd've\": \"we would have\",\n",
        "  \"we'll\": \"we will\",\n",
        "  \"we'll've\": \"we will have\",\n",
        "  \"we're\": \"we are\",\n",
        "  \"we've\": \"we have\",\n",
        "  \"weren't\": \"were not\",\n",
        "  \"what'll\": \"what will\",\n",
        "  \"what'll've\": \"what will have\",\n",
        "  \"what're\": \"what are\",\n",
        "  \"what's\": \"what is\",\n",
        "  \"what've\": \"what have\",\n",
        "  \"when's\": \"when is\",\n",
        "  \"when've\": \"when have\",\n",
        "  \"where'd\": \"where did\",\n",
        "  \"where's\": \"where is\",\n",
        "  \"where've\": \"where have\",\n",
        "  \"who'll\": \"who will\",\n",
        "  \"who'll've\": \"who will have\",\n",
        "  \"who's\": \"who is\",\n",
        "  \"who've\": \"who have\",\n",
        "  \"why's\": \"why is\",\n",
        "  \"why've\": \"why have\",\n",
        "  \"will've\": \"will have\",\n",
        "  \"won't\": \"will not\",\n",
        "  \"won't've\": \"will not have\",\n",
        "  \"would've\": \"would have\",\n",
        "  \"wouldn't\": \"would not\",\n",
        "  \"wouldn't've\": \"would not have\",\n",
        "  \"y'all\": \"you all\",\n",
        "  \"y'alls\": \"you alls\",\n",
        "  \"y'all'd\": \"you all would\",\n",
        "  \"y'all'd've\": \"you all would have\",\n",
        "  \"y'all're\": \"you all are\",\n",
        "  \"y'all've\": \"you all have\",\n",
        "  \"you'd\": \"you had\",\n",
        "  \"you'd've\": \"you would have\",\n",
        "  \"you'll\": \"you you will\",\n",
        "  \"you'll've\": \"you you will have\",\n",
        "  \"you're\": \"you are\",\n",
        "  \"you've\": \"you have\"\n",
        "}"
      ],
      "metadata": {
        "id": "CtGq_DdiF4hT"
      },
      "execution_count": null,
      "outputs": []
    },
    {
      "cell_type": "code",
      "source": [
        "# replace space to _\n",
        "def re_encode_space(inputs):\n",
        "  return None if pd.isna(inputs)else inputs.replace('%20', '_')\n",
        "# replace # to ''\n",
        "def find_hash_tag(inputs):\n",
        "  return None if pd.isna(inputs)else inputs.replace('#', '')\n",
        "def remove_url(inputs):\n",
        "  res = inputs\n",
        "  urls = re.findall(r'(https?://[^\\s]+)', res)\n",
        "  for url in urls:\n",
        "    res = res.strip(url)\n",
        "  return res\n",
        "'''\n",
        "states = {\n",
        "        'AK': 'Alaska',\n",
        "        'AL': 'Alabama',\n",
        "        'AR': 'Arkansas',\n",
        "        'AZ': 'Arizona',\n",
        "        'CA': 'California',\n",
        "        'CO': 'Colorado',\n",
        "        'CT': 'Connecticut',\n",
        "        'DC': 'District_of_Columbia',\n",
        "        'DE': 'Delaware',\n",
        "        'FL': 'Florida',\n",
        "        'GA': 'Georgia',\n",
        "        'HI': 'Hawaii',\n",
        "        'IA': 'Iowa',\n",
        "        'ID': 'Idaho',\n",
        "        'IL': 'Illinois',\n",
        "        'IN': 'Indiana',\n",
        "        'KS': 'Kansas',\n",
        "        'KY': 'Kentucky',\n",
        "        'LA': 'Louisiana',\n",
        "        'MA': 'Massachusetts',\n",
        "        'MD': 'Maryland',\n",
        "        'ME': 'Maine',\n",
        "        'MI': 'Michigan',\n",
        "        'MN': 'Minnesota',\n",
        "        'MO': 'Missouri',\n",
        "        'MS': 'Mississippi',\n",
        "        'MT': 'Montana',\n",
        "        'NC': 'North_Carolina',\n",
        "        'ND': 'North_Dakota',\n",
        "        'NE': 'Nebraska',\n",
        "        'NH': 'New_Hampshire',\n",
        "        'NJ': 'New_Jersey',\n",
        "        'NM': 'New_Mexico',\n",
        "        'NV': 'Nevada',\n",
        "        'NY': 'New_York',\n",
        "        'OH': 'Ohio',\n",
        "        'OK': 'Oklahoma',\n",
        "        'OR': 'Oregon',\n",
        "        'PA': 'Pennsylvania',\n",
        "        'RI': 'Rhode_Island',\n",
        "        'SC': 'South_Carolina',\n",
        "        'SD': 'South_Dakota',\n",
        "        'TN': 'Tennessee',\n",
        "        'TX': 'Texas',\n",
        "        'UT': 'Utah',\n",
        "        'VA': 'Virginia',\n",
        "        'VT': 'Vermont',\n",
        "        'WA': 'Washington',\n",
        "        'WI': 'Wisconsin',\n",
        "        'WV': 'West_Virginia',\n",
        "        'WY': 'Wyoming'\n",
        "    }\n",
        "\n",
        "def rename_states(inputs):\n",
        "  results = inputs\n",
        "  if isinstance(inputs, str):\n",
        "    input_list = inputs.split(', ')\n",
        "    if len(input_list) >1:\n",
        "      for each in input_list:\n",
        "        if each in states.keys():\n",
        "          result = states[each]\n",
        "  if inputs in states.keys():\n",
        "      result = states[inputs]\n",
        "  return results\n",
        "'''\n",
        "def preprocess(data):\n",
        "    data['Tweet'] = data['Tweet'].map(re_encode_space)\n",
        "    #data['location'] = data['location'].map(rename_states)\n",
        "    data['Tweet'] = data['Tweet'].map(find_hash_tag)\n",
        "    data['Tweet'] = data['Tweet'].map(re_encode_space)\n",
        "    data['Tweet'] = data['Tweet'].map(remove_url)\n",
        "    return data"
      ],
      "metadata": {
        "id": "x3F8qAb_ILfd"
      },
      "execution_count": null,
      "outputs": []
    },
    {
      "cell_type": "code",
      "source": [
        "train_data = preprocess(train_data)\n",
        "validate_data = preprocess(validate_data)\n",
        "test_data = preprocess(test_data)"
      ],
      "metadata": {
        "id": "H5e91O02IRLC"
      },
      "execution_count": null,
      "outputs": []
    },
    {
      "cell_type": "code",
      "source": [
        "train_data.columns"
      ],
      "metadata": {
        "colab": {
          "base_uri": "https://localhost:8080/"
        },
        "id": "ELgJER2EIXQz",
        "outputId": "03ecc5bf-f1d1-4241-af92-5c014a63221c"
      },
      "execution_count": null,
      "outputs": [
        {
          "output_type": "execute_result",
          "data": {
            "text/plain": [
              "Index(['ID', 'Tweet', 'anger', 'anticipation', 'disgust', 'fear', 'joy',\n",
              "       'love', 'optimism', 'pessimism', 'sadness', 'surprise', 'trust'],\n",
              "      dtype='object')"
            ]
          },
          "metadata": {},
          "execution_count": 8
        }
      ]
    },
    {
      "cell_type": "markdown",
      "source": [
        "##Load the Universal Sentence Encoder's TF Hub module/Embeddings"
      ],
      "metadata": {
        "id": "CmdOWI6SuoDU"
      }
    },
    {
      "cell_type": "code",
      "source": [
        "import tensorflow_hub as hub\n",
        "from tqdm import tqdm\n",
        "import random\n",
        "\n",
        "#embed = hub.Module(module_name)\n",
        "embed = hub.load(\"https://tfhub.dev/google/universal-sentence-encoder/4\")\n",
        "#tf.logging.set_verbosity(tf.logging.ERROR)\n",
        "\n",
        "#with tf.Session() as sess:\n",
        " # sess.run([tf.global_variables_initializer(), tf.tables_initializer()])\n",
        "  #tweet_embeddings = sess.run(embed(tweets))\n",
        "\n",
        "\n",
        "embeddings = embed(train_data['Tweet'])\n",
        "  \n",
        "# Printing embeddings of each sentence\n",
        "print(embeddings)\n",
        "  \n",
        "# To print each embeddings along with its corresponding \n",
        "# sentence below code can be used.\n",
        "#for i in range(len(Sentences)):\n",
        "    #print(Sentences[i])\n",
        "#print(embeddings[i]"
      ],
      "metadata": {
        "colab": {
          "base_uri": "https://localhost:8080/"
        },
        "id": "13vLk-vWUhvX",
        "outputId": "80713db1-e193-4084-d217-265f4ed9531b"
      },
      "execution_count": null,
      "outputs": [
        {
          "output_type": "stream",
          "name": "stdout",
          "text": [
            "tf.Tensor(\n",
            "[[ 0.05831299 -0.08564215  0.07208876 ...  0.04544399 -0.00846181\n",
            "   0.04357844]\n",
            " [ 0.02213053 -0.08807905 -0.00262366 ...  0.02526037  0.03014448\n",
            "   0.03345627]\n",
            " [-0.02295074 -0.06009634 -0.0162114  ...  0.00468202 -0.08364673\n",
            "   0.06327431]\n",
            " ...\n",
            " [-0.02795251 -0.01979471  0.01343259 ...  0.03856245 -0.08078706\n",
            "  -0.03040089]\n",
            " [-0.01121317  0.0489686   0.04387465 ... -0.02655715  0.01865145\n",
            "  -0.03776171]\n",
            " [ 0.00184264  0.01618026  0.04035627 ...  0.00273601  0.09408741\n",
            "  -0.0102888 ]], shape=(6838, 512), dtype=float32)\n"
          ]
        }
      ]
    },
    {
      "cell_type": "code",
      "source": [
        "import numpy as np\n",
        "trainLabels = np.asarray(train_data.drop(['ID', 'Tweet'], axis=1))\n",
        "valLabels = np.asarray(validate_data.drop(['ID', 'Tweet'], axis=1))\n",
        "testLabels = np.asarray(test_data.drop(['ID', 'Tweet'], axis=1))"
      ],
      "metadata": {
        "id": "jETe_GNboPJc"
      },
      "execution_count": null,
      "outputs": []
    },
    {
      "cell_type": "code",
      "source": [
        "#Validate Data \n",
        "\n",
        "import tensorflow_hub as hub\n",
        "from tqdm import tqdm\n",
        "import random\n",
        "\n",
        "#embed = hub.Module(module_name)\n",
        "embed = hub.load(\"https://tfhub.dev/google/universal-sentence-encoder/4\")\n",
        "#tf.logging.set_verbosity(tf.logging.ERROR)\n",
        "\n",
        "#with tf.Session() as sess:\n",
        " # sess.run([tf.global_variables_initializer(), tf.tables_initializer()])\n",
        "  #tweet_embeddings = sess.run(embed(tweets))\n",
        "\n",
        "\n",
        "embeddings2 = embed(validate_data['Tweet'])\n",
        "  \n",
        "# Printing embeddings of each sentence\n",
        "print(embeddings2)\n",
        "  \n",
        "# To print each embeddings along with its corresponding \n",
        "# sentence below code can be used.\n",
        "#for i in range(len(Sentences)):\n",
        "    #print(Sentences[i])\n",
        "#print(embeddings[i]"
      ],
      "metadata": {
        "colab": {
          "base_uri": "https://localhost:8080/"
        },
        "id": "MD0sCWq9Mbyg",
        "outputId": "9720c23c-13f8-4017-eecb-5d9a9bce3a7a"
      },
      "execution_count": null,
      "outputs": [
        {
          "output_type": "stream",
          "name": "stdout",
          "text": [
            "tf.Tensor(\n",
            "[[-7.0955068e-02  2.4073077e-02 -2.9824460e-02 ...  2.6820412e-02\n",
            "  -1.3025089e-03 -7.4301101e-02]\n",
            " [ 1.2918153e-02  3.3687457e-02  1.2676582e-02 ...  7.3239684e-02\n",
            "  -9.1664661e-03 -2.0570178e-03]\n",
            " [-4.3388374e-02 -4.4319388e-03  8.5959762e-02 ...  1.8101277e-02\n",
            "  -5.6865744e-02 -2.5462776e-02]\n",
            " ...\n",
            " [-8.8837035e-03 -9.3503911e-03  7.9718061e-02 ...  7.2957710e-03\n",
            "  -7.9584830e-02 -3.5162240e-03]\n",
            " [ 6.9224961e-02 -4.9068987e-02 -7.1377404e-02 ...  6.7429908e-02\n",
            "   8.1429553e-06 -2.2430796e-02]\n",
            " [ 3.7451491e-02 -3.1955201e-02  8.1476606e-03 ...  5.6102246e-02\n",
            "  -5.2421696e-02 -3.3267118e-02]], shape=(886, 512), dtype=float32)\n"
          ]
        }
      ]
    },
    {
      "cell_type": "code",
      "source": [
        "#Test Data \n",
        "\n",
        "import tensorflow_hub as hub\n",
        "from tqdm import tqdm\n",
        "import random\n",
        "\n",
        "#embed = hub.Module(module_name)\n",
        "embed = hub.load(\"https://tfhub.dev/google/universal-sentence-encoder/4\")\n",
        "#tf.logging.set_verbosity(tf.logging.ERROR)\n",
        "\n",
        "#with tf.Session() as sess:\n",
        " # sess.run([tf.global_variables_initializer(), tf.tables_initializer()])\n",
        "  #tweet_embeddings = sess.run(embed(tweets))\n",
        "\n",
        "\n",
        "embeddings3 = embed(test_data['Tweet'])\n",
        "  \n",
        "# Printing embeddings of each sentence\n",
        "print(embeddings3)\n",
        "  \n",
        "# To print each embeddings along with its corresponding \n",
        "# sentence below code can be used.\n",
        "#for i in range(len(Sentences)):\n",
        "    #print(Sentences[i])\n",
        "#print(embeddings[i]"
      ],
      "metadata": {
        "colab": {
          "base_uri": "https://localhost:8080/"
        },
        "id": "3TXi1-58NPea",
        "outputId": "36ef9454-d119-4417-dfa3-dcc3dca5f033"
      },
      "execution_count": null,
      "outputs": [
        {
          "output_type": "stream",
          "name": "stdout",
          "text": [
            "tf.Tensor(\n",
            "[[-0.00890528 -0.00222597  0.04193129 ...  0.00385687 -0.02500606\n",
            "  -0.08748522]\n",
            " [ 0.02161373  0.0360981  -0.0081088  ... -0.01441662 -0.02910302\n",
            "   0.05285763]\n",
            " [ 0.02945493 -0.03678257 -0.05348609 ... -0.04963359 -0.00480231\n",
            "  -0.01265686]\n",
            " ...\n",
            " [-0.0304816   0.01671644 -0.0128704  ... -0.0287571  -0.01690046\n",
            "  -0.00341388]\n",
            " [-0.03020052 -0.03958534  0.07012037 ... -0.0447604  -0.04334401\n",
            "  -0.01711201]\n",
            " [ 0.06771437 -0.00038882 -0.05870095 ...  0.0176534  -0.04683185\n",
            "  -0.01158954]], shape=(3259, 512), dtype=float32)\n"
          ]
        }
      ]
    },
    {
      "cell_type": "markdown",
      "source": [
        "##Random Forest Classifier / MultiOutputClassifier"
      ],
      "metadata": {
        "id": "eu5zia-EvADZ"
      }
    },
    {
      "cell_type": "code",
      "source": [
        "from sklearn.datasets import make_classification\n",
        "from sklearn.multioutput import MultiOutputClassifier\n",
        "from sklearn.ensemble import RandomForestClassifier\n",
        "from sklearn.utils import shuffle\n",
        "import numpy as np\n",
        "\n",
        "\n",
        "forest = RandomForestClassifier(random_state=1)\n",
        "multi_target_forest = MultiOutputClassifier(forest, n_jobs=2)\n",
        "multi_target_forest.fit(embeddings, trainLabels)"
      ],
      "metadata": {
        "colab": {
          "base_uri": "https://localhost:8080/"
        },
        "id": "pZ-0DbjsNh6Q",
        "outputId": "c7951cb4-de5a-43cd-acad-981d8510556c"
      },
      "execution_count": null,
      "outputs": [
        {
          "output_type": "execute_result",
          "data": {
            "text/plain": [
              "MultiOutputClassifier(estimator=RandomForestClassifier(random_state=1),\n",
              "                      n_jobs=2)"
            ]
          },
          "metadata": {},
          "execution_count": 13
        }
      ]
    },
    {
      "cell_type": "code",
      "source": [
        "val_preds = multi_target_forest.predict(embeddings2)"
      ],
      "metadata": {
        "id": "vicrro1X1QBW"
      },
      "execution_count": null,
      "outputs": []
    },
    {
      "cell_type": "code",
      "source": [
        "import time\n",
        "start = time.time()\n",
        "test_preds = multi_target_forest.predict(embeddings3)\n",
        "end = time.time()\n",
        "dur = end-start\n",
        "print(dur)\n"
      ],
      "metadata": {
        "colab": {
          "base_uri": "https://localhost:8080/"
        },
        "id": "NYCl352OwviC",
        "outputId": "f5363e83-3619-4a2f-e563-7838739c8d49"
      },
      "execution_count": null,
      "outputs": [
        {
          "output_type": "stream",
          "name": "stdout",
          "text": [
            "2.028046131134033\n"
          ]
        }
      ]
    },
    {
      "cell_type": "code",
      "source": [
        "params = multi_target_forest.get_params()"
      ],
      "metadata": {
        "id": "TVsE0uafxSKT"
      },
      "execution_count": null,
      "outputs": []
    },
    {
      "cell_type": "code",
      "execution_count": null,
      "metadata": {
        "id": "0nuw96hOx2dB"
      },
      "outputs": [],
      "source": [
        "height=[]\n",
        "totalNoTrees=0\n",
        "for rf in multi_target_forest.estimators_:\n",
        "  for estimator in rf:\n",
        "    height.append(estimator.tree_.max_depth)\n",
        "    totalNoTrees +=1"
      ]
    },
    {
      "cell_type": "code",
      "source": [
        "sum(height)"
      ],
      "metadata": {
        "colab": {
          "base_uri": "https://localhost:8080/"
        },
        "outputId": "4b9a5be7-1cbc-47cc-d97d-f70e812c7bc9",
        "id": "ubDFamoBuGXL"
      },
      "execution_count": null,
      "outputs": [
        {
          "output_type": "execute_result",
          "data": {
            "text/plain": [
              "38111"
            ]
          },
          "metadata": {},
          "execution_count": 52
        }
      ]
    },
    {
      "cell_type": "markdown",
      "source": [
        "##Jaccard Score"
      ],
      "metadata": {
        "id": "jBj6dArVvKbm"
      }
    },
    {
      "cell_type": "code",
      "source": [
        "from sklearn.metrics import jaccard_score\n",
        "jaccard_score(valLabels, val_preds, average=\"samples\")"
      ],
      "metadata": {
        "colab": {
          "base_uri": "https://localhost:8080/"
        },
        "id": "p6LdNh2rqubg",
        "outputId": "97b7a013-ac07-4b5c-920d-18f83324229b"
      },
      "execution_count": null,
      "outputs": [
        {
          "output_type": "stream",
          "name": "stderr",
          "text": [
            "/usr/local/lib/python3.7/dist-packages/sklearn/metrics/_classification.py:1318: UndefinedMetricWarning: Jaccard is ill-defined and being set to 0.0 in samples with no true or predicted labels. Use `zero_division` parameter to control this behavior.\n",
            "  _warn_prf(average, modifier, msg_start, len(result))\n"
          ]
        },
        {
          "output_type": "execute_result",
          "data": {
            "text/plain": [
              "0.38664409330323546"
            ]
          },
          "metadata": {},
          "execution_count": 26
        }
      ]
    },
    {
      "cell_type": "code",
      "source": [
        "test_preds = multi_target_forest.predict(embeddings3)"
      ],
      "metadata": {
        "id": "ahz_-mCI1sii"
      },
      "execution_count": null,
      "outputs": []
    },
    {
      "cell_type": "code",
      "source": [
        "from sklearn.metrics import jaccard_score\n",
        "jaccard_score(testLabels, test_preds, average=\"samples\")"
      ],
      "metadata": {
        "colab": {
          "base_uri": "https://localhost:8080/"
        },
        "id": "GBcAZsEp1sti",
        "outputId": "6cb4ee6f-4bbb-42be-cac2-bc493b2c0a21"
      },
      "execution_count": null,
      "outputs": [
        {
          "output_type": "stream",
          "name": "stderr",
          "text": [
            "/usr/local/lib/python3.7/dist-packages/sklearn/metrics/_classification.py:1318: UndefinedMetricWarning: Jaccard is ill-defined and being set to 0.0 in samples with no true or predicted labels. Use `zero_division` parameter to control this behavior.\n",
            "  _warn_prf(average, modifier, msg_start, len(result))\n"
          ]
        },
        {
          "output_type": "execute_result",
          "data": {
            "text/plain": [
              "0.38341296629114974"
            ]
          },
          "metadata": {},
          "execution_count": 28
        }
      ]
    },
    {
      "cell_type": "markdown",
      "metadata": {
        "id": "IYo4VSHBY00y"
      },
      "source": [
        "#BERT\n"
      ]
    },
    {
      "cell_type": "markdown",
      "metadata": {
        "id": "41xHDkFWpqMK"
      },
      "source": [
        "##Data Loading and package installation"
      ]
    },
    {
      "cell_type": "code",
      "execution_count": null,
      "metadata": {
        "colab": {
          "base_uri": "https://localhost:8080/"
        },
        "id": "F4J-Kkm2t9Md",
        "outputId": "ab19cda7-8fa6-4402-c622-918646d31368"
      },
      "outputs": [
        {
          "name": "stdout",
          "output_type": "stream",
          "text": [
            "Looking in indexes: https://pypi.org/simple, https://us-python.pkg.dev/colab-wheels/public/simple/\n",
            "Collecting transformers\n",
            "  Downloading transformers-4.19.4-py3-none-any.whl (4.2 MB)\n",
            "\u001b[K     |████████████████████████████████| 4.2 MB 5.3 MB/s \n",
            "\u001b[?25hRequirement already satisfied: filelock in /usr/local/lib/python3.7/dist-packages (from transformers) (3.7.0)\n",
            "Collecting pyyaml>=5.1\n",
            "  Downloading PyYAML-6.0-cp37-cp37m-manylinux_2_5_x86_64.manylinux1_x86_64.manylinux_2_12_x86_64.manylinux2010_x86_64.whl (596 kB)\n",
            "\u001b[K     |████████████████████████████████| 596 kB 29.2 MB/s \n",
            "\u001b[?25hCollecting huggingface-hub<1.0,>=0.1.0\n",
            "  Downloading huggingface_hub-0.7.0-py3-none-any.whl (86 kB)\n",
            "\u001b[K     |████████████████████████████████| 86 kB 2.8 MB/s \n",
            "\u001b[?25hCollecting tokenizers!=0.11.3,<0.13,>=0.11.1\n",
            "  Downloading tokenizers-0.12.1-cp37-cp37m-manylinux_2_12_x86_64.manylinux2010_x86_64.whl (6.6 MB)\n",
            "\u001b[K     |████████████████████████████████| 6.6 MB 31.4 MB/s \n",
            "\u001b[?25hRequirement already satisfied: tqdm>=4.27 in /usr/local/lib/python3.7/dist-packages (from transformers) (4.64.0)\n",
            "Requirement already satisfied: numpy>=1.17 in /usr/local/lib/python3.7/dist-packages (from transformers) (1.21.6)\n",
            "Requirement already satisfied: requests in /usr/local/lib/python3.7/dist-packages (from transformers) (2.23.0)\n",
            "Requirement already satisfied: regex!=2019.12.17 in /usr/local/lib/python3.7/dist-packages (from transformers) (2019.12.20)\n",
            "Requirement already satisfied: packaging>=20.0 in /usr/local/lib/python3.7/dist-packages (from transformers) (21.3)\n",
            "Requirement already satisfied: importlib-metadata in /usr/local/lib/python3.7/dist-packages (from transformers) (4.11.4)\n",
            "Requirement already satisfied: typing-extensions>=3.7.4.3 in /usr/local/lib/python3.7/dist-packages (from huggingface-hub<1.0,>=0.1.0->transformers) (4.2.0)\n",
            "Requirement already satisfied: pyparsing!=3.0.5,>=2.0.2 in /usr/local/lib/python3.7/dist-packages (from packaging>=20.0->transformers) (3.0.9)\n",
            "Requirement already satisfied: zipp>=0.5 in /usr/local/lib/python3.7/dist-packages (from importlib-metadata->transformers) (3.8.0)\n",
            "Requirement already satisfied: idna<3,>=2.5 in /usr/local/lib/python3.7/dist-packages (from requests->transformers) (2.10)\n",
            "Requirement already satisfied: chardet<4,>=3.0.2 in /usr/local/lib/python3.7/dist-packages (from requests->transformers) (3.0.4)\n",
            "Requirement already satisfied: certifi>=2017.4.17 in /usr/local/lib/python3.7/dist-packages (from requests->transformers) (2022.5.18.1)\n",
            "Requirement already satisfied: urllib3!=1.25.0,!=1.25.1,<1.26,>=1.21.1 in /usr/local/lib/python3.7/dist-packages (from requests->transformers) (1.24.3)\n",
            "Installing collected packages: pyyaml, tokenizers, huggingface-hub, transformers\n",
            "  Attempting uninstall: pyyaml\n",
            "    Found existing installation: PyYAML 3.13\n",
            "    Uninstalling PyYAML-3.13:\n",
            "      Successfully uninstalled PyYAML-3.13\n",
            "Successfully installed huggingface-hub-0.7.0 pyyaml-6.0 tokenizers-0.12.1 transformers-4.19.4\n"
          ]
        }
      ],
      "source": [
        "!pip install transformers"
      ]
    },
    {
      "cell_type": "code",
      "execution_count": null,
      "metadata": {
        "id": "95Hf8LMCt_Pd"
      },
      "outputs": [],
      "source": [
        "import pandas as pd\n",
        "import numpy as np\n",
        "import matplotlib.pyplot as plt\n",
        "import seaborn as sns\n",
        "import re\n",
        "from transformers import BertModel,BertTokenizer\n",
        "import pickle \n",
        "from keras.layers import Dense, Embedding, GRU, Bidirectional, LSTM, SimpleRNN, Input\n",
        "from keras.preprocessing.text import Tokenizer\n",
        "from keras.models import Sequential, Model\n",
        "from keras.preprocessing.sequence import pad_sequences\n",
        "from keras import optimizers\n",
        "import spacy\n",
        "from keras.callbacks import EarlyStopping\n",
        "from keras.initializers import Constant\n",
        "import sys\n"
      ]
    },
    {
      "cell_type": "code",
      "execution_count": null,
      "metadata": {
        "colab": {
          "base_uri": "https://localhost:8080/"
        },
        "id": "YHA5-w2vtlpE",
        "outputId": "a310a5eb-e107-4518-ab73-d071c243dcb6"
      },
      "outputs": [
        {
          "name": "stdout",
          "output_type": "stream",
          "text": [
            "Mounted at /content/gdrive\n"
          ]
        }
      ],
      "source": [
        "from google.colab import drive\n",
        "drive.mount('/content/gdrive')"
      ]
    },
    {
      "cell_type": "code",
      "execution_count": null,
      "metadata": {
        "colab": {
          "base_uri": "https://localhost:8080/"
        },
        "id": "C3m8CUvbtqf4",
        "outputId": "ee20dcc1-ce0d-4359-e8f5-1a5f74ce2546"
      },
      "outputs": [
        {
          "name": "stdout",
          "output_type": "stream",
          "text": [
            "/content/gdrive/MyDrive/cs263projectteam/final_data\n"
          ]
        }
      ],
      "source": [
        "%cd /content/gdrive/MyDrive/cs263projectteam/final_data"
      ]
    },
    {
      "cell_type": "code",
      "execution_count": null,
      "metadata": {
        "id": "VrQQ0cUqazOB"
      },
      "outputs": [],
      "source": [
        "train_data = pd.read_csv(\"2018-E-c-En-train.csv\",sep=\"\t\")\n",
        "validate_data =  pd.read_csv(\"2018-E-c-En-dev.txt\", sep= \"\t\")\n",
        "test_data =  pd.read_csv(\"2018-E-c-En-test-gold.txt\", sep= \"\t\")"
      ]
    },
    {
      "cell_type": "code",
      "execution_count": null,
      "metadata": {
        "colab": {
          "base_uri": "https://localhost:8080/"
        },
        "id": "-qfsibgmf0cJ",
        "outputId": "bed3e815-5ed1-400b-d669-a7f3d1e1ad56"
      },
      "outputs": [
        {
          "name": "stdout",
          "output_type": "stream",
          "text": [
            "No of Train Data duplicates is 0\n",
            "No of Develop Data duplicates is 0\n"
          ]
        }
      ],
      "source": [
        "#Duplicate check\n",
        "noDuplicates = len(train_data['Tweet'])-len(train_data['Tweet'].drop_duplicates())\n",
        "print(\"No of Train Data duplicates is {}\".format(noDuplicates))\n",
        "noDuplicates = len(validate_data['Tweet'])-len(validate_data['Tweet'].drop_duplicates())\n",
        "print(\"No of Develop Data duplicates is {}\".format(noDuplicates))\n"
      ]
    },
    {
      "cell_type": "code",
      "execution_count": null,
      "metadata": {
        "colab": {
          "base_uri": "https://localhost:8080/"
        },
        "id": "H7q4zboooT91",
        "outputId": "2fb9551f-5d55-4f04-c606-6695b8c6b112"
      },
      "outputs": [
        {
          "name": "stdout",
          "output_type": "stream",
          "text": [
            "total length 6838\n",
            "anger 2544\n",
            "anticipation 978\n",
            "disgust 2602\n",
            "fear 1242\n",
            "joy 2477\n",
            "love 700\n",
            "optimism 1984\n",
            "pessimism 795\n",
            "sadness 2008\n",
            "surprise 361\n",
            "trust 357\n"
          ]
        }
      ],
      "source": [
        "#each target check\n",
        "emotions = train_data.columns[2:]\n",
        "print(\"total length\",len(train_data))\n",
        "for emotion in emotions:\n",
        "  print(emotion,sum(train_data[emotion]==1))"
      ]
    },
    {
      "cell_type": "markdown",
      "metadata": {
        "id": "Q0C_QGecpztZ"
      },
      "source": [
        "##Data Cleaning Process\n"
      ]
    },
    {
      "cell_type": "markdown",
      "metadata": {
        "id": "qblXz3vjt9sC"
      },
      "source": [
        "### Remove space, hash_tag, url,"
      ]
    },
    {
      "cell_type": "code",
      "execution_count": null,
      "metadata": {
        "id": "mAufdumytYWe"
      },
      "outputs": [],
      "source": [
        "# replace space to _\n",
        "def re_encode_space(inputs):\n",
        "  return None if pd.isna(inputs)else inputs.replace('%20', '_')\n",
        "# replace # to ''\n",
        "def find_hash_tag(inputs):\n",
        "  return None if pd.isna(inputs)else inputs.replace('#', '')\n",
        "def remove_url(inputs):\n",
        "  res = inputs\n",
        "  urls = re.findall(r'(https?://[^\\s]+)', res)\n",
        "  for url in urls:\n",
        "    res = res.strip(url)\n",
        "  return res\n",
        "'''\n",
        "states = {\n",
        "        'AK': 'Alaska',\n",
        "        'AL': 'Alabama',\n",
        "        'AR': 'Arkansas',\n",
        "        'AZ': 'Arizona',\n",
        "        'CA': 'California',\n",
        "        'CO': 'Colorado',\n",
        "        'CT': 'Connecticut',\n",
        "        'DC': 'District_of_Columbia',\n",
        "        'DE': 'Delaware',\n",
        "        'FL': 'Florida',\n",
        "        'GA': 'Georgia',\n",
        "        'HI': 'Hawaii',\n",
        "        'IA': 'Iowa',\n",
        "        'ID': 'Idaho',\n",
        "        'IL': 'Illinois',\n",
        "        'IN': 'Indiana',\n",
        "        'KS': 'Kansas',\n",
        "        'KY': 'Kentucky',\n",
        "        'LA': 'Louisiana',\n",
        "        'MA': 'Massachusetts',\n",
        "        'MD': 'Maryland',\n",
        "        'ME': 'Maine',\n",
        "        'MI': 'Michigan',\n",
        "        'MN': 'Minnesota',\n",
        "        'MO': 'Missouri',\n",
        "        'MS': 'Mississippi',\n",
        "        'MT': 'Montana',\n",
        "        'NC': 'North_Carolina',\n",
        "        'ND': 'North_Dakota',\n",
        "        'NE': 'Nebraska',\n",
        "        'NH': 'New_Hampshire',\n",
        "        'NJ': 'New_Jersey',\n",
        "        'NM': 'New_Mexico',\n",
        "        'NV': 'Nevada',\n",
        "        'NY': 'New_York',\n",
        "        'OH': 'Ohio',\n",
        "        'OK': 'Oklahoma',\n",
        "        'OR': 'Oregon',\n",
        "        'PA': 'Pennsylvania',\n",
        "        'RI': 'Rhode_Island',\n",
        "        'SC': 'South_Carolina',\n",
        "        'SD': 'South_Dakota',\n",
        "        'TN': 'Tennessee',\n",
        "        'TX': 'Texas',\n",
        "        'UT': 'Utah',\n",
        "        'VA': 'Virginia',\n",
        "        'VT': 'Vermont',\n",
        "        'WA': 'Washington',\n",
        "        'WI': 'Wisconsin',\n",
        "        'WV': 'West_Virginia',\n",
        "        'WY': 'Wyoming'\n",
        "    }\n",
        "\n",
        "def rename_states(inputs):\n",
        "  results = inputs\n",
        "  if isinstance(inputs, str):\n",
        "    input_list = inputs.split(', ')\n",
        "    if len(input_list) >1:\n",
        "      for each in input_list:\n",
        "        if each in states.keys():\n",
        "          result = states[each]\n",
        "  if inputs in states.keys():\n",
        "      result = states[inputs]\n",
        "  return results\n",
        "'''\n",
        "def preprocess(data):\n",
        "    data['Tweet'] = data['Tweet'].map(re_encode_space)\n",
        "    #data['location'] = data['location'].map(rename_states)\n",
        "    data['Tweet'] = data['Tweet'].map(find_hash_tag)\n",
        "    data['Tweet'] = data['Tweet'].map(re_encode_space)\n",
        "    data['Tweet'] = data['Tweet'].map(remove_url)\n",
        "    return data\n"
      ]
    },
    {
      "cell_type": "code",
      "execution_count": null,
      "metadata": {
        "id": "JKRfEEqWuQpl"
      },
      "outputs": [],
      "source": [
        "train_data = preprocess(train_data)\n",
        "validate_data = preprocess(validate_data)\n",
        "test_data = preprocess(test_data)"
      ]
    },
    {
      "cell_type": "markdown",
      "metadata": {
        "id": "DQT6ldTKtY5F"
      },
      "source": [
        "###Emoji replace with words\n",
        "\n",
        "reference https://medium.com/geekculture/text-preprocessing-how-to-handle-emoji-emoticon-641bbfa6e9e7"
      ]
    },
    {
      "cell_type": "code",
      "execution_count": null,
      "metadata": {
        "colab": {
          "base_uri": "https://localhost:8080/"
        },
        "id": "ykYzoyyAz2v6",
        "outputId": "77553f25-5d5b-411e-8c90-7b6920f61201"
      },
      "outputs": [
        {
          "name": "stdout",
          "output_type": "stream",
          "text": [
            "Looking in indexes: https://pypi.org/simple, https://us-python.pkg.dev/colab-wheels/public/simple/\n",
            "Collecting emot\n",
            "  Downloading emot-3.1-py3-none-any.whl (61 kB)\n",
            "\u001b[K     |████████████████████████████████| 61 kB 19 kB/s \n",
            "\u001b[?25hInstalling collected packages: emot\n",
            "Successfully installed emot-3.1\n"
          ]
        }
      ],
      "source": [
        "import sys\n",
        "!{sys.executable} -m pip install emot"
      ]
    },
    {
      "cell_type": "code",
      "execution_count": null,
      "metadata": {
        "id": "gFV1GJXUz9n9"
      },
      "outputs": [],
      "source": [
        "import pickle\n",
        "from emot.emo_unicode import UNICODE_EMOJI # For emojis\n",
        "from emot.emo_unicode import EMOTICONS_EMO # For EMOTICONS"
      ]
    },
    {
      "cell_type": "code",
      "execution_count": null,
      "metadata": {
        "colab": {
          "base_uri": "https://localhost:8080/"
        },
        "id": "_INUhoX_1bO6",
        "outputId": "19ddc1bc-ee10-4082-ef2c-1e2bdda78550"
      },
      "outputs": [
        {
          "name": "stdout",
          "output_type": "stream",
          "text": [
            "/content/gdrive/MyDrive/cs263projectteam/final_data\n"
          ]
        }
      ],
      "source": [
        "%cd /content/gdrive/MyDrive/cs263projectteam/final_data"
      ]
    },
    {
      "cell_type": "code",
      "execution_count": null,
      "metadata": {
        "id": "vCOpXJUQ1cFA"
      },
      "outputs": [],
      "source": [
        "with open('Emoji_Dict.p', 'rb') as fp:\n",
        "    Emoji_Dict = pickle.load(fp)\n",
        "Emoji_Dict = {v: k for k, v in Emoji_Dict.items()}\n",
        "\n",
        "def convert_emojis_to_word(text):\n",
        "    for emot in Emoji_Dict:\n",
        "        text = re.sub(r'('+emot+')', \"_\".join(Emoji_Dict[emot].replace(\",\",\"\").replace(\":\",\"\").split()), text)\n",
        "    return text\n",
        "def reconstruct_emoji(data):\n",
        "   data['Tweet'] = data['Tweet'].map(convert_emojis_to_word)\n",
        "   return data"
      ]
    },
    {
      "cell_type": "code",
      "execution_count": null,
      "metadata": {
        "colab": {
          "base_uri": "https://localhost:8080/"
        },
        "id": "h7GVCcjn5r-Z",
        "outputId": "70f405c0-17a9-4c61-f670-ab0a5e7773e0"
      },
      "outputs": [
        {
          "data": {
            "text/plain": [
              "2387"
            ]
          },
          "execution_count": 16,
          "metadata": {},
          "output_type": "execute_result"
        }
      ],
      "source": [
        "len(Emoji_Dict)"
      ]
    },
    {
      "cell_type": "code",
      "execution_count": null,
      "metadata": {
        "colab": {
          "base_uri": "https://localhost:8080/"
        },
        "id": "wR4T76IQnYFc",
        "outputId": "5f412a95-49cf-43d8-f6a1-0bdce7e892ab"
      },
      "outputs": [
        {
          "name": "stdout",
          "output_type": "stream",
          "text": [
            "Looking in indexes: https://pypi.org/simple, https://us-python.pkg.dev/colab-wheels/public/simple/\n",
            "Collecting emojis\n",
            "  Downloading emojis-0.6.0-py3-none-any.whl (27 kB)\n",
            "Installing collected packages: emojis\n",
            "Successfully installed emojis-0.6.0\n"
          ]
        }
      ],
      "source": [
        "!pip install emojis"
      ]
    },
    {
      "cell_type": "code",
      "execution_count": null,
      "metadata": {
        "id": "Xif8uzN9nBU4"
      },
      "outputs": [],
      "source": [
        "import emojis as em\n",
        "train_data['Tweet'] = train_data['Tweet'].map(lambda x: em.decode(x))\n",
        "test_data['Tweet'] = test_data['Tweet'].map(lambda x: em.decode(x))\n",
        "validate_data['Tweet'] = validate_data['Tweet'].map(lambda x: em.decode(x))"
      ]
    },
    {
      "cell_type": "markdown",
      "metadata": {
        "id": "V_Ys8tuud6QK"
      },
      "source": [
        "###Pronounce and Personality bias removed"
      ]
    },
    {
      "cell_type": "code",
      "execution_count": null,
      "metadata": {
        "id": "K6kesoowgskZ"
      },
      "outputs": [],
      "source": [
        "#!{sys.executable} -m pip install -U spacy\n"
      ]
    },
    {
      "cell_type": "code",
      "execution_count": null,
      "metadata": {
        "id": "1pduniU8oDTt"
      },
      "outputs": [],
      "source": [
        "train_data['Tweet'] = train_data['Tweet'].map(lambda x: \" \".join(\"someone\" if \"@\" in word else word for word in x.split(\" \")))\n",
        "test_data['Tweet'] = test_data['Tweet'].map(lambda x: \" \".join(\"someone\" if \"@\" in word else word for word in x.split(\" \")))\n",
        "validate_data['Tweet'] = validate_data['Tweet'].map(lambda x: \" \".join(\"someone\" if \"@\" in word else word for word in x.split(\" \")))"
      ]
    },
    {
      "cell_type": "code",
      "execution_count": null,
      "metadata": {
        "colab": {
          "base_uri": "https://localhost:8080/",
          "height": 54
        },
        "id": "kTfoNiu3OBoL",
        "outputId": "b42f4a6a-b1ad-4ea0-f50c-d8e46fa646ab"
      },
      "outputs": [
        {
          "data": {
            "application/vnd.google.colaboratory.intrinsic+json": {
              "type": "string"
            },
            "text/plain": [
              "\"Accept the challenges so that you can literally even feel the exhilaration of victory.' -- George S. Patton :dog:\""
            ]
          },
          "execution_count": 21,
          "metadata": {},
          "output_type": "execute_result"
        }
      ],
      "source": [
        "train_data['Tweet'].loc[3]"
      ]
    },
    {
      "cell_type": "markdown",
      "metadata": {
        "id": "t5lkg2OCO8MK"
      },
      "source": [
        "###Basic Data Cleaning"
      ]
    },
    {
      "cell_type": "code",
      "execution_count": null,
      "metadata": {
        "colab": {
          "base_uri": "https://localhost:8080/"
        },
        "id": "KcIiM9FXOvwQ",
        "outputId": "ee2de1c8-3f73-42f2-b15a-101237d573fd"
      },
      "outputs": [
        {
          "name": "stderr",
          "output_type": "stream",
          "text": [
            "/usr/local/lib/python3.7/dist-packages/ipykernel_launcher.py:2: FutureWarning: The default value of regex will change from True to False in a future version.\n",
            "  \n",
            "/usr/local/lib/python3.7/dist-packages/ipykernel_launcher.py:3: FutureWarning: The default value of regex will change from True to False in a future version.\n",
            "  This is separate from the ipykernel package so we can avoid doing imports until\n",
            "/usr/local/lib/python3.7/dist-packages/ipykernel_launcher.py:4: FutureWarning: The default value of regex will change from True to False in a future version.\n",
            "  after removing the cwd from sys.path.\n"
          ]
        }
      ],
      "source": [
        "#remove special characters\n",
        "train_data[\"Tweet\"] = train_data[\"Tweet\"].str.replace(\"[^a-zA-Z]\", \" \")\n",
        "validate_data[\"Tweet\"] = validate_data[\"Tweet\"].str.replace(\"[^a-zA-Z]\", \" \")\n",
        "test_data[\"Tweet\"] = train_data[\"Tweet\"].str.replace(\"[^a-zA-Z]\", \" \")"
      ]
    },
    {
      "cell_type": "code",
      "execution_count": null,
      "metadata": {
        "id": "wz0tvyQrO6KU"
      },
      "outputs": [],
      "source": [
        "#lower case\n",
        "train_data[\"Tweet\"] = train_data[\"Tweet\"].str.lower()\n",
        "validate_data[\"Tweet\"] = validate_data[\"Tweet\"].str.lower()\n",
        "test_data[\"Tweet\"] = test_data[\"Tweet\"].str.lower()"
      ]
    },
    {
      "cell_type": "code",
      "execution_count": null,
      "metadata": {
        "id": "G9fXushSPOAb"
      },
      "outputs": [],
      "source": [
        "#stripping leading spaces (if any)\n",
        "train_data[\"Tweet\"] = train_data[\"Tweet\"].str.strip()\n",
        "validate_data[\"Tweet\"] = validate_data[\"Tweet\"].str.strip()\n",
        "test_data[\"Tweet\"] = test_data[\"Tweet\"].str.strip()"
      ]
    },
    {
      "cell_type": "code",
      "execution_count": null,
      "metadata": {
        "id": "JvPliQHVPbWA"
      },
      "outputs": [],
      "source": [
        "from string import punctuation\n",
        "import unicodedata\n",
        "def remove_punct(text):\n",
        "  for punctuations in punctuation:\n",
        "    text = text.replace(punctuations, '')\n",
        "  return text\n",
        "\n",
        "train_data[\"Tweet\"] =train_data[\"Tweet\"].apply(remove_punct)\n",
        "validate_data[\"Tweet\"] = validate_data[\"Tweet\"].apply(remove_punct)\n",
        "test_data[\"Tweet\"] = test_data[\"Tweet\"].apply(remove_punct)\n",
        "\n",
        "#function to remove macrons & accented characters\n",
        "def remove_accented_chars(text):\n",
        "    text = unicodedata.normalize('NFKD', text).encode('ascii', 'ignore').decode('utf-8', 'ignore')\n",
        "    return text\n",
        "\n",
        "train_data[\"Tweet\"] = train_data[\"Tweet\"].apply(remove_accented_chars)\n",
        "validate_data[\"Tweet\"] = validate_data[\"Tweet\"].apply(remove_accented_chars)\n",
        "test_data[\"Tweet\"] =  test_data[\"Tweet\"].apply(remove_accented_chars)"
      ]
    },
    {
      "cell_type": "markdown",
      "metadata": {
        "id": "E_c_AmDHEMJJ"
      },
      "source": [
        "##Preprocess the BERT model"
      ]
    },
    {
      "cell_type": "code",
      "execution_count": null,
      "metadata": {
        "colab": {
          "base_uri": "https://localhost:8080/",
          "height": 113,
          "referenced_widgets": [
            "64ada12cf492401eb4d46783a85b33b2",
            "2adaa84c834042f5b598f46bdc418f7b",
            "91346d5de92e4e8f9e2b2234347d118f",
            "cbfb1e53d51a4a138c07bd46d939e830",
            "50d26b215da14dc8bb40ec5d76fb10de",
            "3eef310ebcda4a7f9f9c82d41b66a9b1",
            "a48ec8e40df64d50bd6ec208bd482a02",
            "a24bc9df5a0543cc80200d6b0d46b58e",
            "03b6ccc7b6b640d8af50242a5f8909c5",
            "3f4f1d019bef4339b931e07a80ef3071",
            "4bb3dd649c7a4970bd225efec3fcb623",
            "46550fe8bbe8443298e2c3958681cc9e",
            "844d933412ee4c8eb4f440b188d19cfb",
            "7f0ee03835dc46bbbb54b9a79f311109",
            "17bef6e5f1134a918dcb95ed811ca098",
            "c284e6fbec214651ae71a6e4d01ff90d",
            "edcc80676a964ccbb4a8cb62fd209763",
            "14b7658f608c43fea72cbcc5b56ab1ae",
            "19b33bd0ab8747cf9c59a6b782a1916c",
            "e70d5b599c3543c086cfd1e264daeeda",
            "56822d7709ea42418511ec9eb6ffdb2a",
            "3c40a92d9f104f9985eb7056d6768899",
            "5213a60c044d4fc3a8624c7137b160e1",
            "005ff223e17b4119b54fcceec1879414",
            "60cf3f33151249ee84d1748b23664ed2",
            "c38db725528c41ec9352aa441e5d5569",
            "43c7e765f8f447d3a5b44b037faf0fc3",
            "824dfc35c52e490984bc9c6241ea7295",
            "717f0f48afce4f13be881e75874566d1",
            "31db0ecd718340b98836d792a3abe02f",
            "6e550ba2ff88418abc63bc5b0551869e",
            "2d4a17c75b0345c1bd7521bceec285cc",
            "931dc55d9c6c4f1dad5f517517d295dc"
          ]
        },
        "id": "vRamKDdg55gY",
        "outputId": "c22c39cf-97a7-4627-a49f-72b823e7ede7"
      },
      "outputs": [
        {
          "data": {
            "application/vnd.jupyter.widget-view+json": {
              "model_id": "64ada12cf492401eb4d46783a85b33b2",
              "version_major": 2,
              "version_minor": 0
            },
            "text/plain": [
              "Downloading:   0%|          | 0.00/226k [00:00<?, ?B/s]"
            ]
          },
          "metadata": {},
          "output_type": "display_data"
        },
        {
          "data": {
            "application/vnd.jupyter.widget-view+json": {
              "model_id": "46550fe8bbe8443298e2c3958681cc9e",
              "version_major": 2,
              "version_minor": 0
            },
            "text/plain": [
              "Downloading:   0%|          | 0.00/28.0 [00:00<?, ?B/s]"
            ]
          },
          "metadata": {},
          "output_type": "display_data"
        },
        {
          "data": {
            "application/vnd.jupyter.widget-view+json": {
              "model_id": "5213a60c044d4fc3a8624c7137b160e1",
              "version_major": 2,
              "version_minor": 0
            },
            "text/plain": [
              "Downloading:   0%|          | 0.00/570 [00:00<?, ?B/s]"
            ]
          },
          "metadata": {},
          "output_type": "display_data"
        }
      ],
      "source": [
        "PRE_TRAINED_MODEL_NAME = 'bert-base-uncased'\n",
        "tokenizer = BertTokenizer.from_pretrained(PRE_TRAINED_MODEL_NAME)"
      ]
    },
    {
      "cell_type": "code",
      "execution_count": null,
      "metadata": {
        "id": "K6jma9Az93bI"
      },
      "outputs": [],
      "source": [
        "train_label = train_data.drop(['ID', 'Tweet'], axis=1)\n",
        "val_label = validate_data.drop(['ID', 'Tweet'], axis=1)\n",
        "test_label = test_data.drop(['ID', 'Tweet'], axis=1)\n",
        "\n",
        "train_text = train_data['Tweet']\n",
        "validate_text = validate_data['Tweet']\n",
        "test_text = test_data['Tweet']"
      ]
    },
    {
      "cell_type": "markdown",
      "metadata": {
        "id": "-fKB_WcGVb2j"
      },
      "source": [
        "###tokenize model"
      ]
    },
    {
      "cell_type": "code",
      "execution_count": null,
      "metadata": {
        "id": "x1QLVmWDcmle"
      },
      "outputs": [],
      "source": [
        "def convert_examples_to_features(examples, tokenizer, label_list, max_seq_length):\n",
        "    \"\"\"Converts examples to features using specified tokenizer\n",
        "\n",
        "    Args:\n",
        "        examples (list): Examples to convert.\n",
        "        tokenizer (obj): The tokenzier object.\n",
        "        label_list (list): A list of all the labels.\n",
        "        max_sequence_length (int): Maximum length of a sequence\n",
        "\n",
        "    Returns:\n",
        "        tf.Dataset: A tensorflow dataset.\n",
        "    \"\"\"\n",
        "\n",
        "    features = []\n",
        "    for ex_index, example in enumerate(examples):\n",
        "\n",
        "        # Encode inputs using tokenizer\n",
        "        inputs = tokenizer.encode_plus(\n",
        "            example.text_a[:max_seq_length],\n",
        "            add_special_tokens=True,\n",
        "            max_length=max_seq_length,\n",
        "            truncate_first_sequence=True \n",
        "        )\n",
        "        input_ids, token_type_ids = inputs[\"input_ids\"], inputs[\"token_type_ids\"]\n",
        "\n",
        "        # The mask has 1 for real tokens and 0 for padding tokens. Only real tokens are attended to.\n",
        "        attention_mask = [1] * len(input_ids)\n",
        "\n",
        "        # Zero-pad up to the sequence length.\n",
        "        padding_length = max_seq_length - len(input_ids)\n",
        "        input_ids = input_ids + ([0] * padding_length)\n",
        "        attention_mask = attention_mask + ([0] * padding_length)\n",
        "        token_type_ids = token_type_ids + ([0] * padding_length)\n",
        "\n",
        "        # Create features and add to feature list\n",
        "        features.append(\n",
        "                InputFeatures(input_ids=input_ids,\n",
        "                              attention_mask=attention_mask,\n",
        "                              token_type_ids=token_type_ids,\n",
        "                              label=example.label))\n",
        "    # Generator for creating tensorflow dataset\n",
        "    def gen():\n",
        "        for ex in features:\n",
        "            yield  ({'input_ids': ex.input_ids,\n",
        "                        'attention_mask': ex.attention_mask,\n",
        "                        'token_type_ids': ex.token_type_ids},\n",
        "                    ex.label)\n",
        "\n",
        "    return tf.data.Dataset.from_generator(gen,\n",
        "            ({'input_ids': tf.int32,\n",
        "              'attention_mask': tf.int32,\n",
        "              'token_type_ids': tf.int32},\n",
        "             tf.int64),\n",
        "            ({'input_ids': tf.TensorShape([max_seq_length]),\n",
        "              'attention_mask': tf.TensorShape([max_seq_length]),\n",
        "              'token_type_ids': tf.TensorShape([max_seq_length])},\n",
        "             tf.TensorShape([len(label_list)])))"
      ]
    },
    {
      "cell_type": "code",
      "execution_count": null,
      "metadata": {
        "id": "O8_-iC-m8NAQ"
      },
      "outputs": [],
      "source": [
        "tokenLengths = []\n",
        "for txt in list(train_text):\n",
        "    tokens = tokenizer.encode(txt, add_special_tokens = True,max_length=512, truncation=True)\n",
        "    tokenLengths.append(len(tokens))"
      ]
    },
    {
      "cell_type": "code",
      "execution_count": null,
      "metadata": {
        "colab": {
          "base_uri": "https://localhost:8080/",
          "height": 383
        },
        "id": "QcB3i1kf8Ov_",
        "outputId": "41e0acc2-957e-4d0e-aa11-41a84b537d9a"
      },
      "outputs": [
        {
          "data": {
            "image/png": "[encoded data removed]",
            "text/plain": [
              "<Figure size 360x360 with 1 Axes>"
            ]
          },
          "metadata": {},
          "output_type": "display_data"
        }
      ],
      "source": [
        "sns.displot(tokenLengths)\n",
        "plt.xlim([0, 100])\n",
        "plt.xlabel('Token count')\n",
        "plt.show()"
      ]
    },
    {
      "cell_type": "code",
      "execution_count": null,
      "metadata": {
        "id": "20tMxqow8SVU"
      },
      "outputs": [],
      "source": [
        "def bert_tokenizer(text,tokenizer,max_length):\n",
        "    encoding = tokenizer.encode_plus(\n",
        "    text,\n",
        "    max_length=40,\n",
        "    truncation=True,\n",
        "    add_special_tokens=True, # Add '[CLS]' and '[SEP]'\n",
        "    return_token_type_ids=False,\n",
        "    padding='max_length',\n",
        "    return_attention_mask=True,\n",
        "    return_tensors='pt',  # Return PyTorch tensors\n",
        "    )\n",
        "    return encoding['input_ids'][0], encoding['attention_mask'][0] "
      ]
    },
    {
      "cell_type": "code",
      "execution_count": null,
      "metadata": {
        "id": "8I1ODjo19vGJ"
      },
      "outputs": [],
      "source": [
        "max_length=40\n",
        "trainTokenizedList = []\n",
        "trainAttnMaskList = []\n",
        "for text in list(train_text):\n",
        "    tokenizedText, attnMask = bert_tokenizer(text,tokenizer,max_length)\n",
        "    trainTokenizedList.append(tokenizedText.numpy())\n",
        "    trainAttnMaskList.append(attnMask.numpy())"
      ]
    },
    {
      "cell_type": "code",
      "execution_count": null,
      "metadata": {
        "id": "JtpNyiECBEBi"
      },
      "outputs": [],
      "source": [
        "max_length=40\n",
        "validateTokenizedList = []\n",
        "validateAttnMaskList = []\n",
        "for text in list(validate_text):\n",
        "    tokenizedText, attnMask = bert_tokenizer(text,tokenizer,max_length)\n",
        "    validateTokenizedList.append(tokenizedText.numpy())\n",
        "    validateAttnMaskList.append(attnMask.numpy())"
      ]
    },
    {
      "cell_type": "code",
      "execution_count": null,
      "metadata": {
        "id": "w-9Z8lWZROTv"
      },
      "outputs": [],
      "source": [
        "max_length=40\n",
        "testTokenizedList = []\n",
        "testAttnMaskList = []\n",
        "for text in list(test_text):\n",
        "    tokenizedText, attnMask = bert_tokenizer(text,tokenizer,max_length)\n",
        "    testTokenizedList.append(tokenizedText.numpy())\n",
        "    testAttnMaskList.append(attnMask.numpy())"
      ]
    },
    {
      "cell_type": "code",
      "execution_count": null,
      "metadata": {
        "id": "5YSQPcUbBhSS"
      },
      "outputs": [],
      "source": [
        "trainTokenisedTextDf = pd.DataFrame(trainTokenizedList)\n",
        "validateTokenisedTextDf = pd.DataFrame(validateTokenizedList)\n",
        "testTokenisedTextDf = pd.DataFrame(testTokenizedList)\n",
        "trainTokenisedTextDf[\"anger\"]=train_label[\"anger\"]\n",
        "trainTokenisedTextDf[\"anticipation\"]=train_label[\"anticipation\"]\n",
        "trainTokenisedTextDf[\"disgust\"]=train_label[\"disgust\"]\n",
        "trainTokenisedTextDf[\"fear\"]=train_label[\"fear\"]\n",
        "trainTokenisedTextDf[\"joy\"]=train_label[\"joy\"]\n",
        "trainTokenisedTextDf[\"love\"]=train_label[\"love\"]\n",
        "trainTokenisedTextDf[\"optimism\"]=train_label[\"optimism\"]\n",
        "trainTokenisedTextDf[\"pessimism\"]=train_label[\"pessimism\"]\n",
        "trainTokenisedTextDf[\"sadness\"]=train_label[\"pessimism\"]\n",
        "trainTokenisedTextDf[\"surprise\"]=train_label[\"surprise\"]\n",
        "trainTokenisedTextDf[\"trust\"]=train_label[\"trust\"]\n",
        "\n",
        "validateTokenisedTextDf[\"anger\"]=val_label[\"anger\"]\n",
        "validateTokenisedTextDf[\"anticipation\"]=val_label[\"anticipation\"]\n",
        "validateTokenisedTextDf[\"disgust\"]=val_label[\"disgust\"]\n",
        "validateTokenisedTextDf[\"fear\"]=val_label[\"fear\"]\n",
        "validateTokenisedTextDf[\"joy\"]=val_label[\"joy\"]\n",
        "validateTokenisedTextDf[\"love\"]=val_label[\"love\"]\n",
        "validateTokenisedTextDf[\"optimism\"]=val_label[\"optimism\"]\n",
        "validateTokenisedTextDf[\"pessimism\"]=val_label[\"pessimism\"]\n",
        "validateTokenisedTextDf[\"sadness\"]=val_label[\"pessimism\"]\n",
        "validateTokenisedTextDf[\"surprise\"]=val_label[\"surprise\"]\n",
        "validateTokenisedTextDf[\"trust\"]=val_label[\"trust\"]"
      ]
    },
    {
      "cell_type": "code",
      "execution_count": null,
      "metadata": {
        "id": "Ciz8fUMkDMbH"
      },
      "outputs": [],
      "source": [
        "trainTokenisedTextDf.to_pickle(\"bertTrain.pkl\")\n",
        "validateTokenisedTextDf.to_pickle(\"bertValidate.pkl\")\n",
        "testTokenisedTextDf.to_pickle(\"bertTest.pkl\")"
      ]
    },
    {
      "cell_type": "code",
      "execution_count": null,
      "metadata": {
        "id": "7OZPbwqxDMVY"
      },
      "outputs": [],
      "source": [
        "with open(r\"trainAttnMaskList.pickle\", \"wb\") as output_file:\n",
        "  pickle.dump(trainAttnMaskList, output_file)"
      ]
    },
    {
      "cell_type": "code",
      "execution_count": null,
      "metadata": {
        "id": "TwXnQBFfECZZ"
      },
      "outputs": [],
      "source": [
        "with open(r\"validateAttnMaskList.pickle\", \"wb\") as output_file:\n",
        "  pickle.dump(validateAttnMaskList, output_file)"
      ]
    },
    {
      "cell_type": "code",
      "execution_count": null,
      "metadata": {
        "id": "foWuI7DMSrFn"
      },
      "outputs": [],
      "source": [
        "with open(r\"testAttnMaskList.pickle\", \"wb\") as output_file:\n",
        "  pickle.dump(testAttnMaskList, output_file)"
      ]
    },
    {
      "cell_type": "code",
      "execution_count": null,
      "metadata": {
        "id": "SFkW6vi6k1Q-"
      },
      "outputs": [],
      "source": [
        "MAX_SEQ_LENGTH = 40\n",
        "BATCH_SIZE = 32\n",
        "LEARNING_RATE = 2e-5\n",
        "NUM_TRAIN_EPOCHS = 1.0\n",
        "WARMUP_PROPORTION = 0.1\n",
        "SAVE_CHECKPOINTS_STEPS = 1000\n",
        "SAVE_SUMMARY_STEPS = 500"
      ]
    },
    {
      "cell_type": "markdown",
      "metadata": {
        "id": "eBX7wOLrE4jN"
      },
      "source": [
        "## BERT Training"
      ]
    },
    {
      "cell_type": "code",
      "execution_count": null,
      "metadata": {
        "id": "5I2O6ctiEIVJ"
      },
      "outputs": [],
      "source": [
        "import pandas as pd\n",
        "import numpy as np\n",
        "import pickle\n",
        "from sklearn.model_selection import train_test_split\n",
        "from transformers import TFBertForSequenceClassification\n",
        "import os\n",
        "import tensorflow as tf\n",
        "import matplotlib.pyplot as plt\n",
        "from sklearn import metrics\n",
        "import time"
      ]
    },
    {
      "cell_type": "code",
      "execution_count": null,
      "metadata": {
        "id": "INq6c97aEzr1"
      },
      "outputs": [],
      "source": [
        "bertTrain = pd.read_pickle(\"bertTrain.pkl\")\n",
        "bertValidate = pd.read_pickle(\"bertValidate.pkl\")\n",
        "bertTest = pd.read_pickle(\"bertTest.pkl\")"
      ]
    },
    {
      "cell_type": "code",
      "execution_count": null,
      "metadata": {
        "id": "Z9eT4VpaE_Eg"
      },
      "outputs": [],
      "source": [
        "with open(r\"trainAttnMaskList.pickle\", \"rb\") as input_file:\n",
        "  trainAttnMaskList = pickle.load(input_file)"
      ]
    },
    {
      "cell_type": "code",
      "execution_count": null,
      "metadata": {
        "id": "HiL6r1oyFBVt"
      },
      "outputs": [],
      "source": [
        "with open(r\"validateAttnMaskList.pickle\", \"rb\") as input_file:\n",
        "  validateAttnMaskList = pickle.load(input_file)"
      ]
    },
    {
      "cell_type": "code",
      "execution_count": null,
      "metadata": {
        "id": "ZMBUdbTsS-Ot"
      },
      "outputs": [],
      "source": [
        "with open(r\"testAttnMaskList.pickle\", \"rb\") as input_file:\n",
        "  testAttnMaskList = pickle.load(input_file)"
      ]
    },
    {
      "cell_type": "code",
      "execution_count": null,
      "metadata": {
        "id": "Zl4RJTqxFIOd"
      },
      "outputs": [],
      "source": [
        "\n",
        "tain_label = bertTrain.loc[:,[\"anger\",\"anticipation\",\"disgust\",\"fear\",\"joy\",\"love\",'optimism','pessimism','sadness','surprise','trust']]\n",
        "trainFeats  = bertTrain.drop(columns=[\"anger\",\"anticipation\",\"disgust\",\"fear\",\"joy\",\"love\",'optimism','pessimism','sadness','surprise','trust'])\n",
        "\n",
        "validate_label = bertValidate.loc[:,[\"anger\",\"anticipation\",\"disgust\",\"fear\",\"joy\",\"love\",'optimism','pessimism','sadness','surprise','trust']]\n",
        "valFeats  = bertValidate.drop(columns=[\"anger\",\"anticipation\",\"disgust\",\"fear\",\"joy\",\"love\",'optimism','pessimism','sadness','surprise','trust'])\n",
        "trainMask = trainAttnMaskList\n",
        "valMask = validateAttnMaskList"
      ]
    },
    {
      "cell_type": "code",
      "execution_count": null,
      "metadata": {
        "id": "S8Ooe2RGVV6p"
      },
      "outputs": [],
      "source": [
        "testFeats = bertTest"
      ]
    },
    {
      "cell_type": "code",
      "execution_count": null,
      "metadata": {
        "id": "bP_k6WdBqDR8"
      },
      "outputs": [],
      "source": [
        "from transformers import TFBertPreTrainedModel\n",
        "from transformers import TFBertMainLayer\n",
        "import tensorflow as tf\n",
        "import transformers\n",
        "from transformers.modeling_tf_utils import TFPreTrainedModel, get_initializer\n",
        "class TFBertForMultilabelClassification(TFBertPreTrainedModel):\n",
        "\n",
        "    def __init__(self, config, *inputs, **kwargs):\n",
        "        super(TFBertForMultilabelClassification, self).__init__(config, *inputs, **kwargs)\n",
        "        self.num_labels = config.num_labels\n",
        "\n",
        "        self.bert = TFBertMainLayer(config, name='bert')\n",
        "        self.dropout = tf.keras.layers.Dropout(config.hidden_dropout_prob)\n",
        "        self.classifier = tf.keras.layers.Dense(config.num_labels,\n",
        "                                                kernel_initializer=get_initializer(config.initializer_range),\n",
        "                                                name='classifier',\n",
        "                                                activation='sigmoid')\n",
        "\n",
        "    def call(self, inputs, **kwargs):\n",
        "        outputs = self.bert(inputs, **kwargs)\n",
        "\n",
        "        pooled_output = outputs[1]\n",
        "\n",
        "        pooled_output = self.dropout(pooled_output, training=kwargs.get('training', False))\n",
        "        logits = self.classifier(pooled_output)\n",
        "\n",
        "        outputs = (logits,) + outputs[2:]  # add hidden states and attention if they are here\n",
        "\n",
        "        return outputs  # logits, (hidden_states), (attentions)\n"
      ]
    },
    {
      "cell_type": "code",
      "execution_count": null,
      "metadata": {
        "id": "_65CjOLq-LGI"
      },
      "outputs": [],
      "source": [
        "def accuracyMultilabel(labels, predictions):\n",
        "    numerator = tf.reduce_sum(tf.cast(tf.multiply(predictions, labels), tf.float32), axis = -1)\n",
        "    denominator = tf.cast(tf.reduce_sum(predictions + labels, axis = -1), tf.float32) - numerator + 0.000001\n",
        "    accuracy = tf.divide(numerator, denominator)\n",
        "    mean = tf.reduce_mean(accuracy)\n",
        "    return mean"
      ]
    },
    {
      "cell_type": "code",
      "execution_count": null,
      "metadata": {
        "id": "ALcOFTL6-JYP"
      },
      "outputs": [],
      "source": [
        "def jaccard_similarity(y_true, y_pred, treshold=0.5,dummy = 0.000001):\n",
        "    intersection = tf.cast(tf.reduce_sum(tf.round(y_true * y_pred), axis=-1),tf.float32)    \n",
        "    union =  tf.cast(tf.math.count_nonzero((y_true+y_pred)>=treshold, axis=-1),tf.float32)    \n",
        "    acc = tf.divide(intersection, union+dummy)\n",
        "    jac = tf.reduce_mean(acc)\n",
        "    return jac"
      ]
    },
    {
      "cell_type": "code",
      "execution_count": null,
      "metadata": {
        "colab": {
          "base_uri": "https://localhost:8080/",
          "height": 409,
          "referenced_widgets": [
            "0b1ac936c4ee4897ae9b4edb31427e11",
            "142f4793f10743bda767f27549054141",
            "9d4481ef707f4330b09ba40770a02e8c",
            "0c852c95298848b1acbf1dc77adf5f88",
            "04a516e0edf840bbb267555a992b7b1c",
            "30e6d145d1a8427a9b40c62d77cc475e",
            "2d4720d1d7f14723a078e92eb2ecfa55",
            "a9038d8c83274a0793015f2e0942d221",
            "d7888d782aea4b299fb37c1b886a74a1",
            "7942ac87a1ff45099c921fd60e4268c8",
            "de57b9b476564cfdbb14f5cc6707cd84"
          ]
        },
        "id": "mwRfYqPH8Nw0",
        "outputId": "f7224564-37a8-4553-af89-eb699ce87a94"
      },
      "outputs": [
        {
          "data": {
            "application/vnd.jupyter.widget-view+json": {
              "model_id": "0b1ac936c4ee4897ae9b4edb31427e11",
              "version_major": 2,
              "version_minor": 0
            },
            "text/plain": [
              "Downloading:   0%|          | 0.00/511M [00:00<?, ?B/s]"
            ]
          },
          "metadata": {},
          "output_type": "display_data"
        },
        {
          "name": "stderr",
          "output_type": "stream",
          "text": [
            "Some layers from the model checkpoint at bert-base-uncased were not used when initializing TFBertForMultilabelClassification: ['nsp___cls', 'mlm___cls']\n",
            "- This IS expected if you are initializing TFBertForMultilabelClassification from the checkpoint of a model trained on another task or with another architecture (e.g. initializing a BertForSequenceClassification model from a BertForPreTraining model).\n",
            "- This IS NOT expected if you are initializing TFBertForMultilabelClassification from the checkpoint of a model that you expect to be exactly identical (initializing a BertForSequenceClassification model from a BertForSequenceClassification model).\n",
            "Some layers of TFBertForMultilabelClassification were not initialized from the model checkpoint at bert-base-uncased and are newly initialized: ['classifier', 'dropout_37']\n",
            "You should probably TRAIN this model on a down-stream task to be able to use it for predictions and inference.\n"
          ]
        },
        {
          "name": "stdout",
          "output_type": "stream",
          "text": [
            "Model: \"tf_bert_for_multilabel_classification\"\n",
            "_________________________________________________________________\n",
            " Layer (type)                Output Shape              Param #   \n",
            "=================================================================\n",
            " bert (TFBertMainLayer)      multiple                  109482240 \n",
            "                                                                 \n",
            " dropout_37 (Dropout)        multiple                  0         \n",
            "                                                                 \n",
            " classifier (Dense)          multiple                  8459      \n",
            "                                                                 \n",
            "=================================================================\n",
            "Total params: 109,490,699\n",
            "Trainable params: 109,490,699\n",
            "Non-trainable params: 0\n",
            "_________________________________________________________________\n"
          ]
        }
      ],
      "source": [
        "\n",
        "label_list =[\"anger\",\"anticipation\",\"disgust\",\"fear\",\"joy\",\"love\",'optimism','pessimism','sadness','surprise','trust']\n",
        "tokenizer = BertTokenizer.from_pretrained('bert-base-uncased')\n",
        "model = TFBertForMultilabelClassification.from_pretrained('bert-base-uncased', num_labels=len(label_list))\n",
        "optimizer = tf.keras.optimizers.Adam(learning_rate=2e-5)\n",
        "loss = tf.keras.losses.BinaryCrossentropy()\n",
        "metric = jaccard_similarity\n",
        "model.summary()\n"
      ]
    },
    {
      "cell_type": "code",
      "execution_count": null,
      "metadata": {
        "id": "WxfJ8F2kSsTF"
      },
      "outputs": [],
      "source": [
        "model.compile(optimizer=optimizer, loss=loss, metrics=[metric])"
      ]
    },
    {
      "cell_type": "code",
      "execution_count": null,
      "metadata": {
        "colab": {
          "background_save": true,
          "base_uri": "https://localhost:8080/"
        },
        "id": "fBGHrHJ5MFf2",
        "outputId": "d2a41837-378d-4b3f-8b4c-1c4b204f8fa5"
      },
      "outputs": [
        {
          "name": "stdout",
          "output_type": "stream",
          "text": [
            "Epoch 1/7\n",
            "214/214 [==============================] - 72s 221ms/step - loss: 0.4739 - jaccard_similarity: 0.0645 - val_loss: 0.3816 - val_jaccard_similarity: 0.4516\n",
            "Epoch 2/7\n",
            "214/214 [==============================] - 43s 201ms/step - loss: 0.3491 - jaccard_similarity: 0.4744 - val_loss: 0.3264 - val_jaccard_similarity: 0.5108\n",
            "Epoch 3/7\n",
            "214/214 [==============================] - 43s 199ms/step - loss: 0.2908 - jaccard_similarity: 0.5618 - val_loss: 0.3216 - val_jaccard_similarity: 0.5470\n",
            "Epoch 4/7\n",
            "214/214 [==============================] - 42s 198ms/step - loss: 0.2566 - jaccard_similarity: 0.6092 - val_loss: 0.3245 - val_jaccard_similarity: 0.5442\n",
            "Epoch 5/7\n",
            "214/214 [==============================] - 43s 200ms/step - loss: 0.2290 - jaccard_similarity: 0.6489 - val_loss: 0.3323 - val_jaccard_similarity: 0.5616\n",
            "Epoch 6/7\n",
            "214/214 [==============================] - 43s 201ms/step - loss: 0.2055 - jaccard_similarity: 0.6890 - val_loss: 0.3391 - val_jaccard_similarity: 0.5384\n",
            "Epoch 7/7\n",
            "214/214 [==============================] - 43s 201ms/step - loss: 0.1836 - jaccard_similarity: 0.7188 - val_loss: 0.3522 - val_jaccard_similarity: 0.5459\n"
          ]
        }
      ],
      "source": [
        "history=model.fit(trainFeats, train_label, batch_size=32, epochs=7,\n",
        "                      validation_data=(valFeats, validate_label))"
      ]
    },
    {
      "cell_type": "code",
      "execution_count": null,
      "metadata": {
        "id": "lUJ7L2rd3Eg5"
      },
      "outputs": [],
      "source": [
        "validation_result = model.predict(x=valFeats)"
      ]
    },
    {
      "cell_type": "code",
      "execution_count": null,
      "metadata": {
        "id": "nG6TfN353Qt5"
      },
      "outputs": [],
      "source": [
        "treshold = 0.5\n",
        "categPreds =[]\n",
        "for elem in validation_result [0]:\n",
        "  result = [1 if x>=treshold else 0 for x in elem]\n",
        "  categPreds.append(result)"
      ]
    },
    {
      "cell_type": "code",
      "execution_count": null,
      "metadata": {
        "id": "3DuFrILQ3YJJ"
      },
      "outputs": [],
      "source": [
        "from sklearn.metrics import jaccard_score\n",
        "jaccard_score(val_label, categPreds, average=\"samples\")"
      ]
    },
    {
      "cell_type": "code",
      "execution_count": null,
      "metadata": {
        "id": "VTio1f25RSd8"
      },
      "outputs": [],
      "source": [
        "pred = model.predict(x=testFeats)"
      ]
    },
    {
      "cell_type": "code",
      "execution_count": null,
      "metadata": {
        "colab": {
          "background_save": true
        },
        "id": "keHoQYMTYQqw",
        "outputId": "4885a1c5-44bd-4af9-e5c8-af53c0990dd1"
      },
      "outputs": [
        {
          "data": {
            "text/plain": [
              "(array([[0.02238702, 0.3141074 , 0.0112202 , ..., 0.01168164, 0.02334092,\n",
              "         0.51660943],\n",
              "        [0.03433276, 0.07656287, 0.02277371, ..., 0.01229801, 0.07614762,\n",
              "         0.35160166],\n",
              "        [0.94860524, 0.12864743, 0.80073696, ..., 0.03122439, 0.17836472,\n",
              "         0.09858236],\n",
              "        ...,\n",
              "        [0.04011654, 0.05304466, 0.03285501, ..., 0.0164963 , 0.05135521,\n",
              "         0.07405218],\n",
              "        [0.9446353 , 0.09339705, 0.8982709 , ..., 0.11468136, 0.05869086,\n",
              "         0.00521538],\n",
              "        [0.01817051, 0.06591041, 0.09560969, ..., 0.97671777, 0.01882833,\n",
              "         0.01397191]], dtype=float32),)"
            ]
          },
          "execution_count": null,
          "metadata": {},
          "output_type": "execute_result"
        }
      ],
      "source": [
        "pred"
      ]
    },
    {
      "cell_type": "code",
      "execution_count": null,
      "metadata": {
        "id": "NC-Q1r53YQAB"
      },
      "outputs": [],
      "source": [
        "treshold = 0.5\n",
        "categPreds =[]\n",
        "for elem in pred[0]:\n",
        "  result = [1 if x>=treshold else 0 for x in elem]\n",
        "  categPreds.append(result)"
      ]
    },
    {
      "cell_type": "code",
      "execution_count": null,
      "metadata": {
        "id": "C-7D4E6pXm-E"
      },
      "outputs": [],
      "source": [
        "from sklearn.metrics import jaccard_score\n",
        "jaccard_score(test_label, categPreds, average=\"samples\")"
      ]
    },
    {
      "cell_type": "markdown",
      "source": [
        "# LSTM"
      ],
      "metadata": {
        "id": "aiF7_RqehS8c"
      }
    },
    {
      "cell_type": "markdown",
      "metadata": {
        "id": "d22cfdf4"
      },
      "source": [
        "## EDA - Exploratory data analysis and Data Cleaning"
      ]
    },
    {
      "cell_type": "code",
      "source": [
        "import warnings\n",
        "warnings.filterwarnings('ignore')\n",
        "\n",
        "!pip install fastbook==0.0.17\n",
        "!pip uninstall tornado -y\n",
        "!yes | pip install tornado==5.1.0\n",
        "\n",
        "import fastbook\n",
        "fastbook.setup_book()"
      ],
      "metadata": {
        "colab": {
          "base_uri": "https://localhost:8080/",
          "height": 1000
        },
        "id": "4LKWHQ4EEvWq",
        "outputId": "4d663e55-c6d1-436e-e057-a07e7b7f20cd"
      },
      "execution_count": null,
      "outputs": [
        {
          "output_type": "stream",
          "name": "stdout",
          "text": [
            "Looking in indexes: https://pypi.org/simple, https://us-python.pkg.dev/colab-wheels/public/simple/\n",
            "Collecting fastbook==0.0.17\n",
            "  Downloading fastbook-0.0.17-py3-none-any.whl (719 kB)\n",
            "\u001b[K     |████████████████████████████████| 719 kB 14.6 MB/s \n",
            "\u001b[?25hCollecting nbdev>=0.2.38\n",
            "  Downloading nbdev-1.2.9-py3-none-any.whl (50 kB)\n",
            "\u001b[K     |████████████████████████████████| 50 kB 1.6 MB/s \n",
            "\u001b[?25hRequirement already satisfied: packaging in /usr/local/lib/python3.7/dist-packages (from fastbook==0.0.17) (21.3)\n",
            "Requirement already satisfied: pandas in /usr/local/lib/python3.7/dist-packages (from fastbook==0.0.17) (1.3.5)\n",
            "Collecting sentencepiece\n",
            "  Downloading sentencepiece-0.1.96-cp37-cp37m-manylinux_2_17_x86_64.manylinux2014_x86_64.whl (1.2 MB)\n",
            "\u001b[K     |████████████████████████████████| 1.2 MB 58.0 MB/s \n",
            "\u001b[?25hCollecting fastai>=2.5\n",
            "  Downloading fastai-2.6.3-py3-none-any.whl (197 kB)\n",
            "\u001b[K     |████████████████████████████████| 197 kB 47.1 MB/s \n",
            "\u001b[?25hRequirement already satisfied: pip in /usr/local/lib/python3.7/dist-packages (from fastbook==0.0.17) (21.1.3)\n",
            "Requirement already satisfied: ipywidgets in /usr/local/lib/python3.7/dist-packages (from fastbook==0.0.17) (7.7.0)\n",
            "Requirement already satisfied: requests in /usr/local/lib/python3.7/dist-packages (from fastbook==0.0.17) (2.23.0)\n",
            "Requirement already satisfied: pyyaml in /usr/local/lib/python3.7/dist-packages (from fastai>=2.5->fastbook==0.0.17) (3.13)\n",
            "Requirement already satisfied: torch<1.12,>=1.7.0 in /usr/local/lib/python3.7/dist-packages (from fastai>=2.5->fastbook==0.0.17) (1.11.0+cu113)\n",
            "Collecting fastdownload<2,>=0.0.5\n",
            "  Downloading fastdownload-0.0.6-py3-none-any.whl (12 kB)\n",
            "Requirement already satisfied: scikit-learn in /usr/local/lib/python3.7/dist-packages (from fastai>=2.5->fastbook==0.0.17) (1.0.2)\n",
            "Collecting fastcore<1.5,>=1.3.27\n",
            "  Downloading fastcore-1.4.4-py3-none-any.whl (60 kB)\n",
            "\u001b[K     |████████████████████████████████| 60 kB 7.3 MB/s \n",
            "\u001b[?25hRequirement already satisfied: pillow>6.0.0 in /usr/local/lib/python3.7/dist-packages (from fastai>=2.5->fastbook==0.0.17) (7.1.2)\n",
            "Requirement already satisfied: spacy<4 in /usr/local/lib/python3.7/dist-packages (from fastai>=2.5->fastbook==0.0.17) (2.2.4)\n",
            "Requirement already satisfied: torchvision>=0.8.2 in /usr/local/lib/python3.7/dist-packages (from fastai>=2.5->fastbook==0.0.17) (0.12.0+cu113)\n",
            "Requirement already satisfied: scipy in /usr/local/lib/python3.7/dist-packages (from fastai>=2.5->fastbook==0.0.17) (1.4.1)\n",
            "Requirement already satisfied: fastprogress>=0.2.4 in /usr/local/lib/python3.7/dist-packages (from fastai>=2.5->fastbook==0.0.17) (1.0.2)\n",
            "Requirement already satisfied: matplotlib in /usr/local/lib/python3.7/dist-packages (from fastai>=2.5->fastbook==0.0.17) (3.2.2)\n",
            "Collecting nbconvert>=6.1\n",
            "  Downloading nbconvert-6.5.0-py3-none-any.whl (561 kB)\n",
            "\u001b[K     |████████████████████████████████| 561 kB 55.6 MB/s \n",
            "\u001b[?25hCollecting ghapi\n",
            "  Downloading ghapi-0.1.20-py3-none-any.whl (53 kB)\n",
            "\u001b[K     |████████████████████████████████| 53 kB 2.0 MB/s \n",
            "\u001b[?25hCollecting fastrelease\n",
            "  Downloading fastrelease-0.1.16-py3-none-any.whl (13 kB)\n",
            "Requirement already satisfied: nbformat>=4.4.0 in /usr/local/lib/python3.7/dist-packages (from nbdev>=0.2.38->fastbook==0.0.17) (5.4.0)\n",
            "Requirement already satisfied: jupyter-client<8 in /usr/local/lib/python3.7/dist-packages (from nbdev>=0.2.38->fastbook==0.0.17) (5.3.5)\n",
            "Requirement already satisfied: Jinja2 in /usr/local/lib/python3.7/dist-packages (from nbdev>=0.2.38->fastbook==0.0.17) (2.11.3)\n",
            "Requirement already satisfied: ipykernel in /usr/local/lib/python3.7/dist-packages (from nbdev>=0.2.38->fastbook==0.0.17) (4.10.1)\n",
            "Requirement already satisfied: jupyter in /usr/local/lib/python3.7/dist-packages (from nbdev>=0.2.38->fastbook==0.0.17) (1.0.0)\n",
            "Requirement already satisfied: python-dateutil>=2.1 in /usr/local/lib/python3.7/dist-packages (from jupyter-client<8->nbdev>=0.2.38->fastbook==0.0.17) (2.8.2)\n",
            "Requirement already satisfied: traitlets in /usr/local/lib/python3.7/dist-packages (from jupyter-client<8->nbdev>=0.2.38->fastbook==0.0.17) (5.1.1)\n",
            "Requirement already satisfied: tornado>=4.1 in /usr/local/lib/python3.7/dist-packages (from jupyter-client<8->nbdev>=0.2.38->fastbook==0.0.17) (5.1.1)\n",
            "Requirement already satisfied: jupyter-core>=4.6.0 in /usr/local/lib/python3.7/dist-packages (from jupyter-client<8->nbdev>=0.2.38->fastbook==0.0.17) (4.10.0)\n",
            "Requirement already satisfied: pyzmq>=13 in /usr/local/lib/python3.7/dist-packages (from jupyter-client<8->nbdev>=0.2.38->fastbook==0.0.17) (23.0.0)\n",
            "Requirement already satisfied: tinycss2 in /usr/local/lib/python3.7/dist-packages (from nbconvert>=6.1->nbdev>=0.2.38->fastbook==0.0.17) (1.1.1)\n",
            "Requirement already satisfied: nbclient>=0.5.0 in /usr/local/lib/python3.7/dist-packages (from nbconvert>=6.1->nbdev>=0.2.38->fastbook==0.0.17) (0.6.4)\n",
            "Requirement already satisfied: bleach in /usr/local/lib/python3.7/dist-packages (from nbconvert>=6.1->nbdev>=0.2.38->fastbook==0.0.17) (5.0.0)\n",
            "Requirement already satisfied: defusedxml in /usr/local/lib/python3.7/dist-packages (from nbconvert>=6.1->nbdev>=0.2.38->fastbook==0.0.17) (0.7.1)\n",
            "Requirement already satisfied: MarkupSafe>=2.0 in /usr/local/lib/python3.7/dist-packages (from nbconvert>=6.1->nbdev>=0.2.38->fastbook==0.0.17) (2.0.1)\n",
            "Requirement already satisfied: entrypoints>=0.2.2 in /usr/local/lib/python3.7/dist-packages (from nbconvert>=6.1->nbdev>=0.2.38->fastbook==0.0.17) (0.4)\n",
            "Requirement already satisfied: pandocfilters>=1.4.1 in /usr/local/lib/python3.7/dist-packages (from nbconvert>=6.1->nbdev>=0.2.38->fastbook==0.0.17) (1.5.0)\n",
            "Requirement already satisfied: mistune<2,>=0.8.1 in /usr/local/lib/python3.7/dist-packages (from nbconvert>=6.1->nbdev>=0.2.38->fastbook==0.0.17) (0.8.4)\n",
            "Requirement already satisfied: beautifulsoup4 in /usr/local/lib/python3.7/dist-packages (from nbconvert>=6.1->nbdev>=0.2.38->fastbook==0.0.17) (4.6.3)\n",
            "Requirement already satisfied: jupyterlab-pygments in /usr/local/lib/python3.7/dist-packages (from nbconvert>=6.1->nbdev>=0.2.38->fastbook==0.0.17) (0.2.2)\n",
            "Collecting Jinja2\n",
            "  Downloading Jinja2-3.1.2-py3-none-any.whl (133 kB)\n",
            "\u001b[K     |████████████████████████████████| 133 kB 45.7 MB/s \n",
            "\u001b[?25hRequirement already satisfied: pygments>=2.4.1 in /usr/local/lib/python3.7/dist-packages (from nbconvert>=6.1->nbdev>=0.2.38->fastbook==0.0.17) (2.6.1)\n",
            "Collecting jupyter-client<8\n",
            "  Downloading jupyter_client-7.3.4-py3-none-any.whl (132 kB)\n",
            "\u001b[K     |████████████████████████████████| 132 kB 52.5 MB/s \n",
            "\u001b[?25hCollecting traitlets\n",
            "  Downloading traitlets-5.2.2.post1-py3-none-any.whl (106 kB)\n",
            "\u001b[K     |████████████████████████████████| 106 kB 54.2 MB/s \n",
            "\u001b[?25hRequirement already satisfied: nest-asyncio in /usr/local/lib/python3.7/dist-packages (from nbclient>=0.5.0->nbconvert>=6.1->nbdev>=0.2.38->fastbook==0.0.17) (1.5.5)\n",
            "Collecting tornado>=4.1\n",
            "  Downloading tornado-6.1-cp37-cp37m-manylinux2010_x86_64.whl (428 kB)\n",
            "\u001b[K     |████████████████████████████████| 428 kB 17.6 MB/s \n",
            "\u001b[?25hRequirement already satisfied: fastjsonschema in /usr/local/lib/python3.7/dist-packages (from nbformat>=4.4.0->nbdev>=0.2.38->fastbook==0.0.17) (2.15.3)\n",
            "Requirement already satisfied: jsonschema>=2.6 in /usr/local/lib/python3.7/dist-packages (from nbformat>=4.4.0->nbdev>=0.2.38->fastbook==0.0.17) (4.3.3)\n",
            "Requirement already satisfied: pyrsistent!=0.17.0,!=0.17.1,!=0.17.2,>=0.14.0 in /usr/local/lib/python3.7/dist-packages (from jsonschema>=2.6->nbformat>=4.4.0->nbdev>=0.2.38->fastbook==0.0.17) (0.18.1)\n",
            "Requirement already satisfied: attrs>=17.4.0 in /usr/local/lib/python3.7/dist-packages (from jsonschema>=2.6->nbformat>=4.4.0->nbdev>=0.2.38->fastbook==0.0.17) (21.4.0)\n",
            "Requirement already satisfied: importlib-metadata in /usr/local/lib/python3.7/dist-packages (from jsonschema>=2.6->nbformat>=4.4.0->nbdev>=0.2.38->fastbook==0.0.17) (4.11.4)\n",
            "Requirement already satisfied: typing-extensions in /usr/local/lib/python3.7/dist-packages (from jsonschema>=2.6->nbformat>=4.4.0->nbdev>=0.2.38->fastbook==0.0.17) (4.2.0)\n",
            "Requirement already satisfied: importlib-resources>=1.4.0 in /usr/local/lib/python3.7/dist-packages (from jsonschema>=2.6->nbformat>=4.4.0->nbdev>=0.2.38->fastbook==0.0.17) (5.7.1)\n",
            "Requirement already satisfied: zipp>=3.1.0 in /usr/local/lib/python3.7/dist-packages (from importlib-resources>=1.4.0->jsonschema>=2.6->nbformat>=4.4.0->nbdev>=0.2.38->fastbook==0.0.17) (3.8.0)\n",
            "Requirement already satisfied: six>=1.5 in /usr/local/lib/python3.7/dist-packages (from python-dateutil>=2.1->jupyter-client<8->nbdev>=0.2.38->fastbook==0.0.17) (1.15.0)\n",
            "Requirement already satisfied: blis<0.5.0,>=0.4.0 in /usr/local/lib/python3.7/dist-packages (from spacy<4->fastai>=2.5->fastbook==0.0.17) (0.4.1)\n",
            "Requirement already satisfied: wasabi<1.1.0,>=0.4.0 in /usr/local/lib/python3.7/dist-packages (from spacy<4->fastai>=2.5->fastbook==0.0.17) (0.9.1)\n",
            "Requirement already satisfied: cymem<2.1.0,>=2.0.2 in /usr/local/lib/python3.7/dist-packages (from spacy<4->fastai>=2.5->fastbook==0.0.17) (2.0.6)\n",
            "Requirement already satisfied: srsly<1.1.0,>=1.0.2 in /usr/local/lib/python3.7/dist-packages (from spacy<4->fastai>=2.5->fastbook==0.0.17) (1.0.5)\n",
            "Requirement already satisfied: catalogue<1.1.0,>=0.0.7 in /usr/local/lib/python3.7/dist-packages (from spacy<4->fastai>=2.5->fastbook==0.0.17) (1.0.0)\n",
            "Requirement already satisfied: numpy>=1.15.0 in /usr/local/lib/python3.7/dist-packages (from spacy<4->fastai>=2.5->fastbook==0.0.17) (1.21.6)\n",
            "Requirement already satisfied: plac<1.2.0,>=0.9.6 in /usr/local/lib/python3.7/dist-packages (from spacy<4->fastai>=2.5->fastbook==0.0.17) (1.1.3)\n",
            "Requirement already satisfied: murmurhash<1.1.0,>=0.28.0 in /usr/local/lib/python3.7/dist-packages (from spacy<4->fastai>=2.5->fastbook==0.0.17) (1.0.7)\n",
            "Requirement already satisfied: tqdm<5.0.0,>=4.38.0 in /usr/local/lib/python3.7/dist-packages (from spacy<4->fastai>=2.5->fastbook==0.0.17) (4.64.0)\n",
            "Requirement already satisfied: preshed<3.1.0,>=3.0.2 in /usr/local/lib/python3.7/dist-packages (from spacy<4->fastai>=2.5->fastbook==0.0.17) (3.0.6)\n",
            "Requirement already satisfied: thinc==7.4.0 in /usr/local/lib/python3.7/dist-packages (from spacy<4->fastai>=2.5->fastbook==0.0.17) (7.4.0)\n",
            "Requirement already satisfied: setuptools in /usr/local/lib/python3.7/dist-packages (from spacy<4->fastai>=2.5->fastbook==0.0.17) (57.4.0)\n",
            "Requirement already satisfied: urllib3!=1.25.0,!=1.25.1,<1.26,>=1.21.1 in /usr/local/lib/python3.7/dist-packages (from requests->fastbook==0.0.17) (1.24.3)\n",
            "Requirement already satisfied: idna<3,>=2.5 in /usr/local/lib/python3.7/dist-packages (from requests->fastbook==0.0.17) (2.10)\n",
            "Requirement already satisfied: certifi>=2017.4.17 in /usr/local/lib/python3.7/dist-packages (from requests->fastbook==0.0.17) (2022.5.18.1)\n",
            "Requirement already satisfied: chardet<4,>=3.0.2 in /usr/local/lib/python3.7/dist-packages (from requests->fastbook==0.0.17) (3.0.4)\n",
            "Requirement already satisfied: webencodings in /usr/local/lib/python3.7/dist-packages (from bleach->nbconvert>=6.1->nbdev>=0.2.38->fastbook==0.0.17) (0.5.1)\n",
            "Requirement already satisfied: ipython>=4.0.0 in /usr/local/lib/python3.7/dist-packages (from ipykernel->nbdev>=0.2.38->fastbook==0.0.17) (5.5.0)\n",
            "Requirement already satisfied: pickleshare in /usr/local/lib/python3.7/dist-packages (from ipython>=4.0.0->ipykernel->nbdev>=0.2.38->fastbook==0.0.17) (0.7.5)\n",
            "Requirement already satisfied: prompt-toolkit<2.0.0,>=1.0.4 in /usr/local/lib/python3.7/dist-packages (from ipython>=4.0.0->ipykernel->nbdev>=0.2.38->fastbook==0.0.17) (1.0.18)\n",
            "Requirement already satisfied: simplegeneric>0.8 in /usr/local/lib/python3.7/dist-packages (from ipython>=4.0.0->ipykernel->nbdev>=0.2.38->fastbook==0.0.17) (0.8.1)\n",
            "Requirement already satisfied: pexpect in /usr/local/lib/python3.7/dist-packages (from ipython>=4.0.0->ipykernel->nbdev>=0.2.38->fastbook==0.0.17) (4.8.0)\n",
            "Requirement already satisfied: decorator in /usr/local/lib/python3.7/dist-packages (from ipython>=4.0.0->ipykernel->nbdev>=0.2.38->fastbook==0.0.17) (4.4.2)\n",
            "Requirement already satisfied: wcwidth in /usr/local/lib/python3.7/dist-packages (from prompt-toolkit<2.0.0,>=1.0.4->ipython>=4.0.0->ipykernel->nbdev>=0.2.38->fastbook==0.0.17) (0.2.5)\n",
            "Requirement already satisfied: ipython-genutils~=0.2.0 in /usr/local/lib/python3.7/dist-packages (from ipywidgets->fastbook==0.0.17) (0.2.0)\n",
            "Requirement already satisfied: jupyterlab-widgets>=1.0.0 in /usr/local/lib/python3.7/dist-packages (from ipywidgets->fastbook==0.0.17) (1.1.0)\n",
            "Requirement already satisfied: widgetsnbextension~=3.6.0 in /usr/local/lib/python3.7/dist-packages (from ipywidgets->fastbook==0.0.17) (3.6.0)\n",
            "Requirement already satisfied: notebook>=4.4.1 in /usr/local/lib/python3.7/dist-packages (from widgetsnbextension~=3.6.0->ipywidgets->fastbook==0.0.17) (5.3.1)\n",
            "Requirement already satisfied: terminado>=0.8.1 in /usr/local/lib/python3.7/dist-packages (from notebook>=4.4.1->widgetsnbextension~=3.6.0->ipywidgets->fastbook==0.0.17) (0.13.3)\n",
            "Requirement already satisfied: Send2Trash in /usr/local/lib/python3.7/dist-packages (from notebook>=4.4.1->widgetsnbextension~=3.6.0->ipywidgets->fastbook==0.0.17) (1.8.0)\n",
            "Requirement already satisfied: ptyprocess in /usr/local/lib/python3.7/dist-packages (from terminado>=0.8.1->notebook>=4.4.1->widgetsnbextension~=3.6.0->ipywidgets->fastbook==0.0.17) (0.7.0)\n",
            "Requirement already satisfied: qtconsole in /usr/local/lib/python3.7/dist-packages (from jupyter->nbdev>=0.2.38->fastbook==0.0.17) (5.3.0)\n",
            "Requirement already satisfied: jupyter-console in /usr/local/lib/python3.7/dist-packages (from jupyter->nbdev>=0.2.38->fastbook==0.0.17) (5.2.0)\n",
            "Requirement already satisfied: pyparsing!=2.0.4,!=2.1.2,!=2.1.6,>=2.0.1 in /usr/local/lib/python3.7/dist-packages (from matplotlib->fastai>=2.5->fastbook==0.0.17) (3.0.9)\n",
            "Requirement already satisfied: cycler>=0.10 in /usr/local/lib/python3.7/dist-packages (from matplotlib->fastai>=2.5->fastbook==0.0.17) (0.11.0)\n",
            "Requirement already satisfied: kiwisolver>=1.0.1 in /usr/local/lib/python3.7/dist-packages (from matplotlib->fastai>=2.5->fastbook==0.0.17) (1.4.2)\n",
            "Requirement already satisfied: pytz>=2017.3 in /usr/local/lib/python3.7/dist-packages (from pandas->fastbook==0.0.17) (2022.1)\n",
            "Requirement already satisfied: qtpy>=2.0.1 in /usr/local/lib/python3.7/dist-packages (from qtconsole->jupyter->nbdev>=0.2.38->fastbook==0.0.17) (2.1.0)\n",
            "Requirement already satisfied: threadpoolctl>=2.0.0 in /usr/local/lib/python3.7/dist-packages (from scikit-learn->fastai>=2.5->fastbook==0.0.17) (3.1.0)\n",
            "Requirement already satisfied: joblib>=0.11 in /usr/local/lib/python3.7/dist-packages (from scikit-learn->fastai>=2.5->fastbook==0.0.17) (1.1.0)\n",
            "Installing collected packages: traitlets, tornado, jupyter-client, Jinja2, nbconvert, fastcore, ghapi, fastrelease, fastdownload, sentencepiece, nbdev, fastai, fastbook\n",
            "  Attempting uninstall: traitlets\n",
            "    Found existing installation: traitlets 5.1.1\n",
            "    Uninstalling traitlets-5.1.1:\n",
            "      Successfully uninstalled traitlets-5.1.1\n",
            "  Attempting uninstall: tornado\n",
            "    Found existing installation: tornado 5.1.1\n",
            "    Uninstalling tornado-5.1.1:\n",
            "      Successfully uninstalled tornado-5.1.1\n",
            "  Attempting uninstall: jupyter-client\n",
            "    Found existing installation: jupyter-client 5.3.5\n",
            "    Uninstalling jupyter-client-5.3.5:\n",
            "      Successfully uninstalled jupyter-client-5.3.5\n",
            "  Attempting uninstall: Jinja2\n",
            "    Found existing installation: Jinja2 2.11.3\n",
            "    Uninstalling Jinja2-2.11.3:\n",
            "      Successfully uninstalled Jinja2-2.11.3\n",
            "  Attempting uninstall: nbconvert\n",
            "    Found existing installation: nbconvert 5.6.1\n",
            "    Uninstalling nbconvert-5.6.1:\n",
            "      Successfully uninstalled nbconvert-5.6.1\n",
            "  Attempting uninstall: fastai\n",
            "    Found existing installation: fastai 1.0.61\n",
            "    Uninstalling fastai-1.0.61:\n",
            "      Successfully uninstalled fastai-1.0.61\n",
            "\u001b[31mERROR: pip's dependency resolver does not currently take into account all the packages that are installed. This behaviour is the source of the following dependency conflicts.\n",
            "google-colab 1.0.0 requires tornado~=5.1.0; python_version >= \"3.0\", but you have tornado 6.1 which is incompatible.\n",
            "flask 1.1.4 requires Jinja2<3.0,>=2.10.1, but you have jinja2 3.1.2 which is incompatible.\n",
            "datascience 0.10.6 requires folium==0.2.1, but you have folium 0.8.3 which is incompatible.\u001b[0m\n",
            "Successfully installed Jinja2-3.1.2 fastai-2.6.3 fastbook-0.0.17 fastcore-1.4.4 fastdownload-0.0.6 fastrelease-0.1.16 ghapi-0.1.20 jupyter-client-7.3.4 nbconvert-6.5.0 nbdev-1.2.9 sentencepiece-0.1.96 tornado-6.1 traitlets-5.2.2.post1\n"
          ]
        },
        {
          "output_type": "display_data",
          "data": {
            "application/vnd.colab-display-data+json": {
              "pip_warning": {
                "packages": [
                  "tornado"
                ]
              }
            }
          },
          "metadata": {}
        },
        {
          "output_type": "stream",
          "name": "stdout",
          "text": [
            "Found existing installation: tornado 6.1\n",
            "Uninstalling tornado-6.1:\n",
            "  Successfully uninstalled tornado-6.1\n",
            "Looking in indexes: https://pypi.org/simple, https://us-python.pkg.dev/colab-wheels/public/simple/\n",
            "Collecting tornado==5.1.0\n",
            "  Downloading tornado-5.1.tar.gz (516 kB)\n",
            "\u001b[K     |████████████████████████████████| 516 kB 11.8 MB/s \n",
            "\u001b[?25hBuilding wheels for collected packages: tornado\n",
            "  Building wheel for tornado (setup.py) ... \u001b[?25l\u001b[?25hdone\n",
            "  Created wheel for tornado: filename=tornado-5.1-cp37-cp37m-linux_x86_64.whl size=462838 sha256=557cce760456eeabe6f5ab30affeaf62920082ef2daff499a4d37feeeebf080e\n",
            "  Stored in directory: /root/.cache/pip/wheels/8e/53/de/6a6860ebf6d2958e20a9a8337f25b0369f1666002ade0ce284\n",
            "Successfully built tornado\n",
            "Installing collected packages: tornado\n",
            "\u001b[31mERROR: pip's dependency resolver does not currently take into account all the packages that are installed. This behaviour is the source of the following dependency conflicts.\n",
            "jupyter-client 7.3.4 requires tornado>=6.0, but you have tornado 5.1 which is incompatible.\u001b[0m\n",
            "Successfully installed tornado-5.1\n",
            "Mounted at /content/gdrive\n"
          ]
        }
      ]
    },
    {
      "cell_type": "code",
      "execution_count": null,
      "metadata": {
        "id": "6d822d11",
        "colab": {
          "base_uri": "https://localhost:8080/"
        },
        "outputId": "d222922e-e2a2-4091-d285-e29c2313e27e"
      },
      "outputs": [
        {
          "output_type": "stream",
          "name": "stdout",
          "text": [
            "[nltk_data] Downloading package stopwords to /root/nltk_data...\n",
            "[nltk_data]   Unzipping corpora/stopwords.zip.\n",
            "[nltk_data] Downloading package punkt to /root/nltk_data...\n",
            "[nltk_data]   Unzipping tokenizers/punkt.zip.\n"
          ]
        }
      ],
      "source": [
        "import numpy as np\n",
        "import pandas as pd\n",
        "import matplotlib.pyplot as plt\n",
        "plt.style.use('ggplot')\n",
        "import seaborn as sns\n",
        "\n",
        "import re\n",
        "import string\n",
        "import unicodedata\n",
        "from string import punctuation\n",
        "from pathlib import Path\n",
        "\n",
        "import fastai\n",
        "from fastai import *\n",
        "from fastai.text import *\n",
        "from fastai.text.data import *\n",
        "from fastai.text.all import *\n",
        "\n",
        "import nltk\n",
        "from nltk.tokenize import word_tokenize\n",
        "from nltk.tokenize.toktok import ToktokTokenizer\n",
        "from nltk.corpus import stopwords\n",
        "nltk.download('stopwords')\n",
        "nltk.download('punkt')\n",
        "\n",
        "from sklearn.model_selection import train_test_split\n",
        "from sklearn.preprocessing import LabelEncoder, OneHotEncoder\n",
        "from sklearn import metrics\n",
        "from sklearn.compose import ColumnTransformer\n",
        "\n",
        "import torch\n",
        "import torch.nn as nn\n",
        "import torch.nn.functional as F\n",
        "from torch.optim import Adam"
      ]
    },
    {
      "cell_type": "code",
      "source": [
        "from google.colab import drive\n",
        "drive.mount('/content/drive')"
      ],
      "metadata": {
        "colab": {
          "base_uri": "https://localhost:8080/"
        },
        "id": "QsLpNfwhHjD5",
        "outputId": "9ddccac4-c5a3-46fe-c260-6c6ecef8225a"
      },
      "execution_count": null,
      "outputs": [
        {
          "output_type": "stream",
          "name": "stdout",
          "text": [
            "Mounted at /content/drive\n"
          ]
        }
      ]
    },
    {
      "cell_type": "code",
      "execution_count": null,
      "metadata": {
        "id": "5b09aabe",
        "colab": {
          "base_uri": "https://localhost:8080/"
        },
        "outputId": "28b49499-9de4-409a-d6e8-42b11d86dca6"
      },
      "outputs": [
        {
          "output_type": "stream",
          "name": "stdout",
          "text": [
            "6838 rows and 13 cols in training dataset.\n",
            "886 rows and 13 cols in dev dataset.\n",
            "3259 rows and 13 cols in test dataset.\n"
          ]
        }
      ],
      "source": [
        "train_df = pd.read_csv(\"/content/drive/MyDrive/Colab Notebooks/Data/2018-E-c-En-train.txt\", delimiter = \"\\t\")\n",
        "dev_df = pd.read_csv(\"/content/drive/MyDrive/Colab Notebooks/Data/2018-E-c-En-dev.txt\", delimiter = \"\\t\")\n",
        "test_df = pd.read_csv(\"/content/drive/MyDrive/Colab Notebooks/Data/2018-E-c-En-test-gold.txt\", delimiter = \"\\t\")\n",
        "\n",
        "# Print the shape of the train, dev and test data\n",
        "print('{} rows and {} cols in training dataset.'.format(train_df.shape[0], train_df.shape[1]))\n",
        "print('{} rows and {} cols in dev dataset.'.format(dev_df.shape[0], dev_df.shape[1]))\n",
        "print('{} rows and {} cols in test dataset.'.format(test_df.shape[0], test_df.shape[1]))"
      ]
    },
    {
      "cell_type": "code",
      "source": [
        "# Inspecting the training data\n",
        "# \"ID\", \"Tweet\", \"anger\", \"anticipation\", \"disgust\", \"fear\", \"joy\", \"love\",\"optimism\", \"pessimism\", \"sadness\", \"surprise\", \"trust\"\n",
        "train_df.head(5)"
      ],
      "metadata": {
        "colab": {
          "base_uri": "https://localhost:8080/",
          "height": 206
        },
        "id": "dLRWEvdOKWXK",
        "outputId": "6b66f169-2193-4a21-f805-6c2bd827fd0c"
      },
      "execution_count": null,
      "outputs": [
        {
          "output_type": "execute_result",
          "data": {
            "text/plain": [
              "              ID  \\\n",
              "0  2017-En-21441   \n",
              "1  2017-En-31535   \n",
              "2  2017-En-21068   \n",
              "3  2017-En-31436   \n",
              "4  2017-En-22195   \n",
              "\n",
              "                                                                                                                              Tweet  \\\n",
              "0                          “Worry is a down payment on a problem you may never have'.  Joyce Meyer.  #motivation #leadership #worry   \n",
              "1                                                                          Whatever you decide to do make sure it makes you #happy.   \n",
              "2  @Max_Kellerman  it also helps that the majority of NFL coaching is inept. Some of Bill O'Brien's play calling was wow, ! #GOPATS   \n",
              "3                     Accept the challenges so that you can literally even feel the exhilaration of victory.' -- George S. Patton 🐶   \n",
              "4                                My roommate: it's okay that we can't spell because we have autocorrect. #terrible #firstworldprobs   \n",
              "\n",
              "   anger  anticipation  disgust  fear  joy  love  optimism  pessimism  \\\n",
              "0      0             1        0     0    0     0         1          0   \n",
              "1      0             0        0     0    1     1         1          0   \n",
              "2      1             0        1     0    1     0         1          0   \n",
              "3      0             0        0     0    1     0         1          0   \n",
              "4      1             0        1     0    0     0         0          0   \n",
              "\n",
              "   sadness  surprise  trust  \n",
              "0        0         0      1  \n",
              "1        0         0      0  \n",
              "2        0         0      0  \n",
              "3        0         0      0  \n",
              "4        0         0      0  "
            ],
            "text/html": [
              "\n",
              "  <div id=\"df-7c389d99-9ee5-4a97-adb8-a809f351e910\">\n",
              "    <div class=\"colab-df-container\">\n",
              "      <div>\n",
              "<style scoped>\n",
              "    .dataframe tbody tr th:only-of-type {\n",
              "        vertical-align: middle;\n",
              "    }\n",
              "\n",
              "    .dataframe tbody tr th {\n",
              "        vertical-align: top;\n",
              "    }\n",
              "\n",
              "    .dataframe thead th {\n",
              "        text-align: right;\n",
              "    }\n",
              "</style>\n",
              "<table border=\"1\" class=\"dataframe\">\n",
              "  <thead>\n",
              "    <tr style=\"text-align: right;\">\n",
              "      <th></th>\n",
              "      <th>ID</th>\n",
              "      <th>Tweet</th>\n",
              "      <th>anger</th>\n",
              "      <th>anticipation</th>\n",
              "      <th>disgust</th>\n",
              "      <th>fear</th>\n",
              "      <th>joy</th>\n",
              "      <th>love</th>\n",
              "      <th>optimism</th>\n",
              "      <th>pessimism</th>\n",
              "      <th>sadness</th>\n",
              "      <th>surprise</th>\n",
              "      <th>trust</th>\n",
              "    </tr>\n",
              "  </thead>\n",
              "  <tbody>\n",
              "    <tr>\n",
              "      <th>0</th>\n",
              "      <td>2017-En-21441</td>\n",
              "      <td>“Worry is a down payment on a problem you may never have'.  Joyce Meyer.  #motivation #leadership #worry</td>\n",
              "      <td>0</td>\n",
              "      <td>1</td>\n",
              "      <td>0</td>\n",
              "      <td>0</td>\n",
              "      <td>0</td>\n",
              "      <td>0</td>\n",
              "      <td>1</td>\n",
              "      <td>0</td>\n",
              "      <td>0</td>\n",
              "      <td>0</td>\n",
              "      <td>1</td>\n",
              "    </tr>\n",
              "    <tr>\n",
              "      <th>1</th>\n",
              "      <td>2017-En-31535</td>\n",
              "      <td>Whatever you decide to do make sure it makes you #happy.</td>\n",
              "      <td>0</td>\n",
              "      <td>0</td>\n",
              "      <td>0</td>\n",
              "      <td>0</td>\n",
              "      <td>1</td>\n",
              "      <td>1</td>\n",
              "      <td>1</td>\n",
              "      <td>0</td>\n",
              "      <td>0</td>\n",
              "      <td>0</td>\n",
              "      <td>0</td>\n",
              "    </tr>\n",
              "    <tr>\n",
              "      <th>2</th>\n",
              "      <td>2017-En-21068</td>\n",
              "      <td>@Max_Kellerman  it also helps that the majority of NFL coaching is inept. Some of Bill O'Brien's play calling was wow, ! #GOPATS</td>\n",
              "      <td>1</td>\n",
              "      <td>0</td>\n",
              "      <td>1</td>\n",
              "      <td>0</td>\n",
              "      <td>1</td>\n",
              "      <td>0</td>\n",
              "      <td>1</td>\n",
              "      <td>0</td>\n",
              "      <td>0</td>\n",
              "      <td>0</td>\n",
              "      <td>0</td>\n",
              "    </tr>\n",
              "    <tr>\n",
              "      <th>3</th>\n",
              "      <td>2017-En-31436</td>\n",
              "      <td>Accept the challenges so that you can literally even feel the exhilaration of victory.' -- George S. Patton 🐶</td>\n",
              "      <td>0</td>\n",
              "      <td>0</td>\n",
              "      <td>0</td>\n",
              "      <td>0</td>\n",
              "      <td>1</td>\n",
              "      <td>0</td>\n",
              "      <td>1</td>\n",
              "      <td>0</td>\n",
              "      <td>0</td>\n",
              "      <td>0</td>\n",
              "      <td>0</td>\n",
              "    </tr>\n",
              "    <tr>\n",
              "      <th>4</th>\n",
              "      <td>2017-En-22195</td>\n",
              "      <td>My roommate: it's okay that we can't spell because we have autocorrect. #terrible #firstworldprobs</td>\n",
              "      <td>1</td>\n",
              "      <td>0</td>\n",
              "      <td>1</td>\n",
              "      <td>0</td>\n",
              "      <td>0</td>\n",
              "      <td>0</td>\n",
              "      <td>0</td>\n",
              "      <td>0</td>\n",
              "      <td>0</td>\n",
              "      <td>0</td>\n",
              "      <td>0</td>\n",
              "    </tr>\n",
              "  </tbody>\n",
              "</table>\n",
              "</div>\n",
              "      <button class=\"colab-df-convert\" onclick=\"convertToInteractive('df-7c389d99-9ee5-4a97-adb8-a809f351e910')\"\n",
              "              title=\"Convert this dataframe to an interactive table.\"\n",
              "              style=\"display:none;\">\n",
              "        \n",
              "  <svg xmlns=\"http://www.w3.org/2000/svg\" height=\"24px\"viewBox=\"0 0 24 24\"\n",
              "       width=\"24px\">\n",
              "    <path d=\"M0 0h24v24H0V0z\" fill=\"none\"/>\n",
              "    <path d=\"M18.56 5.44l.94 2.06.94-2.06 2.06-.94-2.06-.94-.94-2.06-.94 2.06-2.06.94zm-11 1L8.5 8.5l.94-2.06 2.06-.94-2.06-.94L8.5 2.5l-.94 2.06-2.06.94zm10 10l.94 2.06.94-2.06 2.06-.94-2.06-.94-.94-2.06-.94 2.06-2.06.94z\"/><path d=\"M17.41 7.96l-1.37-1.37c-.4-.4-.92-.59-1.43-.59-.52 0-1.04.2-1.43.59L10.3 9.45l-7.72 7.72c-.78.78-.78 2.05 0 2.83L4 21.41c.39.39.9.59 1.41.59.51 0 1.02-.2 1.41-.59l7.78-7.78 2.81-2.81c.8-.78.8-2.07 0-2.86zM5.41 20L4 18.59l7.72-7.72 1.47 1.35L5.41 20z\"/>\n",
              "  </svg>\n",
              "      </button>\n",
              "      \n",
              "  <style>\n",
              "    .colab-df-container {\n",
              "      display:flex;\n",
              "      flex-wrap:wrap;\n",
              "      gap: 12px;\n",
              "    }\n",
              "\n",
              "    .colab-df-convert {\n",
              "      background-color: #E8F0FE;\n",
              "      border: none;\n",
              "      border-radius: 50%;\n",
              "      cursor: pointer;\n",
              "      display: none;\n",
              "      fill: #1967D2;\n",
              "      height: 32px;\n",
              "      padding: 0 0 0 0;\n",
              "      width: 32px;\n",
              "    }\n",
              "\n",
              "    .colab-df-convert:hover {\n",
              "      background-color: #E2EBFA;\n",
              "      box-shadow: 0px 1px 2px rgba(60, 64, 67, 0.3), 0px 1px 3px 1px rgba(60, 64, 67, 0.15);\n",
              "      fill: #174EA6;\n",
              "    }\n",
              "\n",
              "    [theme=dark] .colab-df-convert {\n",
              "      background-color: #3B4455;\n",
              "      fill: #D2E3FC;\n",
              "    }\n",
              "\n",
              "    [theme=dark] .colab-df-convert:hover {\n",
              "      background-color: #434B5C;\n",
              "      box-shadow: 0px 1px 3px 1px rgba(0, 0, 0, 0.15);\n",
              "      filter: drop-shadow(0px 1px 2px rgba(0, 0, 0, 0.3));\n",
              "      fill: #FFFFFF;\n",
              "    }\n",
              "  </style>\n",
              "\n",
              "      <script>\n",
              "        const buttonEl =\n",
              "          document.querySelector('#df-7c389d99-9ee5-4a97-adb8-a809f351e910 button.colab-df-convert');\n",
              "        buttonEl.style.display =\n",
              "          google.colab.kernel.accessAllowed ? 'block' : 'none';\n",
              "\n",
              "        async function convertToInteractive(key) {\n",
              "          const element = document.querySelector('#df-7c389d99-9ee5-4a97-adb8-a809f351e910');\n",
              "          const dataTable =\n",
              "            await google.colab.kernel.invokeFunction('convertToInteractive',\n",
              "                                                     [key], {});\n",
              "          if (!dataTable) return;\n",
              "\n",
              "          const docLinkHtml = 'Like what you see? Visit the ' +\n",
              "            '<a target=\"_blank\" href=https://colab.research.google.com/notebooks/data_table.ipynb>data table notebook</a>'\n",
              "            + ' to learn more about interactive tables.';\n",
              "          element.innerHTML = '';\n",
              "          dataTable['output_type'] = 'display_data';\n",
              "          await google.colab.output.renderOutput(dataTable, element);\n",
              "          const docLink = document.createElement('div');\n",
              "          docLink.innerHTML = docLinkHtml;\n",
              "          element.appendChild(docLink);\n",
              "        }\n",
              "      </script>\n",
              "    </div>\n",
              "  </div>\n",
              "  "
            ]
          },
          "metadata": {},
          "execution_count": 5
        }
      ]
    },
    {
      "cell_type": "code",
      "source": [
        "# Look at the distribution of comments\n",
        "f = lambda x: train_df[x].sum()\n",
        " \n",
        " \n",
        "comment_types = train_df.columns[3:]\n",
        "comment_counts = [f(x) for x in comment_types]\n",
        " \n",
        " \n",
        "fig, ax = plt.subplots(1, 1, figsize = (10, 6))\n",
        "plt.bar(comment_types, comment_counts)\n",
        "ax.set_title(f\"Comment distribution of {len(train_df)} Tweet comments.\")\n",
        "plt.tight_layout();"
      ],
      "metadata": {
        "colab": {
          "base_uri": "https://localhost:8080/",
          "height": 441
        },
        "id": "wDNm2TyzZcXK",
        "outputId": "ea2d60f6-6d0d-49ae-d506-c82b701992b7"
      },
      "execution_count": null,
      "outputs": [
        {
          "output_type": "display_data",
          "data": {
            "text/plain": [
              "<Figure size 720x432 with 1 Axes>"
            ],
            "image/png": "[encoded data removed]"
          },
          "metadata": {}
        }
      ]
    },
    {
      "cell_type": "code",
      "execution_count": null,
      "metadata": {
        "id": "cdfade51",
        "colab": {
          "base_uri": "https://localhost:8080/",
          "height": 883
        },
        "outputId": "23519312-ab17-4f8e-8f1c-a0f026652f95"
      },
      "outputs": [
        {
          "output_type": "display_data",
          "data": {
            "text/plain": [
              "<Figure size 1080x1080 with 12 Axes>"
            ],
            "image/png": "[encoded data removed]"
          },
          "metadata": {}
        }
      ],
      "source": [
        "train_df['Count of Words'] = train_df['Tweet'].apply(lambda x:len(word_tokenize(x)))\n",
        "sns.set(style=\"darkgrid\")\n",
        "fig, axs = plt.subplots(3, 4, figsize=(15, 15))\n",
        "\n",
        "sns.histplot(data=train_df, x=\"Count of Words\", hue=\"anger\", multiple=\"stack\", kde=True, ax=axs[0, 0])\n",
        "sns.histplot(data=train_df, x=\"Count of Words\", hue=\"anticipation\", multiple=\"stack\", kde=True, ax=axs[0, 1])\n",
        "sns.histplot(data=train_df, x=\"Count of Words\", hue=\"disgust\", multiple=\"stack\", kde=True, ax=axs[0, 2])\n",
        "sns.histplot(data=train_df, x=\"Count of Words\", hue=\"fear\", multiple=\"stack\", kde=True, ax=axs[0, 3])\n",
        "sns.histplot(data=train_df, x=\"Count of Words\", hue=\"joy\", multiple=\"stack\", kde=True, ax=axs[1, 0])\n",
        "sns.histplot(data=train_df, x=\"Count of Words\", hue=\"love\", multiple=\"stack\", kde=True, ax=axs[1, 1])\n",
        "sns.histplot(data=train_df, x=\"Count of Words\", hue=\"optimism\", multiple=\"stack\", kde=True, ax=axs[1, 2])\n",
        "sns.histplot(data=train_df, x=\"Count of Words\", hue=\"pessimism\", multiple=\"stack\", kde=True, ax=axs[1, 3])\n",
        "sns.histplot(data=train_df, x=\"Count of Words\", hue=\"sadness\", multiple=\"stack\", kde=True, ax=axs[2, 0])\n",
        "sns.histplot(data=train_df, x=\"Count of Words\", hue=\"surprise\", multiple=\"stack\", kde=True, ax=axs[2, 1])\n",
        "sns.histplot(data=train_df, x=\"Count of Words\", hue=\"trust\", multiple=\"stack\", kde=True, ax=axs[2, 2])\n",
        "\n",
        "plt.show()\n",
        "\n",
        "train_df = train_df.drop(columns=['Count of Words'])"
      ]
    },
    {
      "cell_type": "code",
      "source": [
        "#Remove special characters & retain alphabets\n",
        "train_df[\"Tweet\"] = train_df[\"Tweet\"].str.replace(\"[^a-zA-Z]\", \" \")\n",
        "dev_df[\"Tweet\"] = dev_df[\"Tweet\"].str.replace(\"[^a-zA-Z]\", \" \")\n",
        "test_df[\"Tweet\"] = test_df[\"Tweet\"].str.replace(\"[^a-zA-Z]\", \" \")\n",
        "\n",
        "#Lowering the case\n",
        "train_df[\"Tweet\"] = train_df[\"Tweet\"].str.lower()\n",
        "dev_df[\"Tweet\"] = dev_df[\"Tweet\"].str.lower()\n",
        "test_df[\"Tweet\"] = test_df[\"Tweet\"].str.lower()\n",
        "\n",
        "#stripping leading spaces (if any)\n",
        "train_df[\"Tweet\"] = train_df[\"Tweet\"].str.strip()\n",
        "dev_df[\"Tweet\"] = dev_df[\"Tweet\"].str.strip()\n",
        "test_df[\"Tweet\"] = test_df[\"Tweet\"].str.strip()\n",
        "\n",
        "#removing punctuations\n",
        "def remove_punct(text):\n",
        "  for punctuations in punctuation:\n",
        "    text = text.replace(punctuations, '')\n",
        "  return text\n",
        "\n",
        "train_df[\"Tweet\"] = train_df[\"Tweet\"].apply(remove_punct)\n",
        "dev_df[\"Tweet\"] = dev_df[\"Tweet\"].apply(remove_punct)\n",
        "test_df[\"Tweet\"] = test_df[\"Tweet\"].apply(remove_punct)\n",
        "\n",
        "#function to remove macrons & accented characters\n",
        "def remove_accented_chars(text):\n",
        "    text = unicodedata.normalize('NFKD', text).encode('ascii', 'ignore').decode('utf-8', 'ignore')\n",
        "    return text\n",
        "\n",
        "train_df[\"Tweet\"] = train_df[\"Tweet\"].apply(remove_accented_chars)\n",
        "dev_df[\"Tweet\"] = dev_df[\"Tweet\"].apply(remove_accented_chars)\n",
        "test_df[\"Tweet\"] = test_df[\"Tweet\"].apply(remove_accented_chars)\n",
        "\n",
        "#Remove emojis function\n",
        "def emoji_remove(text):\n",
        "    emoji_pattern = re.compile(\"[\"\n",
        "                           u\"\\U0001F600-\\U0001F64F\"  \n",
        "                           u\"\\U0001F300-\\U0001F5FF\"  \n",
        "                           u\"\\U0001F680-\\U0001F6FF\"  \n",
        "                           u\"\\U0001F1E0-\\U0001F1FF\"  \n",
        "                           u\"\\U00002702-\\U000027B0\"\n",
        "                           u\"\\U000024C2-\\U0001F251\"\n",
        "                           \"]+\", flags=re.UNICODE)\n",
        "    return emoji_pattern.sub(r'', text)\n",
        "\n",
        "train_df[\"Tweet\"] = train_df[\"Tweet\"].apply(emoji_remove)\n",
        "dev_df[\"Tweet\"] = dev_df[\"Tweet\"].apply(emoji_remove)\n",
        "test_df[\"Tweet\"] = test_df[\"Tweet\"].apply(emoji_remove)\n",
        "\n",
        "#Removing Stopwords\n",
        "stopword_list = set(stopwords.words('english'))\n",
        "tokenizer = ToktokTokenizer()\n",
        "\n",
        "def remove_stopwords(text, is_lower_case=False):\n",
        "    tokens = tokenizer.tokenize(text)\n",
        "    tokens = [token.strip() for token in tokens]\n",
        "    if is_lower_case:\n",
        "        filtered_tokens = [token for token in tokens if token not in stopword_list]\n",
        "    else:\n",
        "        filtered_tokens = [token for token in tokens if token.lower() not in stopword_list]\n",
        "    filtered_text = ' '.join(filtered_tokens)    \n",
        "    return filtered_text\n",
        "\n",
        "train_df[\"Tweet\"] = train_df[\"Tweet\"].apply(remove_stopwords)\n",
        "dev_df[\"Tweet\"] = dev_df[\"Tweet\"].apply(remove_stopwords)\n",
        "test_df[\"Tweet\"] = test_df[\"Tweet\"].apply(remove_stopwords)"
      ],
      "metadata": {
        "id": "2L6ankdKwc97"
      },
      "execution_count": null,
      "outputs": []
    },
    {
      "cell_type": "code",
      "source": [
        "train_data = train_df\n",
        "dev_data = dev_df\n",
        "test_data = test_df[['ID', 'Tweet']]\n",
        "test_id = test_data['ID']\n",
        "all_df = pd.concat([train_df, dev_df])"
      ],
      "metadata": {
        "id": "AuKK6CCeyxA-"
      },
      "execution_count": null,
      "outputs": []
    },
    {
      "cell_type": "code",
      "source": [
        "train_data.to_csv(\"train_data.csv\", index=False)\n",
        "dev_data.to_csv(\"val_data.csv\", index=False)\n",
        "test_data.to_csv(\"test_data.csv\", index=False)\n",
        "all_df.to_csv(\"all_df.csv\", index=False)"
      ],
      "metadata": {
        "id": "w2uR2wPzy1YG"
      },
      "execution_count": null,
      "outputs": []
    },
    {
      "cell_type": "code",
      "source": [
        "data_path = Path('/content/')\n",
        "data_path.ls()"
      ],
      "metadata": {
        "colab": {
          "base_uri": "https://localhost:8080/"
        },
        "id": "VmM4GVbDfHKH",
        "outputId": "f73e011e-753a-4601-ef37-7957f1eb1e2f"
      },
      "execution_count": null,
      "outputs": [
        {
          "output_type": "execute_result",
          "data": {
            "text/plain": [
              "(#8) [Path('/content/.config'),Path('/content/val_data.csv'),Path('/content/test_data.csv'),Path('/content/train_data.csv'),Path('/content/all_df.csv'),Path('/content/drive'),Path('/content/gdrive'),Path('/content/sample_data')]"
            ]
          },
          "metadata": {},
          "execution_count": 11
        }
      ]
    },
    {
      "cell_type": "markdown",
      "source": [
        "## ULMFiT - Universal Language Model Fine-tuning for Text Classification"
      ],
      "metadata": {
        "id": "f9b6cYY-sUww"
      }
    },
    {
      "cell_type": "code",
      "source": [
        "lm_df=all_df[['ID','Tweet']]\n",
        "#For creating a language model\n",
        "lm_data = TextDataLoaders.from_df(lm_df,\n",
        "                  #Specify the column that contains the comments\n",
        "                  text_col='Tweet',\n",
        "                  #Specify how much data is within train and validation sets\n",
        "                  valid_pct=0.2,\n",
        "                  #Mention explicitly that this dataloader is meant for language model\n",
        "                  is_lm=True,\n",
        "                  #Pick a sequence legth i.e. how many words to feed through the RNN at once\n",
        "                  seq_len=40,\n",
        "                  #Specify the batch size for the dataloader\n",
        "                  bs=64)\n",
        "lm_data.show_batch(max_n=3)"
      ],
      "metadata": {
        "colab": {
          "base_uri": "https://localhost:8080/",
          "height": 213
        },
        "id": "wsXimQvA1h64",
        "outputId": "f07e160b-eae1-40c3-cbc1-cf70ddbfb58e"
      },
      "execution_count": null,
      "outputs": [
        {
          "output_type": "display_data",
          "data": {
            "text/plain": [
              "<IPython.core.display.HTML object>"
            ],
            "text/html": [
              "\n",
              "<style>\n",
              "    /* Turns off some styling */\n",
              "    progress {\n",
              "        /* gets rid of default border in Firefox and Opera. */\n",
              "        border: none;\n",
              "        /* Needs to be in here for Safari polyfill so background images work as expected. */\n",
              "        background-size: auto;\n",
              "    }\n",
              "    .progress-bar-interrupted, .progress-bar-interrupted::-webkit-progress-bar {\n",
              "        background: #F44336;\n",
              "    }\n",
              "</style>\n"
            ]
          },
          "metadata": {}
        },
        {
          "output_type": "display_data",
          "data": {
            "text/plain": [
              "<IPython.core.display.HTML object>"
            ],
            "text/html": [
              ""
            ]
          },
          "metadata": {}
        },
        {
          "output_type": "display_data",
          "data": {
            "text/plain": [
              "<IPython.core.display.HTML object>"
            ],
            "text/html": [
              "<table border=\"1\" class=\"dataframe\">\n",
              "  <thead>\n",
              "    <tr style=\"text-align: right;\">\n",
              "      <th></th>\n",
              "      <th>text</th>\n",
              "      <th>text_</th>\n",
              "    </tr>\n",
              "  </thead>\n",
              "  <tbody>\n",
              "    <tr>\n",
              "      <th>0</th>\n",
              "      <td>xxbos xxunk horror h sure lol xxunk decision xxbos let behavior others destroy ur inner peace dalai lama xxunk healing depression xxunk meditation book xxbos xxunk hey bae xxunk happy th month anniversary ily xxbos xxunk lol wish understood crazy</td>\n",
              "      <td>xxunk horror h sure lol xxunk decision xxbos let behavior others destroy ur inner peace dalai lama xxunk healing depression xxunk meditation book xxbos xxunk hey bae xxunk happy th month anniversary ily xxbos xxunk lol wish understood crazy rabid</td>\n",
              "    </tr>\n",
              "    <tr>\n",
              "      <th>1</th>\n",
              "      <td>xxunk xxbos cure anxiety xxunk relationship christ john xxbos hi names anxiety xxunk xxbos like hello first born must always laugh jokes xxbos good start day forgot set alarm well friday xxbos xxunk like box coffee xxunk horrible xxbos mr</td>\n",
              "      <td>xxbos cure anxiety xxunk relationship christ john xxbos hi names anxiety xxunk xxbos like hello first born must always laugh jokes xxbos good start day forgot set alarm well friday xxbos xxunk like box coffee xxunk horrible xxbos mr h</td>\n",
              "    </tr>\n",
              "    <tr>\n",
              "      <th>2</th>\n",
              "      <td>y ing xxunk xxunk xxunk xxunk xxbos america openly xxunk racism xxbos mhchat think sadness felt strongly physically mentally feels like takes hard focus work mhchat xxbos told chiropractor good time long time xxunk xxunk yet xxunk doctor xxbos xxunk</td>\n",
              "      <td>ing xxunk xxunk xxunk xxunk xxbos america openly xxunk racism xxbos mhchat think sadness felt strongly physically mentally feels like takes hard focus work mhchat xxbos told chiropractor good time long time xxunk xxunk yet xxunk doctor xxbos xxunk dull</td>\n",
              "    </tr>\n",
              "  </tbody>\n",
              "</table>"
            ]
          },
          "metadata": {}
        }
      ]
    },
    {
      "cell_type": "code",
      "source": [
        "lm_learn = language_model_learner(lm_data, \n",
        "                AWD_LSTM, \n",
        "                drop_mult=0.3,\n",
        "                metrics=[accuracy, Perplexity()]).to_fp16()"
      ],
      "metadata": {
        "id": "YpDMPfIezyS_",
        "colab": {
          "base_uri": "https://localhost:8080/",
          "height": 37
        },
        "outputId": "3e50c6e8-85d6-4522-f5e1-fc099dcbc16a"
      },
      "execution_count": null,
      "outputs": [
        {
          "output_type": "display_data",
          "data": {
            "text/plain": [
              "<IPython.core.display.HTML object>"
            ],
            "text/html": [
              "\n",
              "<style>\n",
              "    /* Turns off some styling */\n",
              "    progress {\n",
              "        /* gets rid of default border in Firefox and Opera. */\n",
              "        border: none;\n",
              "        /* Needs to be in here for Safari polyfill so background images work as expected. */\n",
              "        background-size: auto;\n",
              "    }\n",
              "    .progress-bar-interrupted, .progress-bar-interrupted::-webkit-progress-bar {\n",
              "        background: #F44336;\n",
              "    }\n",
              "</style>\n"
            ]
          },
          "metadata": {}
        },
        {
          "output_type": "display_data",
          "data": {
            "text/plain": [
              "<IPython.core.display.HTML object>"
            ],
            "text/html": [
              "\n",
              "    <div>\n",
              "      <progress value='105070592' class='' max='105067061' style='width:300px; height:20px; vertical-align: middle;'></progress>\n",
              "      100.00% [105070592/105067061 00:03<00:00]\n",
              "    </div>\n",
              "    "
            ]
          },
          "metadata": {}
        }
      ]
    },
    {
      "cell_type": "code",
      "source": [
        "# Finding the optimal learning rate\n",
        "lm_learn.lr_find()"
      ],
      "metadata": {
        "colab": {
          "base_uri": "https://localhost:8080/",
          "height": 309
        },
        "id": "sFU-XT7I3U7f",
        "outputId": "68562617-e660-455a-a57d-3c1bdf19e6b0"
      },
      "execution_count": null,
      "outputs": [
        {
          "output_type": "display_data",
          "data": {
            "text/plain": [
              "<IPython.core.display.HTML object>"
            ],
            "text/html": [
              "\n",
              "<style>\n",
              "    /* Turns off some styling */\n",
              "    progress {\n",
              "        /* gets rid of default border in Firefox and Opera. */\n",
              "        border: none;\n",
              "        /* Needs to be in here for Safari polyfill so background images work as expected. */\n",
              "        background-size: auto;\n",
              "    }\n",
              "    .progress-bar-interrupted, .progress-bar-interrupted::-webkit-progress-bar {\n",
              "        background: #F44336;\n",
              "    }\n",
              "</style>\n"
            ]
          },
          "metadata": {}
        },
        {
          "output_type": "display_data",
          "data": {
            "text/plain": [
              "<IPython.core.display.HTML object>"
            ],
            "text/html": [
              ""
            ]
          },
          "metadata": {}
        },
        {
          "output_type": "execute_result",
          "data": {
            "text/plain": [
              "SuggestedLRs(valley=0.002511886414140463)"
            ]
          },
          "metadata": {},
          "execution_count": 14
        },
        {
          "output_type": "display_data",
          "data": {
            "text/plain": [
              "<Figure size 432x288 with 1 Axes>"
            ],
            "image/png": "[encoded data removed]"
          },
          "metadata": {}
        }
      ]
    },
    {
      "cell_type": "code",
      "source": [
        "# Fit using one cycle policy\n",
        "lm_learn.fit_one_cycle(1, 1e-2)"
      ],
      "metadata": {
        "colab": {
          "base_uri": "https://localhost:8080/",
          "height": 81
        },
        "id": "3a_VVCeT_krv",
        "outputId": "89b27cc4-ebe2-45d2-f415-b8ab5370e550"
      },
      "execution_count": null,
      "outputs": [
        {
          "output_type": "display_data",
          "data": {
            "text/plain": [
              "<IPython.core.display.HTML object>"
            ],
            "text/html": [
              "\n",
              "<style>\n",
              "    /* Turns off some styling */\n",
              "    progress {\n",
              "        /* gets rid of default border in Firefox and Opera. */\n",
              "        border: none;\n",
              "        /* Needs to be in here for Safari polyfill so background images work as expected. */\n",
              "        background-size: auto;\n",
              "    }\n",
              "    .progress-bar-interrupted, .progress-bar-interrupted::-webkit-progress-bar {\n",
              "        background: #F44336;\n",
              "    }\n",
              "</style>\n"
            ]
          },
          "metadata": {}
        },
        {
          "output_type": "display_data",
          "data": {
            "text/plain": [
              "<IPython.core.display.HTML object>"
            ],
            "text/html": [
              "<table border=\"1\" class=\"dataframe\">\n",
              "  <thead>\n",
              "    <tr style=\"text-align: left;\">\n",
              "      <th>epoch</th>\n",
              "      <th>train_loss</th>\n",
              "      <th>valid_loss</th>\n",
              "      <th>accuracy</th>\n",
              "      <th>perplexity</th>\n",
              "      <th>time</th>\n",
              "    </tr>\n",
              "  </thead>\n",
              "  <tbody>\n",
              "    <tr>\n",
              "      <td>0</td>\n",
              "      <td>6.483625</td>\n",
              "      <td>6.070751</td>\n",
              "      <td>0.196894</td>\n",
              "      <td>433.005829</td>\n",
              "      <td>00:08</td>\n",
              "    </tr>\n",
              "  </tbody>\n",
              "</table>"
            ]
          },
          "metadata": {}
        }
      ]
    },
    {
      "cell_type": "code",
      "source": [
        "# Unfreeze all layers\n",
        "lm_learn.unfreeze()\n",
        "# fit one cycle for 10 epochs\n",
        "lm_learn.fit_one_cycle(10, 1e-2)"
      ],
      "metadata": {
        "colab": {
          "base_uri": "https://localhost:8080/",
          "height": 363
        },
        "id": "A9-ss1Ip1Qw-",
        "outputId": "082c02c4-1e34-4be3-e832-25c9519c86d1"
      },
      "execution_count": null,
      "outputs": [
        {
          "output_type": "display_data",
          "data": {
            "text/plain": [
              "<IPython.core.display.HTML object>"
            ],
            "text/html": [
              "\n",
              "<style>\n",
              "    /* Turns off some styling */\n",
              "    progress {\n",
              "        /* gets rid of default border in Firefox and Opera. */\n",
              "        border: none;\n",
              "        /* Needs to be in here for Safari polyfill so background images work as expected. */\n",
              "        background-size: auto;\n",
              "    }\n",
              "    .progress-bar-interrupted, .progress-bar-interrupted::-webkit-progress-bar {\n",
              "        background: #F44336;\n",
              "    }\n",
              "</style>\n"
            ]
          },
          "metadata": {}
        },
        {
          "output_type": "display_data",
          "data": {
            "text/plain": [
              "<IPython.core.display.HTML object>"
            ],
            "text/html": [
              "<table border=\"1\" class=\"dataframe\">\n",
              "  <thead>\n",
              "    <tr style=\"text-align: left;\">\n",
              "      <th>epoch</th>\n",
              "      <th>train_loss</th>\n",
              "      <th>valid_loss</th>\n",
              "      <th>accuracy</th>\n",
              "      <th>perplexity</th>\n",
              "      <th>time</th>\n",
              "    </tr>\n",
              "  </thead>\n",
              "  <tbody>\n",
              "    <tr>\n",
              "      <td>0</td>\n",
              "      <td>5.799122</td>\n",
              "      <td>6.185358</td>\n",
              "      <td>0.207161</td>\n",
              "      <td>485.586578</td>\n",
              "      <td>00:09</td>\n",
              "    </tr>\n",
              "    <tr>\n",
              "      <td>1</td>\n",
              "      <td>5.711247</td>\n",
              "      <td>5.664521</td>\n",
              "      <td>0.228609</td>\n",
              "      <td>288.449707</td>\n",
              "      <td>00:09</td>\n",
              "    </tr>\n",
              "    <tr>\n",
              "      <td>2</td>\n",
              "      <td>5.334632</td>\n",
              "      <td>5.568874</td>\n",
              "      <td>0.251172</td>\n",
              "      <td>262.138855</td>\n",
              "      <td>00:09</td>\n",
              "    </tr>\n",
              "    <tr>\n",
              "      <td>3</td>\n",
              "      <td>4.781754</td>\n",
              "      <td>5.709859</td>\n",
              "      <td>0.262909</td>\n",
              "      <td>301.828613</td>\n",
              "      <td>00:11</td>\n",
              "    </tr>\n",
              "    <tr>\n",
              "      <td>4</td>\n",
              "      <td>4.094499</td>\n",
              "      <td>5.821636</td>\n",
              "      <td>0.282143</td>\n",
              "      <td>337.523712</td>\n",
              "      <td>00:09</td>\n",
              "    </tr>\n",
              "    <tr>\n",
              "      <td>5</td>\n",
              "      <td>3.362980</td>\n",
              "      <td>6.102658</td>\n",
              "      <td>0.296224</td>\n",
              "      <td>447.044556</td>\n",
              "      <td>00:09</td>\n",
              "    </tr>\n",
              "    <tr>\n",
              "      <td>6</td>\n",
              "      <td>2.674774</td>\n",
              "      <td>6.385741</td>\n",
              "      <td>0.302865</td>\n",
              "      <td>593.324341</td>\n",
              "      <td>00:09</td>\n",
              "    </tr>\n",
              "    <tr>\n",
              "      <td>7</td>\n",
              "      <td>2.118855</td>\n",
              "      <td>6.566094</td>\n",
              "      <td>0.304353</td>\n",
              "      <td>710.588806</td>\n",
              "      <td>00:09</td>\n",
              "    </tr>\n",
              "    <tr>\n",
              "      <td>8</td>\n",
              "      <td>1.732541</td>\n",
              "      <td>6.643604</td>\n",
              "      <td>0.301972</td>\n",
              "      <td>767.857239</td>\n",
              "      <td>00:09</td>\n",
              "    </tr>\n",
              "    <tr>\n",
              "      <td>9</td>\n",
              "      <td>1.479534</td>\n",
              "      <td>6.673759</td>\n",
              "      <td>0.302902</td>\n",
              "      <td>791.364746</td>\n",
              "      <td>00:09</td>\n",
              "    </tr>\n",
              "  </tbody>\n",
              "</table>"
            ]
          },
          "metadata": {}
        }
      ]
    },
    {
      "cell_type": "code",
      "source": [
        "# save the encoder\n",
        "lm_learn.save_encoder('fine_tuned_encoder')"
      ],
      "metadata": {
        "id": "GdWR8weVfqvW"
      },
      "execution_count": null,
      "outputs": []
    },
    {
      "cell_type": "code",
      "source": [
        "#Make a list of columns that would serve as your labels for this task\n",
        "label_cols=list(all_df.columns[2:])\n",
        "\n",
        "# Create a column of texts which has a list of all the categories.\n",
        "# When all the entries are zeros, let's call the txt sober\n",
        "def get_labels(row):\n",
        "    indcs = np.where(row == 1)[0]\n",
        "    if len(indcs) == 0:\n",
        "        return \"sober\"\n",
        "    return \";\".join([label_cols[x] for x in indcs])\n",
        "    \n",
        "# Get the labels all in a nicely formatted style\n",
        "labels=all_df[label_cols].apply(lambda row: get_labels(row), axis = 1)\n",
        " \n",
        " \n",
        "# Add the labels object to our dataframe\n",
        "all_df[\"Labels\"] = labels"
      ],
      "metadata": {
        "id": "XrForEeWCWzE"
      },
      "execution_count": null,
      "outputs": []
    },
    {
      "cell_type": "code",
      "source": [
        "# Create a Dataloader to feed to the model\n",
        "data_blk = DataBlock(\n",
        "    blocks = (TextBlock.from_df(text_cols='Tweet',\n",
        "                    vocab=lm_data.vocab,\n",
        "                    seq_len=40),\n",
        "                    MultiCategoryBlock(add_na=True)),\n",
        "                    get_x=ColReader(cols=\"text\"),\n",
        "                    get_y=ColReader(cols=\"Labels\", label_delim = ';'),\n",
        "                    splitter = TrainTestSplitter(test_size=0.2, random_state=21))\n",
        " \n",
        "clas_data = data_blk.dataloaders(all_df, bs=64, seed=20)"
      ],
      "metadata": {
        "colab": {
          "base_uri": "https://localhost:8080/",
          "height": 17
        },
        "id": "z6qZuHEzA9sw",
        "outputId": "bac300fd-1b45-4210-debf-024e8e37a6ab"
      },
      "execution_count": null,
      "outputs": [
        {
          "output_type": "display_data",
          "data": {
            "text/plain": [
              "<IPython.core.display.HTML object>"
            ],
            "text/html": [
              "\n",
              "<style>\n",
              "    /* Turns off some styling */\n",
              "    progress {\n",
              "        /* gets rid of default border in Firefox and Opera. */\n",
              "        border: none;\n",
              "        /* Needs to be in here for Safari polyfill so background images work as expected. */\n",
              "        background-size: auto;\n",
              "    }\n",
              "    .progress-bar-interrupted, .progress-bar-interrupted::-webkit-progress-bar {\n",
              "        background: #F44336;\n",
              "    }\n",
              "</style>\n"
            ]
          },
          "metadata": {}
        },
        {
          "output_type": "display_data",
          "data": {
            "text/plain": [
              "<IPython.core.display.HTML object>"
            ],
            "text/html": [
              ""
            ]
          },
          "metadata": {}
        }
      ]
    },
    {
      "cell_type": "code",
      "source": [
        "clas_data.show_batch(max_n=3)"
      ],
      "metadata": {
        "colab": {
          "base_uri": "https://localhost:8080/",
          "height": 143
        },
        "id": "5eR7TKOH5tkx",
        "outputId": "f0911307-3b61-4715-813d-0edc85e70ea3"
      },
      "execution_count": null,
      "outputs": [
        {
          "output_type": "display_data",
          "data": {
            "text/plain": [
              "<IPython.core.display.HTML object>"
            ],
            "text/html": [
              "<table border=\"1\" class=\"dataframe\">\n",
              "  <thead>\n",
              "    <tr style=\"text-align: right;\">\n",
              "      <th></th>\n",
              "      <th>text</th>\n",
              "      <th>None</th>\n",
              "    </tr>\n",
              "  </thead>\n",
              "  <tbody>\n",
              "    <tr>\n",
              "      <th>0</th>\n",
              "      <td>xxbos xxunk baby ha xxrep 4 p y ha xxrep 4 p xxrep 6 y ha xxrep 6 p xxrep 5 y h xxrep 3 a xxrep 3 p xxrep 4 y birthday best friend love lots chapter xxunk love</td>\n",
              "      <td>joy;love</td>\n",
              "    </tr>\n",
              "    <tr>\n",
              "      <th>1</th>\n",
              "      <td>xxbos ff n n family x n n soul blues amp rock band n n music heart n xxunk soul amp passion n xxunk xx</td>\n",
              "      <td>joy</td>\n",
              "    </tr>\n",
              "    <tr>\n",
              "      <th>2</th>\n",
              "      <td>xxbos gon na eat pick brother get car washed amp finally go home re xxrep 5 s t amp watch fast amp furious movies</td>\n",
              "      <td>anticipation;joy;optimism</td>\n",
              "    </tr>\n",
              "  </tbody>\n",
              "</table>"
            ]
          },
          "metadata": {}
        }
      ]
    },
    {
      "cell_type": "code",
      "source": [
        "# Building the classifier\n",
        "classifier_learn = text_classifier_learner(clas_data, \n",
        "                       AWD_LSTM, \n",
        "                       drop_mult=0.3,\n",
        "                       pretrained=True, \n",
        "                       metrics=[accuracy_multi, Perplexity()])\n",
        "classifier_learn.summary()"
      ],
      "metadata": {
        "colab": {
          "base_uri": "https://localhost:8080/",
          "height": 749
        },
        "id": "1sbdBKaB7zPK",
        "outputId": "6587a017-a492-4ecb-fc41-5161e9ef78dc"
      },
      "execution_count": null,
      "outputs": [
        {
          "output_type": "display_data",
          "data": {
            "text/plain": [
              "<IPython.core.display.HTML object>"
            ],
            "text/html": [
              "\n",
              "<style>\n",
              "    /* Turns off some styling */\n",
              "    progress {\n",
              "        /* gets rid of default border in Firefox and Opera. */\n",
              "        border: none;\n",
              "        /* Needs to be in here for Safari polyfill so background images work as expected. */\n",
              "        background-size: auto;\n",
              "    }\n",
              "    .progress-bar-interrupted, .progress-bar-interrupted::-webkit-progress-bar {\n",
              "        background: #F44336;\n",
              "    }\n",
              "</style>\n"
            ]
          },
          "metadata": {}
        },
        {
          "output_type": "display_data",
          "data": {
            "text/plain": [
              "<IPython.core.display.HTML object>"
            ],
            "text/html": [
              ""
            ]
          },
          "metadata": {}
        },
        {
          "output_type": "execute_result",
          "data": {
            "text/plain": [
              "SequentialRNN (Input shape: 64 x 40)\n",
              "============================================================================\n",
              "Layer (type)         Output Shape         Param #    Trainable \n",
              "============================================================================\n",
              "                     64 x 40 x 1152      \n",
              "LSTM                                                           \n",
              "LSTM                                                           \n",
              "____________________________________________________________________________\n",
              "                     64 x 40 x 400       \n",
              "LSTM                                                           \n",
              "RNNDropout                                                     \n",
              "RNNDropout                                                     \n",
              "RNNDropout                                                     \n",
              "BatchNorm1d                               2400       True      \n",
              "Dropout                                                        \n",
              "____________________________________________________________________________\n",
              "                     64 x 50             \n",
              "Linear                                    60000      True      \n",
              "ReLU                                                           \n",
              "BatchNorm1d                               100        True      \n",
              "Dropout                                                        \n",
              "____________________________________________________________________________\n",
              "                     64 x 13             \n",
              "Linear                                    650        True      \n",
              "____________________________________________________________________________\n",
              "\n",
              "Total params: 63,150\n",
              "Total trainable params: 63,150\n",
              "Total non-trainable params: 0\n",
              "\n",
              "Optimizer used: <function Adam at 0x7f5ecf5273b0>\n",
              "Loss function: FlattenedLoss of BCEWithLogitsLoss()\n",
              "\n",
              "Model frozen up to parameter group #4\n",
              "\n",
              "Callbacks:\n",
              "  - TrainEvalCallback\n",
              "  - ModelResetter\n",
              "  - RNNCallback\n",
              "  - Recorder\n",
              "  - ProgressCallback"
            ],
            "application/vnd.google.colaboratory.intrinsic+json": {
              "type": "string"
            }
          },
          "metadata": {},
          "execution_count": 21
        }
      ]
    },
    {
      "cell_type": "code",
      "source": [
        "# loading the saved encoder\n",
        "classifier_learn.load_encoder('fine_tuned_encoder')\n",
        "classifier_learn.lr_find()"
      ],
      "metadata": {
        "colab": {
          "base_uri": "https://localhost:8080/",
          "height": 309
        },
        "id": "AAycHxPRZ2mW",
        "outputId": "35c203b1-4d0f-492d-e90d-5605945138f7"
      },
      "execution_count": null,
      "outputs": [
        {
          "output_type": "display_data",
          "data": {
            "text/plain": [
              "<IPython.core.display.HTML object>"
            ],
            "text/html": [
              "\n",
              "<style>\n",
              "    /* Turns off some styling */\n",
              "    progress {\n",
              "        /* gets rid of default border in Firefox and Opera. */\n",
              "        border: none;\n",
              "        /* Needs to be in here for Safari polyfill so background images work as expected. */\n",
              "        background-size: auto;\n",
              "    }\n",
              "    .progress-bar-interrupted, .progress-bar-interrupted::-webkit-progress-bar {\n",
              "        background: #F44336;\n",
              "    }\n",
              "</style>\n"
            ]
          },
          "metadata": {}
        },
        {
          "output_type": "display_data",
          "data": {
            "text/plain": [
              "<IPython.core.display.HTML object>"
            ],
            "text/html": [
              ""
            ]
          },
          "metadata": {}
        },
        {
          "output_type": "execute_result",
          "data": {
            "text/plain": [
              "SuggestedLRs(valley=0.002511886414140463)"
            ]
          },
          "metadata": {},
          "execution_count": 22
        },
        {
          "output_type": "display_data",
          "data": {
            "text/plain": [
              "<Figure size 432x288 with 1 Axes>"
            ],
            "image/png": "[encoded data removed]"
          },
          "metadata": {}
        }
      ]
    },
    {
      "cell_type": "code",
      "source": [
        "# fine tuning the whole network\n",
        "classifier_learn.fit_one_cycle(1, 5e-2)  "
      ],
      "metadata": {
        "colab": {
          "base_uri": "https://localhost:8080/",
          "height": 81
        },
        "id": "LNfgRY0oodJe",
        "outputId": "ff7cf3e8-c976-4a7d-db6b-06f67883d3c6"
      },
      "execution_count": null,
      "outputs": [
        {
          "output_type": "display_data",
          "data": {
            "text/plain": [
              "<IPython.core.display.HTML object>"
            ],
            "text/html": [
              "\n",
              "<style>\n",
              "    /* Turns off some styling */\n",
              "    progress {\n",
              "        /* gets rid of default border in Firefox and Opera. */\n",
              "        border: none;\n",
              "        /* Needs to be in here for Safari polyfill so background images work as expected. */\n",
              "        background-size: auto;\n",
              "    }\n",
              "    .progress-bar-interrupted, .progress-bar-interrupted::-webkit-progress-bar {\n",
              "        background: #F44336;\n",
              "    }\n",
              "</style>\n"
            ]
          },
          "metadata": {}
        },
        {
          "output_type": "display_data",
          "data": {
            "text/plain": [
              "<IPython.core.display.HTML object>"
            ],
            "text/html": [
              "<table border=\"1\" class=\"dataframe\">\n",
              "  <thead>\n",
              "    <tr style=\"text-align: left;\">\n",
              "      <th>epoch</th>\n",
              "      <th>train_loss</th>\n",
              "      <th>valid_loss</th>\n",
              "      <th>accuracy_multi</th>\n",
              "      <th>perplexity</th>\n",
              "      <th>time</th>\n",
              "    </tr>\n",
              "  </thead>\n",
              "  <tbody>\n",
              "    <tr>\n",
              "      <td>0</td>\n",
              "      <td>0.377154</td>\n",
              "      <td>0.343749</td>\n",
              "      <td>0.851979</td>\n",
              "      <td>1.410224</td>\n",
              "      <td>00:12</td>\n",
              "    </tr>\n",
              "  </tbody>\n",
              "</table>"
            ]
          },
          "metadata": {}
        }
      ]
    },
    {
      "cell_type": "code",
      "source": [
        "# unfreeze last 2 layers\n",
        "classifier_learn.freeze_to(-2)\n",
        "classifier_learn.fit_one_cycle(1, slice(5e-2/(2.6**4),5e-2))\n",
        "# unfreeze last 3 layers\n",
        "classifier_learn.freeze_to(-3)\n",
        "classifier_learn.fit_one_cycle(1, slice(5e-2/(2.6**4),5e-2))\n",
        "# unfreeze last 4 layers\n",
        "classifier_learn.freeze_to(-4)\n",
        "classifier_learn.fit_one_cycle(1, slice(5e-2/(2.6**4),5e-2))\n",
        "# unfreeze last 5 layers\n",
        "classifier_learn.freeze_to(-5)\n",
        "classifier_learn.fit_one_cycle(1, slice(5e-2/(2.6**4),5e-2))"
      ],
      "metadata": {
        "colab": {
          "base_uri": "https://localhost:8080/",
          "height": 272
        },
        "id": "oj6U9T1aE1Ev",
        "outputId": "507026b6-0007-4e3e-f098-29f1d7b9b99f"
      },
      "execution_count": null,
      "outputs": [
        {
          "output_type": "display_data",
          "data": {
            "text/plain": [
              "<IPython.core.display.HTML object>"
            ],
            "text/html": [
              "\n",
              "<style>\n",
              "    /* Turns off some styling */\n",
              "    progress {\n",
              "        /* gets rid of default border in Firefox and Opera. */\n",
              "        border: none;\n",
              "        /* Needs to be in here for Safari polyfill so background images work as expected. */\n",
              "        background-size: auto;\n",
              "    }\n",
              "    .progress-bar-interrupted, .progress-bar-interrupted::-webkit-progress-bar {\n",
              "        background: #F44336;\n",
              "    }\n",
              "</style>\n"
            ]
          },
          "metadata": {}
        },
        {
          "output_type": "display_data",
          "data": {
            "text/plain": [
              "<IPython.core.display.HTML object>"
            ],
            "text/html": [
              "<table border=\"1\" class=\"dataframe\">\n",
              "  <thead>\n",
              "    <tr style=\"text-align: left;\">\n",
              "      <th>epoch</th>\n",
              "      <th>train_loss</th>\n",
              "      <th>valid_loss</th>\n",
              "      <th>accuracy_multi</th>\n",
              "      <th>perplexity</th>\n",
              "      <th>time</th>\n",
              "    </tr>\n",
              "  </thead>\n",
              "  <tbody>\n",
              "    <tr>\n",
              "      <td>0</td>\n",
              "      <td>0.355816</td>\n",
              "      <td>0.335938</td>\n",
              "      <td>0.856410</td>\n",
              "      <td>1.399253</td>\n",
              "      <td>00:12</td>\n",
              "    </tr>\n",
              "  </tbody>\n",
              "</table>"
            ]
          },
          "metadata": {}
        },
        {
          "output_type": "display_data",
          "data": {
            "text/plain": [
              "<IPython.core.display.HTML object>"
            ],
            "text/html": [
              "\n",
              "<style>\n",
              "    /* Turns off some styling */\n",
              "    progress {\n",
              "        /* gets rid of default border in Firefox and Opera. */\n",
              "        border: none;\n",
              "        /* Needs to be in here for Safari polyfill so background images work as expected. */\n",
              "        background-size: auto;\n",
              "    }\n",
              "    .progress-bar-interrupted, .progress-bar-interrupted::-webkit-progress-bar {\n",
              "        background: #F44336;\n",
              "    }\n",
              "</style>\n"
            ]
          },
          "metadata": {}
        },
        {
          "output_type": "display_data",
          "data": {
            "text/plain": [
              "<IPython.core.display.HTML object>"
            ],
            "text/html": [
              "<table border=\"1\" class=\"dataframe\">\n",
              "  <thead>\n",
              "    <tr style=\"text-align: left;\">\n",
              "      <th>epoch</th>\n",
              "      <th>train_loss</th>\n",
              "      <th>valid_loss</th>\n",
              "      <th>accuracy_multi</th>\n",
              "      <th>perplexity</th>\n",
              "      <th>time</th>\n",
              "    </tr>\n",
              "  </thead>\n",
              "  <tbody>\n",
              "    <tr>\n",
              "      <td>0</td>\n",
              "      <td>0.339404</td>\n",
              "      <td>0.318214</td>\n",
              "      <td>0.868210</td>\n",
              "      <td>1.374670</td>\n",
              "      <td>00:12</td>\n",
              "    </tr>\n",
              "  </tbody>\n",
              "</table>"
            ]
          },
          "metadata": {}
        },
        {
          "output_type": "display_data",
          "data": {
            "text/plain": [
              "<IPython.core.display.HTML object>"
            ],
            "text/html": [
              "\n",
              "<style>\n",
              "    /* Turns off some styling */\n",
              "    progress {\n",
              "        /* gets rid of default border in Firefox and Opera. */\n",
              "        border: none;\n",
              "        /* Needs to be in here for Safari polyfill so background images work as expected. */\n",
              "        background-size: auto;\n",
              "    }\n",
              "    .progress-bar-interrupted, .progress-bar-interrupted::-webkit-progress-bar {\n",
              "        background: #F44336;\n",
              "    }\n",
              "</style>\n"
            ]
          },
          "metadata": {}
        },
        {
          "output_type": "display_data",
          "data": {
            "text/plain": [
              "<IPython.core.display.HTML object>"
            ],
            "text/html": [
              "<table border=\"1\" class=\"dataframe\">\n",
              "  <thead>\n",
              "    <tr style=\"text-align: left;\">\n",
              "      <th>epoch</th>\n",
              "      <th>train_loss</th>\n",
              "      <th>valid_loss</th>\n",
              "      <th>accuracy_multi</th>\n",
              "      <th>perplexity</th>\n",
              "      <th>time</th>\n",
              "    </tr>\n",
              "  </thead>\n",
              "  <tbody>\n",
              "    <tr>\n",
              "      <td>0</td>\n",
              "      <td>0.306297</td>\n",
              "      <td>0.307515</td>\n",
              "      <td>0.873040</td>\n",
              "      <td>1.360041</td>\n",
              "      <td>00:14</td>\n",
              "    </tr>\n",
              "  </tbody>\n",
              "</table>"
            ]
          },
          "metadata": {}
        },
        {
          "output_type": "display_data",
          "data": {
            "text/plain": [
              "<IPython.core.display.HTML object>"
            ],
            "text/html": [
              "\n",
              "<style>\n",
              "    /* Turns off some styling */\n",
              "    progress {\n",
              "        /* gets rid of default border in Firefox and Opera. */\n",
              "        border: none;\n",
              "        /* Needs to be in here for Safari polyfill so background images work as expected. */\n",
              "        background-size: auto;\n",
              "    }\n",
              "    .progress-bar-interrupted, .progress-bar-interrupted::-webkit-progress-bar {\n",
              "        background: #F44336;\n",
              "    }\n",
              "</style>\n"
            ]
          },
          "metadata": {}
        },
        {
          "output_type": "display_data",
          "data": {
            "text/plain": [
              "<IPython.core.display.HTML object>"
            ],
            "text/html": [
              "<table border=\"1\" class=\"dataframe\">\n",
              "  <thead>\n",
              "    <tr style=\"text-align: left;\">\n",
              "      <th>epoch</th>\n",
              "      <th>train_loss</th>\n",
              "      <th>valid_loss</th>\n",
              "      <th>accuracy_multi</th>\n",
              "      <th>perplexity</th>\n",
              "      <th>time</th>\n",
              "    </tr>\n",
              "  </thead>\n",
              "  <tbody>\n",
              "    <tr>\n",
              "      <td>0</td>\n",
              "      <td>0.280411</td>\n",
              "      <td>0.302233</td>\n",
              "      <td>0.874185</td>\n",
              "      <td>1.352876</td>\n",
              "      <td>00:13</td>\n",
              "    </tr>\n",
              "  </tbody>\n",
              "</table>"
            ]
          },
          "metadata": {}
        }
      ]
    },
    {
      "cell_type": "code",
      "source": [
        "# Unfreezing all the layers and training\n",
        "classifier_learn.unfreeze() # unfreze all\n",
        "classifier_learn.fit_one_cycle(5, slice(5e-2/(2.6**4),5e-2))"
      ],
      "metadata": {
        "colab": {
          "base_uri": "https://localhost:8080/",
          "height": 206
        },
        "id": "jItrsTBxq9yh",
        "outputId": "a0edc6a0-8ee9-4ce8-e641-1cd1f33050c5"
      },
      "execution_count": null,
      "outputs": [
        {
          "output_type": "display_data",
          "data": {
            "text/plain": [
              "<IPython.core.display.HTML object>"
            ],
            "text/html": [
              "\n",
              "<style>\n",
              "    /* Turns off some styling */\n",
              "    progress {\n",
              "        /* gets rid of default border in Firefox and Opera. */\n",
              "        border: none;\n",
              "        /* Needs to be in here for Safari polyfill so background images work as expected. */\n",
              "        background-size: auto;\n",
              "    }\n",
              "    .progress-bar-interrupted, .progress-bar-interrupted::-webkit-progress-bar {\n",
              "        background: #F44336;\n",
              "    }\n",
              "</style>\n"
            ]
          },
          "metadata": {}
        },
        {
          "output_type": "display_data",
          "data": {
            "text/plain": [
              "<IPython.core.display.HTML object>"
            ],
            "text/html": [
              "<table border=\"1\" class=\"dataframe\">\n",
              "  <thead>\n",
              "    <tr style=\"text-align: left;\">\n",
              "      <th>epoch</th>\n",
              "      <th>train_loss</th>\n",
              "      <th>valid_loss</th>\n",
              "      <th>accuracy_multi</th>\n",
              "      <th>perplexity</th>\n",
              "      <th>time</th>\n",
              "    </tr>\n",
              "  </thead>\n",
              "  <tbody>\n",
              "    <tr>\n",
              "      <td>0</td>\n",
              "      <td>0.246035</td>\n",
              "      <td>0.326408</td>\n",
              "      <td>0.863480</td>\n",
              "      <td>1.385981</td>\n",
              "      <td>00:13</td>\n",
              "    </tr>\n",
              "    <tr>\n",
              "      <td>1</td>\n",
              "      <td>0.260763</td>\n",
              "      <td>0.325300</td>\n",
              "      <td>0.865671</td>\n",
              "      <td>1.384446</td>\n",
              "      <td>00:13</td>\n",
              "    </tr>\n",
              "    <tr>\n",
              "      <td>2</td>\n",
              "      <td>0.237022</td>\n",
              "      <td>0.331613</td>\n",
              "      <td>0.870650</td>\n",
              "      <td>1.393214</td>\n",
              "      <td>00:13</td>\n",
              "    </tr>\n",
              "    <tr>\n",
              "      <td>3</td>\n",
              "      <td>0.192792</td>\n",
              "      <td>0.338784</td>\n",
              "      <td>0.870749</td>\n",
              "      <td>1.403241</td>\n",
              "      <td>00:13</td>\n",
              "    </tr>\n",
              "    <tr>\n",
              "      <td>4</td>\n",
              "      <td>0.153461</td>\n",
              "      <td>0.358974</td>\n",
              "      <td>0.870401</td>\n",
              "      <td>1.431860</td>\n",
              "      <td>00:13</td>\n",
              "    </tr>\n",
              "  </tbody>\n",
              "</table>"
            ]
          },
          "metadata": {}
        }
      ]
    },
    {
      "cell_type": "markdown",
      "source": [
        "## Inference and Estimated Accuracy"
      ],
      "metadata": {
        "id": "Vp30jPBGlLA1"
      }
    },
    {
      "cell_type": "code",
      "source": [
        "#Export the model and save it for inference\n",
        "classifier_learn.export(\"Detecting_Emotions.pkl\")\n",
        "\n",
        "#Load the trained learner on GPU for fast predictions \n",
        "classifier_learn = load_learner(\"Detecting_Emotions.pkl\", cpu = False)\n",
        "\n",
        "# Create a test dataloader for making predictions\n",
        "tok_inf_df = tokenize_df(test_df, \"Tweet\")\n",
        "inf_dl = classifier_learn.dls.test_dl(tok_inf_df[0])\n",
        "\n",
        "# Predict probabilities for all the classes \n",
        "all_predictions = classifier_learn.get_preds(dl = inf_dl, reorder = False)\n",
        "probs = all_predictions[0].numpy()"
      ],
      "metadata": {
        "colab": {
          "base_uri": "https://localhost:8080/",
          "height": 17
        },
        "id": "jlyFRpegKkOK",
        "outputId": "928f7603-406d-4d10-d5f6-566c84585e37"
      },
      "execution_count": null,
      "outputs": [
        {
          "output_type": "display_data",
          "data": {
            "text/plain": [
              "<IPython.core.display.HTML object>"
            ],
            "text/html": [
              "\n",
              "<style>\n",
              "    /* Turns off some styling */\n",
              "    progress {\n",
              "        /* gets rid of default border in Firefox and Opera. */\n",
              "        border: none;\n",
              "        /* Needs to be in here for Safari polyfill so background images work as expected. */\n",
              "        background-size: auto;\n",
              "    }\n",
              "    .progress-bar-interrupted, .progress-bar-interrupted::-webkit-progress-bar {\n",
              "        background: #F44336;\n",
              "    }\n",
              "</style>\n"
            ]
          },
          "metadata": {}
        },
        {
          "output_type": "display_data",
          "data": {
            "text/plain": [
              "<IPython.core.display.HTML object>"
            ],
            "text/html": [
              ""
            ]
          },
          "metadata": {}
        },
        {
          "output_type": "display_data",
          "data": {
            "text/plain": [
              "<IPython.core.display.HTML object>"
            ],
            "text/html": [
              "\n",
              "<style>\n",
              "    /* Turns off some styling */\n",
              "    progress {\n",
              "        /* gets rid of default border in Firefox and Opera. */\n",
              "        border: none;\n",
              "        /* Needs to be in here for Safari polyfill so background images work as expected. */\n",
              "        background-size: auto;\n",
              "    }\n",
              "    .progress-bar-interrupted, .progress-bar-interrupted::-webkit-progress-bar {\n",
              "        background: #F44336;\n",
              "    }\n",
              "</style>\n"
            ]
          },
          "metadata": {}
        },
        {
          "output_type": "display_data",
          "data": {
            "text/plain": [
              "<IPython.core.display.HTML object>"
            ],
            "text/html": [
              ""
            ]
          },
          "metadata": {}
        }
      ]
    },
    {
      "cell_type": "code",
      "source": [
        "test_df.head(5)"
      ],
      "metadata": {
        "colab": {
          "base_uri": "https://localhost:8080/",
          "height": 206
        },
        "id": "zHP-Wn3oQgfP",
        "outputId": "74685cef-9c04-434f-c66f-100187c8dfaf"
      },
      "execution_count": null,
      "outputs": [
        {
          "output_type": "execute_result",
          "data": {
            "text/plain": [
              "              ID  \\\n",
              "0  2018-En-01559   \n",
              "1  2018-En-03739   \n",
              "2  2018-En-00385   \n",
              "3  2018-En-03001   \n",
              "4  2018-En-01988   \n",
              "\n",
              "                                                                                                                Tweet  \\\n",
              "0                                             adnan asyounotwish dont worry indian army ways dispatch terrorists hell   \n",
              "1  academy sciences eschews normally sober tone scientific papers calls massive loss wildlife biological annihilation   \n",
              "2                                                                                                blew opportunity mad   \n",
              "3                                                                                                          time weeks   \n",
              "4      deppression real partners w depressed people truly dont understand depth affect us add anxiety amp makes worse   \n",
              "\n",
              "   anger  anticipation  disgust  fear  joy  love  optimism  pessimism  \\\n",
              "0      1             1        0     0    0     0         1          0   \n",
              "1      0             0        1     0    0     0         0          0   \n",
              "2      1             0        1     0    0     0         0          0   \n",
              "3      0             0        0     0    1     0         0          0   \n",
              "4      0             0        0     1    0     0         0          0   \n",
              "\n",
              "   sadness  surprise  trust  \n",
              "0        0         0      1  \n",
              "1        0         0      0  \n",
              "2        1         0      0  \n",
              "3        1         0      0  \n",
              "4        1         0      0  "
            ],
            "text/html": [
              "\n",
              "  <div id=\"df-055459ab-fbf0-4b83-a5da-06631227b951\">\n",
              "    <div class=\"colab-df-container\">\n",
              "      <div>\n",
              "<style scoped>\n",
              "    .dataframe tbody tr th:only-of-type {\n",
              "        vertical-align: middle;\n",
              "    }\n",
              "\n",
              "    .dataframe tbody tr th {\n",
              "        vertical-align: top;\n",
              "    }\n",
              "\n",
              "    .dataframe thead th {\n",
              "        text-align: right;\n",
              "    }\n",
              "</style>\n",
              "<table border=\"1\" class=\"dataframe\">\n",
              "  <thead>\n",
              "    <tr style=\"text-align: right;\">\n",
              "      <th></th>\n",
              "      <th>ID</th>\n",
              "      <th>Tweet</th>\n",
              "      <th>anger</th>\n",
              "      <th>anticipation</th>\n",
              "      <th>disgust</th>\n",
              "      <th>fear</th>\n",
              "      <th>joy</th>\n",
              "      <th>love</th>\n",
              "      <th>optimism</th>\n",
              "      <th>pessimism</th>\n",
              "      <th>sadness</th>\n",
              "      <th>surprise</th>\n",
              "      <th>trust</th>\n",
              "    </tr>\n",
              "  </thead>\n",
              "  <tbody>\n",
              "    <tr>\n",
              "      <th>0</th>\n",
              "      <td>2018-En-01559</td>\n",
              "      <td>adnan asyounotwish dont worry indian army ways dispatch terrorists hell</td>\n",
              "      <td>1</td>\n",
              "      <td>1</td>\n",
              "      <td>0</td>\n",
              "      <td>0</td>\n",
              "      <td>0</td>\n",
              "      <td>0</td>\n",
              "      <td>1</td>\n",
              "      <td>0</td>\n",
              "      <td>0</td>\n",
              "      <td>0</td>\n",
              "      <td>1</td>\n",
              "    </tr>\n",
              "    <tr>\n",
              "      <th>1</th>\n",
              "      <td>2018-En-03739</td>\n",
              "      <td>academy sciences eschews normally sober tone scientific papers calls massive loss wildlife biological annihilation</td>\n",
              "      <td>0</td>\n",
              "      <td>0</td>\n",
              "      <td>1</td>\n",
              "      <td>0</td>\n",
              "      <td>0</td>\n",
              "      <td>0</td>\n",
              "      <td>0</td>\n",
              "      <td>0</td>\n",
              "      <td>0</td>\n",
              "      <td>0</td>\n",
              "      <td>0</td>\n",
              "    </tr>\n",
              "    <tr>\n",
              "      <th>2</th>\n",
              "      <td>2018-En-00385</td>\n",
              "      <td>blew opportunity mad</td>\n",
              "      <td>1</td>\n",
              "      <td>0</td>\n",
              "      <td>1</td>\n",
              "      <td>0</td>\n",
              "      <td>0</td>\n",
              "      <td>0</td>\n",
              "      <td>0</td>\n",
              "      <td>0</td>\n",
              "      <td>1</td>\n",
              "      <td>0</td>\n",
              "      <td>0</td>\n",
              "    </tr>\n",
              "    <tr>\n",
              "      <th>3</th>\n",
              "      <td>2018-En-03001</td>\n",
              "      <td>time weeks</td>\n",
              "      <td>0</td>\n",
              "      <td>0</td>\n",
              "      <td>0</td>\n",
              "      <td>0</td>\n",
              "      <td>1</td>\n",
              "      <td>0</td>\n",
              "      <td>0</td>\n",
              "      <td>0</td>\n",
              "      <td>1</td>\n",
              "      <td>0</td>\n",
              "      <td>0</td>\n",
              "    </tr>\n",
              "    <tr>\n",
              "      <th>4</th>\n",
              "      <td>2018-En-01988</td>\n",
              "      <td>deppression real partners w depressed people truly dont understand depth affect us add anxiety amp makes worse</td>\n",
              "      <td>0</td>\n",
              "      <td>0</td>\n",
              "      <td>0</td>\n",
              "      <td>1</td>\n",
              "      <td>0</td>\n",
              "      <td>0</td>\n",
              "      <td>0</td>\n",
              "      <td>0</td>\n",
              "      <td>1</td>\n",
              "      <td>0</td>\n",
              "      <td>0</td>\n",
              "    </tr>\n",
              "  </tbody>\n",
              "</table>\n",
              "</div>\n",
              "      <button class=\"colab-df-convert\" onclick=\"convertToInteractive('df-055459ab-fbf0-4b83-a5da-06631227b951')\"\n",
              "              title=\"Convert this dataframe to an interactive table.\"\n",
              "              style=\"display:none;\">\n",
              "        \n",
              "  <svg xmlns=\"http://www.w3.org/2000/svg\" height=\"24px\"viewBox=\"0 0 24 24\"\n",
              "       width=\"24px\">\n",
              "    <path d=\"M0 0h24v24H0V0z\" fill=\"none\"/>\n",
              "    <path d=\"M18.56 5.44l.94 2.06.94-2.06 2.06-.94-2.06-.94-.94-2.06-.94 2.06-2.06.94zm-11 1L8.5 8.5l.94-2.06 2.06-.94-2.06-.94L8.5 2.5l-.94 2.06-2.06.94zm10 10l.94 2.06.94-2.06 2.06-.94-2.06-.94-.94-2.06-.94 2.06-2.06.94z\"/><path d=\"M17.41 7.96l-1.37-1.37c-.4-.4-.92-.59-1.43-.59-.52 0-1.04.2-1.43.59L10.3 9.45l-7.72 7.72c-.78.78-.78 2.05 0 2.83L4 21.41c.39.39.9.59 1.41.59.51 0 1.02-.2 1.41-.59l7.78-7.78 2.81-2.81c.8-.78.8-2.07 0-2.86zM5.41 20L4 18.59l7.72-7.72 1.47 1.35L5.41 20z\"/>\n",
              "  </svg>\n",
              "      </button>\n",
              "      \n",
              "  <style>\n",
              "    .colab-df-container {\n",
              "      display:flex;\n",
              "      flex-wrap:wrap;\n",
              "      gap: 12px;\n",
              "    }\n",
              "\n",
              "    .colab-df-convert {\n",
              "      background-color: #E8F0FE;\n",
              "      border: none;\n",
              "      border-radius: 50%;\n",
              "      cursor: pointer;\n",
              "      display: none;\n",
              "      fill: #1967D2;\n",
              "      height: 32px;\n",
              "      padding: 0 0 0 0;\n",
              "      width: 32px;\n",
              "    }\n",
              "\n",
              "    .colab-df-convert:hover {\n",
              "      background-color: #E2EBFA;\n",
              "      box-shadow: 0px 1px 2px rgba(60, 64, 67, 0.3), 0px 1px 3px 1px rgba(60, 64, 67, 0.15);\n",
              "      fill: #174EA6;\n",
              "    }\n",
              "\n",
              "    [theme=dark] .colab-df-convert {\n",
              "      background-color: #3B4455;\n",
              "      fill: #D2E3FC;\n",
              "    }\n",
              "\n",
              "    [theme=dark] .colab-df-convert:hover {\n",
              "      background-color: #434B5C;\n",
              "      box-shadow: 0px 1px 3px 1px rgba(0, 0, 0, 0.15);\n",
              "      filter: drop-shadow(0px 1px 2px rgba(0, 0, 0, 0.3));\n",
              "      fill: #FFFFFF;\n",
              "    }\n",
              "  </style>\n",
              "\n",
              "      <script>\n",
              "        const buttonEl =\n",
              "          document.querySelector('#df-055459ab-fbf0-4b83-a5da-06631227b951 button.colab-df-convert');\n",
              "        buttonEl.style.display =\n",
              "          google.colab.kernel.accessAllowed ? 'block' : 'none';\n",
              "\n",
              "        async function convertToInteractive(key) {\n",
              "          const element = document.querySelector('#df-055459ab-fbf0-4b83-a5da-06631227b951');\n",
              "          const dataTable =\n",
              "            await google.colab.kernel.invokeFunction('convertToInteractive',\n",
              "                                                     [key], {});\n",
              "          if (!dataTable) return;\n",
              "\n",
              "          const docLinkHtml = 'Like what you see? Visit the ' +\n",
              "            '<a target=\"_blank\" href=https://colab.research.google.com/notebooks/data_table.ipynb>data table notebook</a>'\n",
              "            + ' to learn more about interactive tables.';\n",
              "          element.innerHTML = '';\n",
              "          dataTable['output_type'] = 'display_data';\n",
              "          await google.colab.output.renderOutput(dataTable, element);\n",
              "          const docLink = document.createElement('div');\n",
              "          docLink.innerHTML = docLinkHtml;\n",
              "          element.appendChild(docLink);\n",
              "        }\n",
              "      </script>\n",
              "    </div>\n",
              "  </div>\n",
              "  "
            ]
          },
          "metadata": {},
          "execution_count": 27
        }
      ]
    },
    {
      "cell_type": "code",
      "source": [
        "# IDs for the comment_text\n",
        "idxs = test_df.loc[inf_dl.get_idxs()].ID.reset_index(drop = True)\n",
        "\n",
        "# The order id in test data\n",
        "indices = inf_dl.get_idxs()\n",
        "\n",
        "# Create a Predictions dataframe for submission\n",
        "predictions = pd.DataFrame(all_predictions[0].numpy(), columns=classifier_learn.dls.vocab[1])\n",
        "predictions[\"ID\"] = idxs\n",
        "predictions[\"order\"] = indices\n",
        "\n",
        "# Curate the dataframe to match the submission format\n",
        "predictions = predictions.sort_values(by = [\"order\"])\n",
        "predictions = predictions[[\"ID\", \"anger\", \"anticipation\", \"disgust\", \"fear\", \"joy\", \"love\", \"optimism\", \"pessimism\", \"sadness\", \"surprise\", \"trust\"]].reset_index(drop = True)"
      ],
      "metadata": {
        "id": "pJVVUdoGLdkH"
      },
      "execution_count": null,
      "outputs": []
    },
    {
      "cell_type": "code",
      "source": [
        "predictions.head(10)"
      ],
      "metadata": {
        "colab": {
          "base_uri": "https://localhost:8080/",
          "height": 363
        },
        "id": "xDotsoCiReDJ",
        "outputId": "360de2b0-ef85-45c6-8a1e-3ae7ad9dca66"
      },
      "execution_count": null,
      "outputs": [
        {
          "output_type": "execute_result",
          "data": {
            "text/plain": [
              "              ID     anger  anticipation   disgust      fear       joy  \\\n",
              "0  2018-En-01559  0.689302      0.131948  0.538307  0.978934  0.004476   \n",
              "1  2018-En-03739  0.870227      0.183700  0.838818  0.023379  0.007851   \n",
              "2  2018-En-00385  0.886579      0.038167  0.830914  0.527863  0.007927   \n",
              "3  2018-En-03001  0.258605      0.100923  0.440719  0.008439  0.008807   \n",
              "4  2018-En-01988  0.041205      0.004727  0.212394  0.134688  0.004160   \n",
              "5  2018-En-03463  0.846401      0.199853  0.808811  0.966173  0.025347   \n",
              "6  2018-En-04315  0.255275      0.280839  0.473992  0.370892  0.039256   \n",
              "7  2018-En-01426  0.183069      0.376544  0.429928  0.007659  0.031655   \n",
              "8  2018-En-03332  0.002371      0.049300  0.002792  0.000067  0.991291   \n",
              "9  2018-En-01938  0.007519      0.014088  0.068553  0.038087  0.034123   \n",
              "\n",
              "       love  optimism  pessimism   sadness  surprise     trust  \n",
              "0  0.002518  0.067250   0.080840  0.038329  0.005892  0.012069  \n",
              "1  0.000984  0.077986   0.224908  0.542986  0.042482  0.011786  \n",
              "2  0.003247  0.012360   0.111774  0.291756  0.012795  0.003312  \n",
              "3  0.001568  0.017253   0.076646  0.168695  0.010712  0.003795  \n",
              "4  0.000262  0.004509   0.536462  0.996737  0.001143  0.000276  \n",
              "5  0.005480  0.057348   0.091194  0.063523  0.139007  0.034306  \n",
              "6  0.008581  0.007443   0.130421  0.146377  0.342209  0.009247  \n",
              "7  0.004428  0.039628   0.151166  0.421270  0.131512  0.014755  \n",
              "8  0.139282  0.966951   0.001999  0.013941  0.003820  0.079067  \n",
              "9  0.004523  0.020681   0.535623  0.995593  0.003121  0.001623  "
            ],
            "text/html": [
              "\n",
              "  <div id=\"df-19f2ca04-cc7d-4002-92e6-4dd54c67dd73\">\n",
              "    <div class=\"colab-df-container\">\n",
              "      <div>\n",
              "<style scoped>\n",
              "    .dataframe tbody tr th:only-of-type {\n",
              "        vertical-align: middle;\n",
              "    }\n",
              "\n",
              "    .dataframe tbody tr th {\n",
              "        vertical-align: top;\n",
              "    }\n",
              "\n",
              "    .dataframe thead th {\n",
              "        text-align: right;\n",
              "    }\n",
              "</style>\n",
              "<table border=\"1\" class=\"dataframe\">\n",
              "  <thead>\n",
              "    <tr style=\"text-align: right;\">\n",
              "      <th></th>\n",
              "      <th>ID</th>\n",
              "      <th>anger</th>\n",
              "      <th>anticipation</th>\n",
              "      <th>disgust</th>\n",
              "      <th>fear</th>\n",
              "      <th>joy</th>\n",
              "      <th>love</th>\n",
              "      <th>optimism</th>\n",
              "      <th>pessimism</th>\n",
              "      <th>sadness</th>\n",
              "      <th>surprise</th>\n",
              "      <th>trust</th>\n",
              "    </tr>\n",
              "  </thead>\n",
              "  <tbody>\n",
              "    <tr>\n",
              "      <th>0</th>\n",
              "      <td>2018-En-01559</td>\n",
              "      <td>0.689302</td>\n",
              "      <td>0.131948</td>\n",
              "      <td>0.538307</td>\n",
              "      <td>0.978934</td>\n",
              "      <td>0.004476</td>\n",
              "      <td>0.002518</td>\n",
              "      <td>0.067250</td>\n",
              "      <td>0.080840</td>\n",
              "      <td>0.038329</td>\n",
              "      <td>0.005892</td>\n",
              "      <td>0.012069</td>\n",
              "    </tr>\n",
              "    <tr>\n",
              "      <th>1</th>\n",
              "      <td>2018-En-03739</td>\n",
              "      <td>0.870227</td>\n",
              "      <td>0.183700</td>\n",
              "      <td>0.838818</td>\n",
              "      <td>0.023379</td>\n",
              "      <td>0.007851</td>\n",
              "      <td>0.000984</td>\n",
              "      <td>0.077986</td>\n",
              "      <td>0.224908</td>\n",
              "      <td>0.542986</td>\n",
              "      <td>0.042482</td>\n",
              "      <td>0.011786</td>\n",
              "    </tr>\n",
              "    <tr>\n",
              "      <th>2</th>\n",
              "      <td>2018-En-00385</td>\n",
              "      <td>0.886579</td>\n",
              "      <td>0.038167</td>\n",
              "      <td>0.830914</td>\n",
              "      <td>0.527863</td>\n",
              "      <td>0.007927</td>\n",
              "      <td>0.003247</td>\n",
              "      <td>0.012360</td>\n",
              "      <td>0.111774</td>\n",
              "      <td>0.291756</td>\n",
              "      <td>0.012795</td>\n",
              "      <td>0.003312</td>\n",
              "    </tr>\n",
              "    <tr>\n",
              "      <th>3</th>\n",
              "      <td>2018-En-03001</td>\n",
              "      <td>0.258605</td>\n",
              "      <td>0.100923</td>\n",
              "      <td>0.440719</td>\n",
              "      <td>0.008439</td>\n",
              "      <td>0.008807</td>\n",
              "      <td>0.001568</td>\n",
              "      <td>0.017253</td>\n",
              "      <td>0.076646</td>\n",
              "      <td>0.168695</td>\n",
              "      <td>0.010712</td>\n",
              "      <td>0.003795</td>\n",
              "    </tr>\n",
              "    <tr>\n",
              "      <th>4</th>\n",
              "      <td>2018-En-01988</td>\n",
              "      <td>0.041205</td>\n",
              "      <td>0.004727</td>\n",
              "      <td>0.212394</td>\n",
              "      <td>0.134688</td>\n",
              "      <td>0.004160</td>\n",
              "      <td>0.000262</td>\n",
              "      <td>0.004509</td>\n",
              "      <td>0.536462</td>\n",
              "      <td>0.996737</td>\n",
              "      <td>0.001143</td>\n",
              "      <td>0.000276</td>\n",
              "    </tr>\n",
              "    <tr>\n",
              "      <th>5</th>\n",
              "      <td>2018-En-03463</td>\n",
              "      <td>0.846401</td>\n",
              "      <td>0.199853</td>\n",
              "      <td>0.808811</td>\n",
              "      <td>0.966173</td>\n",
              "      <td>0.025347</td>\n",
              "      <td>0.005480</td>\n",
              "      <td>0.057348</td>\n",
              "      <td>0.091194</td>\n",
              "      <td>0.063523</td>\n",
              "      <td>0.139007</td>\n",
              "      <td>0.034306</td>\n",
              "    </tr>\n",
              "    <tr>\n",
              "      <th>6</th>\n",
              "      <td>2018-En-04315</td>\n",
              "      <td>0.255275</td>\n",
              "      <td>0.280839</td>\n",
              "      <td>0.473992</td>\n",
              "      <td>0.370892</td>\n",
              "      <td>0.039256</td>\n",
              "      <td>0.008581</td>\n",
              "      <td>0.007443</td>\n",
              "      <td>0.130421</td>\n",
              "      <td>0.146377</td>\n",
              "      <td>0.342209</td>\n",
              "      <td>0.009247</td>\n",
              "    </tr>\n",
              "    <tr>\n",
              "      <th>7</th>\n",
              "      <td>2018-En-01426</td>\n",
              "      <td>0.183069</td>\n",
              "      <td>0.376544</td>\n",
              "      <td>0.429928</td>\n",
              "      <td>0.007659</td>\n",
              "      <td>0.031655</td>\n",
              "      <td>0.004428</td>\n",
              "      <td>0.039628</td>\n",
              "      <td>0.151166</td>\n",
              "      <td>0.421270</td>\n",
              "      <td>0.131512</td>\n",
              "      <td>0.014755</td>\n",
              "    </tr>\n",
              "    <tr>\n",
              "      <th>8</th>\n",
              "      <td>2018-En-03332</td>\n",
              "      <td>0.002371</td>\n",
              "      <td>0.049300</td>\n",
              "      <td>0.002792</td>\n",
              "      <td>0.000067</td>\n",
              "      <td>0.991291</td>\n",
              "      <td>0.139282</td>\n",
              "      <td>0.966951</td>\n",
              "      <td>0.001999</td>\n",
              "      <td>0.013941</td>\n",
              "      <td>0.003820</td>\n",
              "      <td>0.079067</td>\n",
              "    </tr>\n",
              "    <tr>\n",
              "      <th>9</th>\n",
              "      <td>2018-En-01938</td>\n",
              "      <td>0.007519</td>\n",
              "      <td>0.014088</td>\n",
              "      <td>0.068553</td>\n",
              "      <td>0.038087</td>\n",
              "      <td>0.034123</td>\n",
              "      <td>0.004523</td>\n",
              "      <td>0.020681</td>\n",
              "      <td>0.535623</td>\n",
              "      <td>0.995593</td>\n",
              "      <td>0.003121</td>\n",
              "      <td>0.001623</td>\n",
              "    </tr>\n",
              "  </tbody>\n",
              "</table>\n",
              "</div>\n",
              "      <button class=\"colab-df-convert\" onclick=\"convertToInteractive('df-19f2ca04-cc7d-4002-92e6-4dd54c67dd73')\"\n",
              "              title=\"Convert this dataframe to an interactive table.\"\n",
              "              style=\"display:none;\">\n",
              "        \n",
              "  <svg xmlns=\"http://www.w3.org/2000/svg\" height=\"24px\"viewBox=\"0 0 24 24\"\n",
              "       width=\"24px\">\n",
              "    <path d=\"M0 0h24v24H0V0z\" fill=\"none\"/>\n",
              "    <path d=\"M18.56 5.44l.94 2.06.94-2.06 2.06-.94-2.06-.94-.94-2.06-.94 2.06-2.06.94zm-11 1L8.5 8.5l.94-2.06 2.06-.94-2.06-.94L8.5 2.5l-.94 2.06-2.06.94zm10 10l.94 2.06.94-2.06 2.06-.94-2.06-.94-.94-2.06-.94 2.06-2.06.94z\"/><path d=\"M17.41 7.96l-1.37-1.37c-.4-.4-.92-.59-1.43-.59-.52 0-1.04.2-1.43.59L10.3 9.45l-7.72 7.72c-.78.78-.78 2.05 0 2.83L4 21.41c.39.39.9.59 1.41.59.51 0 1.02-.2 1.41-.59l7.78-7.78 2.81-2.81c.8-.78.8-2.07 0-2.86zM5.41 20L4 18.59l7.72-7.72 1.47 1.35L5.41 20z\"/>\n",
              "  </svg>\n",
              "      </button>\n",
              "      \n",
              "  <style>\n",
              "    .colab-df-container {\n",
              "      display:flex;\n",
              "      flex-wrap:wrap;\n",
              "      gap: 12px;\n",
              "    }\n",
              "\n",
              "    .colab-df-convert {\n",
              "      background-color: #E8F0FE;\n",
              "      border: none;\n",
              "      border-radius: 50%;\n",
              "      cursor: pointer;\n",
              "      display: none;\n",
              "      fill: #1967D2;\n",
              "      height: 32px;\n",
              "      padding: 0 0 0 0;\n",
              "      width: 32px;\n",
              "    }\n",
              "\n",
              "    .colab-df-convert:hover {\n",
              "      background-color: #E2EBFA;\n",
              "      box-shadow: 0px 1px 2px rgba(60, 64, 67, 0.3), 0px 1px 3px 1px rgba(60, 64, 67, 0.15);\n",
              "      fill: #174EA6;\n",
              "    }\n",
              "\n",
              "    [theme=dark] .colab-df-convert {\n",
              "      background-color: #3B4455;\n",
              "      fill: #D2E3FC;\n",
              "    }\n",
              "\n",
              "    [theme=dark] .colab-df-convert:hover {\n",
              "      background-color: #434B5C;\n",
              "      box-shadow: 0px 1px 3px 1px rgba(0, 0, 0, 0.15);\n",
              "      filter: drop-shadow(0px 1px 2px rgba(0, 0, 0, 0.3));\n",
              "      fill: #FFFFFF;\n",
              "    }\n",
              "  </style>\n",
              "\n",
              "      <script>\n",
              "        const buttonEl =\n",
              "          document.querySelector('#df-19f2ca04-cc7d-4002-92e6-4dd54c67dd73 button.colab-df-convert');\n",
              "        buttonEl.style.display =\n",
              "          google.colab.kernel.accessAllowed ? 'block' : 'none';\n",
              "\n",
              "        async function convertToInteractive(key) {\n",
              "          const element = document.querySelector('#df-19f2ca04-cc7d-4002-92e6-4dd54c67dd73');\n",
              "          const dataTable =\n",
              "            await google.colab.kernel.invokeFunction('convertToInteractive',\n",
              "                                                     [key], {});\n",
              "          if (!dataTable) return;\n",
              "\n",
              "          const docLinkHtml = 'Like what you see? Visit the ' +\n",
              "            '<a target=\"_blank\" href=https://colab.research.google.com/notebooks/data_table.ipynb>data table notebook</a>'\n",
              "            + ' to learn more about interactive tables.';\n",
              "          element.innerHTML = '';\n",
              "          dataTable['output_type'] = 'display_data';\n",
              "          await google.colab.output.renderOutput(dataTable, element);\n",
              "          const docLink = document.createElement('div');\n",
              "          docLink.innerHTML = docLinkHtml;\n",
              "          element.appendChild(docLink);\n",
              "        }\n",
              "      </script>\n",
              "    </div>\n",
              "  </div>\n",
              "  "
            ]
          },
          "metadata": {},
          "execution_count": 29
        }
      ]
    },
    {
      "cell_type": "code",
      "source": [
        "predictLabels = np.asarray(predictions.drop(['ID'], axis=1))\n",
        "\n",
        "treshold = 0.5\n",
        "categPreds =[]\n",
        "for elem in predictLabels:\n",
        "  result = [1 if x>=treshold else 0 for x in elem]\n",
        "  categPreds.append(result)\n"
      ],
      "metadata": {
        "id": "iY-Pj3X3ULcA"
      },
      "execution_count": null,
      "outputs": []
    },
    {
      "cell_type": "code",
      "source": [
        "testLabels = np.asarray(test_df.drop(['ID', 'Tweet'], axis=1))\n",
        "\n",
        "from sklearn.metrics import jaccard_score\n",
        "jaccard_score(testLabels, categPreds, average=\"samples\")"
      ],
      "metadata": {
        "colab": {
          "base_uri": "https://localhost:8080/"
        },
        "id": "YwOCoWdxUMTJ",
        "outputId": "3f513439-277e-46e5-d6a8-5478731ff2d1"
      },
      "execution_count": null,
      "outputs": [
        {
          "output_type": "execute_result",
          "data": {
            "text/plain": [
              "0.4846425283829396"
            ]
          },
          "metadata": {},
          "execution_count": 31
        }
      ]
    },
    {
      "cell_type": "markdown",
      "source": [
        "# Transformer"
      ],
      "metadata": {
        "id": "roVs-sdqLMX-"
      }
    },
    {
      "cell_type": "markdown",
      "source": [
        "## Data loading, cleaning and tokenization"
      ],
      "metadata": {
        "id": "2Ynl5UK7Lgkn"
      }
    },
    {
      "cell_type": "code",
      "execution_count": null,
      "metadata": {
        "id": "-p_o-ruAz_ix",
        "colab": {
          "base_uri": "https://localhost:8080/"
        },
        "outputId": "85d293fa-c3a3-42f6-c0a9-712274d540e9"
      },
      "outputs": [
        {
          "output_type": "stream",
          "name": "stdout",
          "text": [
            "Mounted at /content/gdrive\n"
          ]
        }
      ],
      "source": [
        "from google.colab import drive\n",
        "drive.mount('/content/gdrive')"
      ]
    },
    {
      "cell_type": "code",
      "source": [
        "%cd /content/gdrive/MyDrive/NLP Project"
      ],
      "metadata": {
        "colab": {
          "base_uri": "https://localhost:8080/"
        },
        "id": "sth-GqVe0ovE",
        "outputId": "c1f5164d-463d-442d-ebce-7b6bb7bf7318"
      },
      "execution_count": null,
      "outputs": [
        {
          "output_type": "stream",
          "name": "stdout",
          "text": [
            "/content/gdrive/MyDrive/NLP Project\n"
          ]
        }
      ]
    },
    {
      "cell_type": "code",
      "source": [
        "import nltk\n",
        "from nltk.corpus import stopwords\n",
        "import pandas as pd\n",
        "import re\n",
        "from nltk.stem import PorterStemmer\n",
        "nltk.download('stopwords')\n",
        "nltk.download('wordnet')\n"
      ],
      "metadata": {
        "id": "o6ZTTRj90EQZ",
        "colab": {
          "base_uri": "https://localhost:8080/"
        },
        "outputId": "0aa6fb86-41b3-455c-9c3e-523d36b62f77"
      },
      "execution_count": null,
      "outputs": [
        {
          "output_type": "stream",
          "name": "stdout",
          "text": [
            "[nltk_data] Downloading package stopwords to /root/nltk_data...\n",
            "[nltk_data]   Unzipping corpora/stopwords.zip.\n",
            "[nltk_data] Downloading package wordnet to /root/nltk_data...\n",
            "[nltk_data]   Unzipping corpora/wordnet.zip.\n"
          ]
        },
        {
          "output_type": "execute_result",
          "data": {
            "text/plain": [
              "True"
            ]
          },
          "metadata": {},
          "execution_count": 10
        }
      ]
    },
    {
      "cell_type": "code",
      "source": [
        "train = pd.read_csv('2018-E-c-En-train.txt', sep='\\t', error_bad_lines=False)\n",
        "val = pd.read_csv('2018-E-c-En-dev.txt', sep='\\t', error_bad_lines=False)\n",
        "test = pd.read_csv('2018-E-c-En-test-gold.txt', sep='\\t', error_bad_lines=False)\n"
      ],
      "metadata": {
        "id": "QwxK2rwf0Xgb",
        "colab": {
          "base_uri": "https://localhost:8080/"
        },
        "outputId": "195cbdbb-16d3-484f-f56e-0e0dedf85361"
      },
      "execution_count": null,
      "outputs": [
        {
          "output_type": "stream",
          "name": "stderr",
          "text": [
            "/usr/local/lib/python3.7/dist-packages/IPython/core/interactiveshell.py:2882: FutureWarning: The error_bad_lines argument has been deprecated and will be removed in a future version.\n",
            "\n",
            "\n",
            "  exec(code_obj, self.user_global_ns, self.user_ns)\n"
          ]
        }
      ]
    },
    {
      "cell_type": "code",
      "source": [
        "stop_words = set(stopwords.words('english'))\n",
        "stop_words.update([\"now\",\"let\", 'zero', 'one', 'two', 'three','four','five','six','seven','eight','nine','ten','may','also','across','among','beside','however','yet','within'])\n",
        "re_stop_words = re.compile(r\"\\b(\" + \"|\".join(stop_words) + \")\\\\W\", re.I)"
      ],
      "metadata": {
        "id": "xoWf_edB0uid"
      },
      "execution_count": null,
      "outputs": []
    },
    {
      "cell_type": "code",
      "source": [
        "def removeStopWords(sentence):\n",
        "    global re_stop_words\n",
        "    return re_stop_words.sub(\" \", sentence)\n",
        "\n",
        "train['Tweet'] = train['Tweet'].apply(removeStopWords)\n",
        "val['Tweet'] = val['Tweet'].apply(removeStopWords)\n",
        "test['Tweet'] = test['Tweet'].apply(removeStopWords)"
      ],
      "metadata": {
        "id": "w1L1yBSG-d_H"
      },
      "execution_count": null,
      "outputs": []
    },
    {
      "cell_type": "code",
      "source": [
        "def simpleClean(x):\n",
        "    # lowercase\n",
        "    x = x.lower()\n",
        "    # remove unicode characters\n",
        "    x = x.encode('ascii', 'ignore').decode()\n",
        "    x = re.sub(r'https*\\S+', ' ', x)\n",
        "    x = re.sub(r'http*\\S+', ' ', x)\n",
        "    # then use regex to remove @ symbols and hashtags\n",
        "    #x = re.sub(r'@\\S', '', x)\n",
        "    #x = re.sub(r'#\\S+', ' ', x)\n",
        "    x = re.sub(r'\\'\\w+', '', x)\n",
        "    #x = re.sub('[%s]' % re.escape(string.punctuation), ' ', x)\n",
        "    x = re.sub(r'\\w*\\d+\\w*', '', x)\n",
        "    x = re.sub(r'\\s{2,}', ' ', x)\n",
        "    x = re.sub(r'\\s[^\\w\\s]\\s', '', x)\n",
        "    return x\n",
        "\n",
        "train['Tweet'] = train['Tweet'].apply(simpleClean)\n",
        "val['Tweet'] = val['Tweet'].apply(simpleClean)\n",
        "test['Tweet'] = test['Tweet'].apply(simpleClean)"
      ],
      "metadata": {
        "id": "A3MLmj29Alvm"
      },
      "execution_count": null,
      "outputs": []
    },
    {
      "cell_type": "code",
      "source": [
        "from nltk.stem import WordNetLemmatizer\n",
        "lemmatizer = WordNetLemmatizer()\n",
        "def lemmatizing(sentence):\n",
        "    lemmaSentence = \"\"\n",
        "    for word in sentence.split():\n",
        "        word = word.lower()\n",
        "        lemma = lemmatizer.lemmatize(word)\n",
        "        lemmaSentence += lemma\n",
        "        lemmaSentence += \" \"\n",
        "    lemmaSentence = lemmaSentence.strip()\n",
        "    return lemmaSentence\n",
        "\n",
        "train['Tweet'] = train['Tweet'].apply(lemmatizing)\n",
        "val['Tweet'] = val['Tweet'].apply(lemmatizing)\n",
        "test['Tweet'] = test['Tweet'].apply(lemmatizing)"
      ],
      "metadata": {
        "id": "-FBSByJb-o7a"
      },
      "execution_count": null,
      "outputs": []
    },
    {
      "cell_type": "code",
      "source": [
        "from keras.preprocessing.text import Tokenizer\n",
        "from keras.preprocessing.sequence import pad_sequences"
      ],
      "metadata": {
        "id": "1tzbJQWH6GPt"
      },
      "execution_count": null,
      "outputs": []
    },
    {
      "cell_type": "code",
      "source": [
        "max_features = 13000\n",
        "tokenizer = Tokenizer(num_words=max_features)\n",
        "tokenizer.fit_on_texts(list(train['Tweet']))\n",
        "X_train = tokenizer.texts_to_sequences(train['Tweet'])\n",
        "X_val = tokenizer.texts_to_sequences(val['Tweet'])\n",
        "X_test = tokenizer.texts_to_sequences(test['Tweet'])"
      ],
      "metadata": {
        "id": "Oujtt0Yo_-2u"
      },
      "execution_count": null,
      "outputs": []
    },
    {
      "cell_type": "code",
      "source": [
        "len(max(X_train, key=len))\n"
      ],
      "metadata": {
        "colab": {
          "base_uri": "https://localhost:8080/"
        },
        "id": "hDnDgwYLMZ-o",
        "outputId": "54e2b4d8-a9bf-4206-a4d7-b4419bb1c2dd"
      },
      "execution_count": null,
      "outputs": [
        {
          "output_type": "execute_result",
          "data": {
            "text/plain": [
              "26"
            ]
          },
          "metadata": {},
          "execution_count": 17
        }
      ]
    },
    {
      "cell_type": "code",
      "source": [
        "max_words = 30\n",
        "X_train =pad_sequences(X_train, maxlen=max_words)\n",
        "X_val =pad_sequences(X_val, maxlen=max_words)\n",
        "X_test =pad_sequences(X_test, maxlen=max_words)"
      ],
      "metadata": {
        "id": "fZ3l8Z0BATGn"
      },
      "execution_count": null,
      "outputs": []
    },
    {
      "cell_type": "code",
      "source": [
        "import numpy as np\n",
        "trainLabels = np.asarray(train.drop(['ID', 'Tweet'], axis=1))\n",
        "valLabels = np.asarray(val.drop(['ID', 'Tweet'], axis=1))\n",
        "testLabels = np.asarray(test.drop(['ID', 'Tweet'], axis=1))"
      ],
      "metadata": {
        "id": "saumqdexIGkr"
      },
      "execution_count": null,
      "outputs": []
    },
    {
      "cell_type": "markdown",
      "source": [
        "## Transformer definition and creating baseline"
      ],
      "metadata": {
        "id": "9sLCBIbuMW37"
      }
    },
    {
      "cell_type": "code",
      "source": [
        "import tensorflow as tf\n",
        "from tensorflow import keras\n",
        "from tensorflow.keras import layers"
      ],
      "metadata": {
        "id": "6C3xL_QmAwSz"
      },
      "execution_count": null,
      "outputs": []
    },
    {
      "cell_type": "code",
      "source": [
        "class TransformerBlock(layers.Layer):\n",
        "    def __init__(self, embed_dim, num_heads, ff_dim, rate=0.1):\n",
        "        super(TransformerBlock, self).__init__()\n",
        "        self.att = layers.MultiHeadAttention(num_heads=num_heads, key_dim=embed_dim)\n",
        "        self.ffn = keras.Sequential(\n",
        "            [layers.Dense(ff_dim, activation=\"relu\"), layers.Dense(embed_dim),]\n",
        "        )\n",
        "        self.layernorm1 = layers.LayerNormalization(epsilon=1e-6)\n",
        "        self.layernorm2 = layers.LayerNormalization(epsilon=1e-6)\n",
        "        self.dropout1 = layers.Dropout(rate)\n",
        "        self.dropout2 = layers.Dropout(rate)\n",
        "\n",
        "    def call(self, inputs, training):\n",
        "        attn_output = self.att(inputs, inputs)\n",
        "        attn_output = self.dropout1(attn_output, training=training)\n",
        "        out1 = self.layernorm1(inputs + attn_output)\n",
        "        ffn_output = self.ffn(out1)\n",
        "        ffn_output = self.dropout2(ffn_output, training=training)\n",
        "        return self.layernorm2(out1 + ffn_output)"
      ],
      "metadata": {
        "id": "g3N3bdzLBC1g"
      },
      "execution_count": null,
      "outputs": []
    },
    {
      "cell_type": "code",
      "source": [
        "class TokenAndPositionEmbedding(layers.Layer):\n",
        "    def __init__(self, maxlen, vocab_size, embed_dim):\n",
        "        super(TokenAndPositionEmbedding, self).__init__()\n",
        "        self.token_emb = layers.Embedding(input_dim=vocab_size, output_dim=embed_dim)\n",
        "        self.pos_emb = layers.Embedding(input_dim=maxlen, output_dim=embed_dim)\n",
        "\n",
        "    def call(self, x):\n",
        "        maxlen = tf.shape(x)[-1]\n",
        "        positions = tf.range(start=0, limit=maxlen, delta=1)\n",
        "        positions = self.pos_emb(positions)\n",
        "        x = self.token_emb(x)\n",
        "        return x + positions"
      ],
      "metadata": {
        "id": "JUFelqjaBG1O"
      },
      "execution_count": null,
      "outputs": []
    },
    {
      "cell_type": "code",
      "source": [
        "embed_dim = 20  # Embedding size for each token\n",
        "num_heads = 1  # Number of attention heads\n",
        "ff_dim = 10  # Hidden layer size in feed forward network inside transformer\n",
        "\n",
        "inputs = layers.Input(shape=(max_words,))\n",
        "embedding_layer = TokenAndPositionEmbedding(max_words, max_features, embed_dim)\n",
        "x = embedding_layer(inputs)\n",
        "transformer_block = TransformerBlock(embed_dim, num_heads, ff_dim)\n",
        "x = transformer_block(x)\n",
        "x = layers.GlobalAveragePooling1D()(x)\n",
        "x = layers.Dropout(0.1)(x)\n",
        "x = layers.Dense(50, activation=\"relu\")(x)\n",
        "x = layers.Dropout(0.1)(x)\n",
        "outputs = layers.Dense(11, activation=\"sigmoid\")(x)\n",
        "\n",
        "model = keras.Model(inputs=inputs, outputs=outputs)"
      ],
      "metadata": {
        "id": "PckSb7WIBIxG"
      },
      "execution_count": null,
      "outputs": []
    },
    {
      "cell_type": "code",
      "source": [
        "def accuracyMultilabel(labels, predictions):\n",
        "    numerator = tf.reduce_sum(tf.cast(tf.multiply(predictions, labels), tf.float32), axis = -1)\n",
        "    denominator = tf.cast(tf.reduce_sum(predictions + labels, axis = -1), tf.float32) - numerator + 0.000001\n",
        "    accuracy = tf.divide(numerator, denominator)\n",
        "    mean = tf.reduce_mean(accuracy)\n",
        "    return mean"
      ],
      "metadata": {
        "id": "A00_ZWznw4wr"
      },
      "execution_count": null,
      "outputs": []
    },
    {
      "cell_type": "code",
      "source": [
        "def jaccard_similarity(y_true, y_pred, treshold=0.5,dummy = 0.000001):\n",
        "    intersection = tf.cast(tf.reduce_sum(tf.round(y_true * y_pred), axis=-1),tf.float32)    \n",
        "    union =  tf.cast(tf.math.count_nonzero((y_true+y_pred)>=treshold, axis=-1),tf.float32)    \n",
        "    acc = tf.divide(intersection, union+dummy)\n",
        "    jac = tf.reduce_mean(acc)\n",
        "    return jac"
      ],
      "metadata": {
        "id": "_OMO07cl3Ogm"
      },
      "execution_count": null,
      "outputs": []
    },
    {
      "cell_type": "code",
      "source": [
        "model.compile(optimizer=\"adam\", loss=\"binary_crossentropy\", metrics=[jaccard_similarity])\n",
        "history = model.fit(\n",
        "    X_train, trainLabels, batch_size=32, epochs=10, validation_data=(X_val, valLabels)\n",
        ")"
      ],
      "metadata": {
        "colab": {
          "base_uri": "https://localhost:8080/"
        },
        "id": "YQnSS2tgDcHe",
        "outputId": "e5f8bf0f-672d-4f74-873c-95cecb0d9a51"
      },
      "execution_count": null,
      "outputs": [
        {
          "output_type": "stream",
          "name": "stdout",
          "text": [
            "Epoch 1/10\n",
            "214/214 [==============================] - 7s 15ms/step - loss: 0.4874 - jaccard_similarity: 0.0530 - val_loss: 0.4745 - val_jaccard_similarity: 5.5804e-04\n",
            "Epoch 2/10\n",
            "214/214 [==============================] - 3s 13ms/step - loss: 0.3978 - jaccard_similarity: 0.3262 - val_loss: 0.3851 - val_jaccard_similarity: 0.4212\n",
            "Epoch 3/10\n",
            "214/214 [==============================] - 3s 13ms/step - loss: 0.3145 - jaccard_similarity: 0.5146 - val_loss: 0.3696 - val_jaccard_similarity: 0.4760\n",
            "Epoch 4/10\n",
            "214/214 [==============================] - 3s 14ms/step - loss: 0.2698 - jaccard_similarity: 0.5841 - val_loss: 0.3989 - val_jaccard_similarity: 0.4460\n",
            "Epoch 5/10\n",
            "214/214 [==============================] - 3s 14ms/step - loss: 0.2347 - jaccard_similarity: 0.6365 - val_loss: 0.4029 - val_jaccard_similarity: 0.4885\n",
            "Epoch 6/10\n",
            "214/214 [==============================] - 3s 13ms/step - loss: 0.2071 - jaccard_similarity: 0.6802 - val_loss: 0.4359 - val_jaccard_similarity: 0.4840\n",
            "Epoch 7/10\n",
            "214/214 [==============================] - 3s 13ms/step - loss: 0.1892 - jaccard_similarity: 0.7079 - val_loss: 0.4718 - val_jaccard_similarity: 0.4866\n",
            "Epoch 8/10\n",
            "214/214 [==============================] - 3s 13ms/step - loss: 0.1706 - jaccard_similarity: 0.7326 - val_loss: 0.5082 - val_jaccard_similarity: 0.4834\n",
            "Epoch 9/10\n",
            "214/214 [==============================] - 3s 13ms/step - loss: 0.1532 - jaccard_similarity: 0.7567 - val_loss: 0.5584 - val_jaccard_similarity: 0.4828\n",
            "Epoch 10/10\n",
            "214/214 [==============================] - 3s 12ms/step - loss: 0.1412 - jaccard_similarity: 0.7753 - val_loss: 0.5854 - val_jaccard_similarity: 0.4751\n"
          ]
        }
      ]
    },
    {
      "cell_type": "markdown",
      "source": [
        "## Hyperparameter optimisaton"
      ],
      "metadata": {
        "id": "M8VRt4S6MtKN"
      }
    },
    {
      "cell_type": "code",
      "source": [
        "def tryHyperparameters(embed_dims,num_heads,ffDims,denseLayers):\n",
        "  resultsDict = {\"embed_dim\":[],\"numHead\":[],\"ffDim\":[],\"layer\":[],\"val_jaccard_similarity\":[]};\n",
        "  for embed_dim in embed_dims:\n",
        "    for numHead in num_heads:\n",
        "      for ffDim in ffDims:\n",
        "        for layer in denseLayers:\n",
        "          inputs = layers.Input(shape=(max_words,))\n",
        "          embedding_layer = TokenAndPositionEmbedding(max_words, max_features, embed_dim)\n",
        "          x = embedding_layer(inputs)\n",
        "          transformer_block = TransformerBlock(embed_dim, numHead, ffDim)\n",
        "          x = transformer_block(x)\n",
        "          x = layers.GlobalAveragePooling1D()(x)\n",
        "          x = layers.Dropout(0.1)(x)\n",
        "          x = layers.Dense(layer, activation=\"relu\")(x)\n",
        "          x = layers.Dropout(0.1)(x)\n",
        "          outputs = layers.Dense(11, activation=\"sigmoid\")(x)\n",
        "          model = keras.Model(inputs=inputs, outputs=outputs)\n",
        "          model.compile(optimizer=\"adam\", loss=\"binary_crossentropy\", metrics=[jaccard_similarity])\n",
        "          history = model.fit(\n",
        "              X_train, trainLabels, batch_size=32, epochs=5, validation_data=(X_val, valLabels)\n",
        "          )\n",
        "          finalValSim = history.history[\"val_jaccard_similarity\"][-1]\n",
        "          resultsDict[\"embed_dim\"].append(embed_dim) \n",
        "          resultsDict[\"numHead\"].append(numHead)\n",
        "          resultsDict[\"ffDim\"].append(ffDim)\n",
        "          resultsDict[\"layer\"].append(layer)\n",
        "          resultsDict[\"val_jaccard_similarity\"].append(finalValSim)\n",
        "  return resultsDict"
      ],
      "metadata": {
        "id": "imYseK8Y7f35"
      },
      "execution_count": null,
      "outputs": []
    },
    {
      "cell_type": "code",
      "source": [
        "embed_dims = [10,20,30,40]\n",
        "num_heads = [1,2,3]\n",
        "ffDims = [10,20,30]\n",
        "denseLayers = [40,50,60]\n",
        "resultsDict=tryHyperparameters(embed_dims,num_heads,ffDims,denseLayers)"
      ],
      "metadata": {
        "id": "ozsRtbcX_B4d"
      },
      "execution_count": null,
      "outputs": []
    },
    {
      "cell_type": "code",
      "source": [
        "import pickle\n",
        "pickle.dump(resultsDict, open( \"resultsDict.p\", \"wb\" ) )"
      ],
      "metadata": {
        "id": "TIk5nchG_i2w"
      },
      "execution_count": null,
      "outputs": []
    },
    {
      "cell_type": "code",
      "source": [
        "import pickle\n",
        "resultsDictLoaded = pickle.load( open( \"resultsDict.p\", \"rb\" ) )"
      ],
      "metadata": {
        "id": "75V5VRuTFQq_"
      },
      "execution_count": null,
      "outputs": []
    },
    {
      "cell_type": "code",
      "source": [
        "valScores = resultsDict[\"val_jaccard_similarity\"]\n",
        "bestIndex = np.argmax(valScores)\n",
        "bestValScore = valScores[bestIndex]\n",
        "bestEmbedDim = resultsDict[\"embed_dim\"][bestIndex] \n",
        "bestHeadNum= resultsDict[\"numHead\"][bestIndex]\n",
        "bestFeedForward =  resultsDict[\"ffDim\"][bestIndex]\n",
        "bestLayer = resultsDict[\"layer\"][bestIndex]"
      ],
      "metadata": {
        "id": "VA8g_dyvMNy7"
      },
      "execution_count": null,
      "outputs": []
    },
    {
      "cell_type": "code",
      "source": [
        "print(\"best val score={} & best embed dim={} & bestHead={} & bestFeedForward={} & bestLayer={}\".format(bestValScore,bestEmbedDim,bestHeadNum,bestFeedForward,bestLayer))"
      ],
      "metadata": {
        "colab": {
          "base_uri": "https://localhost:8080/"
        },
        "id": "THrtpc9xNBGL",
        "outputId": "6c89c6f6-aa52-48ad-a3cc-e2d6d8fbc1ac"
      },
      "execution_count": null,
      "outputs": [
        {
          "output_type": "stream",
          "name": "stdout",
          "text": [
            "best val score=0.5136699676513672 & best embed dim=30 & bestHead=3 & bestFeedForward=30 & bestLayer=50\n"
          ]
        }
      ]
    },
    {
      "cell_type": "markdown",
      "source": [
        "## Training optimal model"
      ],
      "metadata": {
        "id": "LCTFinFoM9wH"
      }
    },
    {
      "cell_type": "code",
      "source": [
        "embed_dim = 30  # Embedding size for each token\n",
        "num_heads = 3  # Number of attention heads\n",
        "ff_dim = 30  # Hidden layer size in feed forward network inside transformer\n",
        "\n",
        "inputs = layers.Input(shape=(max_words,))\n",
        "embedding_layer = TokenAndPositionEmbedding(max_words, max_features, embed_dim)\n",
        "x = embedding_layer(inputs)\n",
        "transformer_block = TransformerBlock(embed_dim, num_heads, ff_dim)\n",
        "x = transformer_block(x)\n",
        "x = layers.GlobalAveragePooling1D()(x)\n",
        "x = layers.Dropout(0.1)(x)\n",
        "x = layers.Dense(50, activation=\"relu\")(x)\n",
        "x = layers.Dropout(0.1)(x)\n",
        "outputs = layers.Dense(11, activation=\"sigmoid\")(x)\n",
        "\n",
        "model = keras.Model(inputs=inputs, outputs=outputs)"
      ],
      "metadata": {
        "id": "I9aLJ51yMjkx"
      },
      "execution_count": null,
      "outputs": []
    },
    {
      "cell_type": "code",
      "source": [
        "model.summary()"
      ],
      "metadata": {
        "colab": {
          "base_uri": "https://localhost:8080/"
        },
        "id": "_RkLkWqXRGRX",
        "outputId": "286fdd55-a2aa-4016-c073-0f2d5a8e6034"
      },
      "execution_count": null,
      "outputs": [
        {
          "output_type": "stream",
          "name": "stdout",
          "text": [
            "Model: \"model\"\n",
            "_________________________________________________________________\n",
            " Layer (type)                Output Shape              Param #   \n",
            "=================================================================\n",
            " input_1 (InputLayer)        [(None, 30)]              0         \n",
            "                                                                 \n",
            " token_and_position_embeddin  (None, 30, 30)           390900    \n",
            " g (TokenAndPositionEmbeddin                                     \n",
            " g)                                                              \n",
            "                                                                 \n",
            " transformer_block (Transfor  (None, 30, 30)           13080     \n",
            " merBlock)                                                       \n",
            "                                                                 \n",
            " global_average_pooling1d (G  (None, 30)               0         \n",
            " lobalAveragePooling1D)                                          \n",
            "                                                                 \n",
            " dropout_2 (Dropout)         (None, 30)                0         \n",
            "                                                                 \n",
            " dense_2 (Dense)             (None, 50)                1550      \n",
            "                                                                 \n",
            " dropout_3 (Dropout)         (None, 50)                0         \n",
            "                                                                 \n",
            " dense_3 (Dense)             (None, 11)                561       \n",
            "                                                                 \n",
            "=================================================================\n",
            "Total params: 406,091\n",
            "Trainable params: 406,091\n",
            "Non-trainable params: 0\n",
            "_________________________________________________________________\n"
          ]
        }
      ]
    },
    {
      "cell_type": "code",
      "source": [
        "model.load_weights('../models/transformer.ckpt')"
      ],
      "metadata": {
        "colab": {
          "base_uri": "https://localhost:8080/"
        },
        "id": "l_sleAYB4LZg",
        "outputId": "4ddfb795-7a58-49ec-ec13-e3aac865c035"
      },
      "execution_count": null,
      "outputs": [
        {
          "output_type": "execute_result",
          "data": {
            "text/plain": [
              "<tensorflow.python.training.tracking.util.CheckpointLoadStatus at 0x7fd236b6b1d0>"
            ]
          },
          "metadata": {},
          "execution_count": 25
        }
      ]
    },
    {
      "cell_type": "code",
      "source": [
        "model.compile(optimizer=\"adam\", loss=\"binary_crossentropy\", metrics=[jaccard_similarity])\n",
        "history = model.fit(\n",
        "    X_train, trainLabels, batch_size=32, epochs=7, validation_data=(X_val, valLabels)\n",
        ")"
      ],
      "metadata": {
        "colab": {
          "base_uri": "https://localhost:8080/"
        },
        "id": "DKltL6iVYUcN",
        "outputId": "f5f10c13-c131-48ed-8280-f5ca8f6df1e6"
      },
      "execution_count": null,
      "outputs": [
        {
          "output_type": "stream",
          "name": "stdout",
          "text": [
            "Epoch 1/7\n",
            "214/214 [==============================] - 17s 44ms/step - loss: 0.4887 - jaccard_similarity: 0.0492 - val_loss: 0.4743 - val_jaccard_similarity: 0.0000e+00\n",
            "Epoch 2/7\n",
            "214/214 [==============================] - 6s 27ms/step - loss: 0.3898 - jaccard_similarity: 0.3463 - val_loss: 0.3843 - val_jaccard_similarity: 0.3654\n",
            "Epoch 3/7\n",
            "214/214 [==============================] - 6s 26ms/step - loss: 0.2966 - jaccard_similarity: 0.5453 - val_loss: 0.3814 - val_jaccard_similarity: 0.5014\n",
            "Epoch 4/7\n",
            "214/214 [==============================] - 5s 25ms/step - loss: 0.2408 - jaccard_similarity: 0.6273 - val_loss: 0.3953 - val_jaccard_similarity: 0.4979\n",
            "Epoch 5/7\n",
            "214/214 [==============================] - 5s 25ms/step - loss: 0.1964 - jaccard_similarity: 0.7010 - val_loss: 0.4492 - val_jaccard_similarity: 0.5128\n",
            "Epoch 6/7\n",
            "214/214 [==============================] - 5s 25ms/step - loss: 0.1623 - jaccard_similarity: 0.7492 - val_loss: 0.5094 - val_jaccard_similarity: 0.4794\n",
            "Epoch 7/7\n",
            "214/214 [==============================] - 5s 25ms/step - loss: 0.1375 - jaccard_similarity: 0.7882 - val_loss: 0.5593 - val_jaccard_similarity: 0.4771\n"
          ]
        }
      ]
    },
    {
      "cell_type": "markdown",
      "source": [
        "## Testing optimal model"
      ],
      "metadata": {
        "id": "WtFOTbs7NMxV"
      }
    },
    {
      "cell_type": "code",
      "source": [
        "import time as tt\n",
        "start=tt.time()\n",
        "pred = model.predict(X_test)\n",
        "end=tt.time()\n",
        "elapsedTime = end-start\n",
        "print('Elapsed time is {}'.format(elapsedTime))\n",
        "treshold = 0.5\n",
        "categPreds =[]\n",
        "for elem in pred:\n",
        "  result = [1 if x>=treshold else 0 for x in elem]\n",
        "  categPreds.append(result)\n"
      ],
      "metadata": {
        "id": "BxdvxXMwXEvg",
        "colab": {
          "base_uri": "https://localhost:8080/"
        },
        "outputId": "b79b075b-dd2f-4a9c-ae99-3c44bef26647"
      },
      "execution_count": null,
      "outputs": [
        {
          "output_type": "stream",
          "name": "stdout",
          "text": [
            "Elapsed time is 1.2012622356414795\n"
          ]
        }
      ]
    },
    {
      "cell_type": "code",
      "source": [
        "from sklearn.metrics import jaccard_score\n",
        "jaccard_score(testLabels, categPreds, average=\"samples\")"
      ],
      "metadata": {
        "colab": {
          "base_uri": "https://localhost:8080/"
        },
        "id": "isndxmvch3QT",
        "outputId": "73999708-651c-4e30-e915-caebd3c1f841"
      },
      "execution_count": null,
      "outputs": [
        {
          "output_type": "stream",
          "name": "stderr",
          "text": [
            "/usr/local/lib/python3.7/dist-packages/sklearn/metrics/_classification.py:1318: UndefinedMetricWarning: Jaccard is ill-defined and being set to 0.0 in samples with no true or predicted labels. Use `zero_division` parameter to control this behavior.\n",
            "  _warn_prf(average, modifier, msg_start, len(result))\n"
          ]
        },
        {
          "output_type": "execute_result",
          "data": {
            "text/plain": [
              "0.46208740630342354"
            ]
          },
          "metadata": {},
          "execution_count": 77
        }
      ]
    },
    {
      "cell_type": "code",
      "source": [
        "model.save_weights('../models/transformer.ckpt')"
      ],
      "metadata": {
        "id": "3askvlg84D8V"
      },
      "execution_count": null,
      "outputs": []
    }
  ],
  "metadata": {
    "accelerator": "GPU",
    "colab": {
      "collapsed_sections": [],
      "provenance": []
    },
    "kernelspec": {
      "display_name": "Python 3",
      "name": "python3"
    },
    "language_info": {
      "name": "python"
    },
    "widgets": {
      "application/vnd.jupyter.widget-state+json": {
        "005ff223e17b4119b54fcceec1879414": {
          "model_module": "@jupyter-widgets/controls",
          "model_module_version": "1.5.0",
          "model_name": "HTMLModel",
          "state": {
            "_dom_classes": [],
            "_model_module": "@jupyter-widgets/controls",
            "_model_module_version": "1.5.0",
            "_model_name": "HTMLModel",
            "_view_count": null,
            "_view_module": "@jupyter-widgets/controls",
            "_view_module_version": "1.5.0",
            "_view_name": "HTMLView",
            "description": "",
            "description_tooltip": null,
            "layout": "IPY_MODEL_824dfc35c52e490984bc9c6241ea7295",
            "placeholder": "​",
            "style": "IPY_MODEL_717f0f48afce4f13be881e75874566d1",
            "value": "Downloading: 100%"
          }
        },
        "03b6ccc7b6b640d8af50242a5f8909c5": {
          "model_module": "@jupyter-widgets/controls",
          "model_module_version": "1.5.0",
          "model_name": "ProgressStyleModel",
          "state": {
            "_model_module": "@jupyter-widgets/controls",
            "_model_module_version": "1.5.0",
            "_model_name": "ProgressStyleModel",
            "_view_count": null,
            "_view_module": "@jupyter-widgets/base",
            "_view_module_version": "1.2.0",
            "_view_name": "StyleView",
            "bar_color": null,
            "description_width": ""
          }
        },
        "04a516e0edf840bbb267555a992b7b1c": {
          "model_module": "@jupyter-widgets/base",
          "model_module_version": "1.2.0",
          "model_name": "LayoutModel",
          "state": {
            "_model_module": "@jupyter-widgets/base",
            "_model_module_version": "1.2.0",
            "_model_name": "LayoutModel",
            "_view_count": null,
            "_view_module": "@jupyter-widgets/base",
            "_view_module_version": "1.2.0",
            "_view_name": "LayoutView",
            "align_content": null,
            "align_items": null,
            "align_self": null,
            "border": null,
            "bottom": null,
            "display": null,
            "flex": null,
            "flex_flow": null,
            "grid_area": null,
            "grid_auto_columns": null,
            "grid_auto_flow": null,
            "grid_auto_rows": null,
            "grid_column": null,
            "grid_gap": null,
            "grid_row": null,
            "grid_template_areas": null,
            "grid_template_columns": null,
            "grid_template_rows": null,
            "height": null,
            "justify_content": null,
            "justify_items": null,
            "left": null,
            "margin": null,
            "max_height": null,
            "max_width": null,
            "min_height": null,
            "min_width": null,
            "object_fit": null,
            "object_position": null,
            "order": null,
            "overflow": null,
            "overflow_x": null,
            "overflow_y": null,
            "padding": null,
            "right": null,
            "top": null,
            "visibility": null,
            "width": null
          }
        },
        "0b1ac936c4ee4897ae9b4edb31427e11": {
          "model_module": "@jupyter-widgets/controls",
          "model_module_version": "1.5.0",
          "model_name": "HBoxModel",
          "state": {
            "_dom_classes": [],
            "_model_module": "@jupyter-widgets/controls",
            "_model_module_version": "1.5.0",
            "_model_name": "HBoxModel",
            "_view_count": null,
            "_view_module": "@jupyter-widgets/controls",
            "_view_module_version": "1.5.0",
            "_view_name": "HBoxView",
            "box_style": "",
            "children": [
              "IPY_MODEL_142f4793f10743bda767f27549054141",
              "IPY_MODEL_9d4481ef707f4330b09ba40770a02e8c",
              "IPY_MODEL_0c852c95298848b1acbf1dc77adf5f88"
            ],
            "layout": "IPY_MODEL_04a516e0edf840bbb267555a992b7b1c"
          }
        },
        "0c852c95298848b1acbf1dc77adf5f88": {
          "model_module": "@jupyter-widgets/controls",
          "model_module_version": "1.5.0",
          "model_name": "HTMLModel",
          "state": {
            "_dom_classes": [],
            "_model_module": "@jupyter-widgets/controls",
            "_model_module_version": "1.5.0",
            "_model_name": "HTMLModel",
            "_view_count": null,
            "_view_module": "@jupyter-widgets/controls",
            "_view_module_version": "1.5.0",
            "_view_name": "HTMLView",
            "description": "",
            "description_tooltip": null,
            "layout": "IPY_MODEL_7942ac87a1ff45099c921fd60e4268c8",
            "placeholder": "​",
            "style": "IPY_MODEL_de57b9b476564cfdbb14f5cc6707cd84",
            "value": " 511M/511M [00:17&lt;00:00, 32.6MB/s]"
          }
        },
        "142f4793f10743bda767f27549054141": {
          "model_module": "@jupyter-widgets/controls",
          "model_module_version": "1.5.0",
          "model_name": "HTMLModel",
          "state": {
            "_dom_classes": [],
            "_model_module": "@jupyter-widgets/controls",
            "_model_module_version": "1.5.0",
            "_model_name": "HTMLModel",
            "_view_count": null,
            "_view_module": "@jupyter-widgets/controls",
            "_view_module_version": "1.5.0",
            "_view_name": "HTMLView",
            "description": "",
            "description_tooltip": null,
            "layout": "IPY_MODEL_30e6d145d1a8427a9b40c62d77cc475e",
            "placeholder": "​",
            "style": "IPY_MODEL_2d4720d1d7f14723a078e92eb2ecfa55",
            "value": "Downloading: 100%"
          }
        },
        "14b7658f608c43fea72cbcc5b56ab1ae": {
          "model_module": "@jupyter-widgets/controls",
          "model_module_version": "1.5.0",
          "model_name": "DescriptionStyleModel",
          "state": {
            "_model_module": "@jupyter-widgets/controls",
            "_model_module_version": "1.5.0",
            "_model_name": "DescriptionStyleModel",
            "_view_count": null,
            "_view_module": "@jupyter-widgets/base",
            "_view_module_version": "1.2.0",
            "_view_name": "StyleView",
            "description_width": ""
          }
        },
        "17bef6e5f1134a918dcb95ed811ca098": {
          "model_module": "@jupyter-widgets/controls",
          "model_module_version": "1.5.0",
          "model_name": "HTMLModel",
          "state": {
            "_dom_classes": [],
            "_model_module": "@jupyter-widgets/controls",
            "_model_module_version": "1.5.0",
            "_model_name": "HTMLModel",
            "_view_count": null,
            "_view_module": "@jupyter-widgets/controls",
            "_view_module_version": "1.5.0",
            "_view_name": "HTMLView",
            "description": "",
            "description_tooltip": null,
            "layout": "IPY_MODEL_56822d7709ea42418511ec9eb6ffdb2a",
            "placeholder": "​",
            "style": "IPY_MODEL_3c40a92d9f104f9985eb7056d6768899",
            "value": " 28.0/28.0 [00:00&lt;00:00, 316B/s]"
          }
        },
        "19b33bd0ab8747cf9c59a6b782a1916c": {
          "model_module": "@jupyter-widgets/base",
          "model_module_version": "1.2.0",
          "model_name": "LayoutModel",
          "state": {
            "_model_module": "@jupyter-widgets/base",
            "_model_module_version": "1.2.0",
            "_model_name": "LayoutModel",
            "_view_count": null,
            "_view_module": "@jupyter-widgets/base",
            "_view_module_version": "1.2.0",
            "_view_name": "LayoutView",
            "align_content": null,
            "align_items": null,
            "align_self": null,
            "border": null,
            "bottom": null,
            "display": null,
            "flex": null,
            "flex_flow": null,
            "grid_area": null,
            "grid_auto_columns": null,
            "grid_auto_flow": null,
            "grid_auto_rows": null,
            "grid_column": null,
            "grid_gap": null,
            "grid_row": null,
            "grid_template_areas": null,
            "grid_template_columns": null,
            "grid_template_rows": null,
            "height": null,
            "justify_content": null,
            "justify_items": null,
            "left": null,
            "margin": null,
            "max_height": null,
            "max_width": null,
            "min_height": null,
            "min_width": null,
            "object_fit": null,
            "object_position": null,
            "order": null,
            "overflow": null,
            "overflow_x": null,
            "overflow_y": null,
            "padding": null,
            "right": null,
            "top": null,
            "visibility": null,
            "width": null
          }
        },
        "2adaa84c834042f5b598f46bdc418f7b": {
          "model_module": "@jupyter-widgets/controls",
          "model_module_version": "1.5.0",
          "model_name": "HTMLModel",
          "state": {
            "_dom_classes": [],
            "_model_module": "@jupyter-widgets/controls",
            "_model_module_version": "1.5.0",
            "_model_name": "HTMLModel",
            "_view_count": null,
            "_view_module": "@jupyter-widgets/controls",
            "_view_module_version": "1.5.0",
            "_view_name": "HTMLView",
            "description": "",
            "description_tooltip": null,
            "layout": "IPY_MODEL_3eef310ebcda4a7f9f9c82d41b66a9b1",
            "placeholder": "​",
            "style": "IPY_MODEL_a48ec8e40df64d50bd6ec208bd482a02",
            "value": "Downloading: 100%"
          }
        },
        "2d4720d1d7f14723a078e92eb2ecfa55": {
          "model_module": "@jupyter-widgets/controls",
          "model_module_version": "1.5.0",
          "model_name": "DescriptionStyleModel",
          "state": {
            "_model_module": "@jupyter-widgets/controls",
            "_model_module_version": "1.5.0",
            "_model_name": "DescriptionStyleModel",
            "_view_count": null,
            "_view_module": "@jupyter-widgets/base",
            "_view_module_version": "1.2.0",
            "_view_name": "StyleView",
            "description_width": ""
          }
        },
        "2d4a17c75b0345c1bd7521bceec285cc": {
          "model_module": "@jupyter-widgets/base",
          "model_module_version": "1.2.0",
          "model_name": "LayoutModel",
          "state": {
            "_model_module": "@jupyter-widgets/base",
            "_model_module_version": "1.2.0",
            "_model_name": "LayoutModel",
            "_view_count": null,
            "_view_module": "@jupyter-widgets/base",
            "_view_module_version": "1.2.0",
            "_view_name": "LayoutView",
            "align_content": null,
            "align_items": null,
            "align_self": null,
            "border": null,
            "bottom": null,
            "display": null,
            "flex": null,
            "flex_flow": null,
            "grid_area": null,
            "grid_auto_columns": null,
            "grid_auto_flow": null,
            "grid_auto_rows": null,
            "grid_column": null,
            "grid_gap": null,
            "grid_row": null,
            "grid_template_areas": null,
            "grid_template_columns": null,
            "grid_template_rows": null,
            "height": null,
            "justify_content": null,
            "justify_items": null,
            "left": null,
            "margin": null,
            "max_height": null,
            "max_width": null,
            "min_height": null,
            "min_width": null,
            "object_fit": null,
            "object_position": null,
            "order": null,
            "overflow": null,
            "overflow_x": null,
            "overflow_y": null,
            "padding": null,
            "right": null,
            "top": null,
            "visibility": null,
            "width": null
          }
        },
        "30e6d145d1a8427a9b40c62d77cc475e": {
          "model_module": "@jupyter-widgets/base",
          "model_module_version": "1.2.0",
          "model_name": "LayoutModel",
          "state": {
            "_model_module": "@jupyter-widgets/base",
            "_model_module_version": "1.2.0",
            "_model_name": "LayoutModel",
            "_view_count": null,
            "_view_module": "@jupyter-widgets/base",
            "_view_module_version": "1.2.0",
            "_view_name": "LayoutView",
            "align_content": null,
            "align_items": null,
            "align_self": null,
            "border": null,
            "bottom": null,
            "display": null,
            "flex": null,
            "flex_flow": null,
            "grid_area": null,
            "grid_auto_columns": null,
            "grid_auto_flow": null,
            "grid_auto_rows": null,
            "grid_column": null,
            "grid_gap": null,
            "grid_row": null,
            "grid_template_areas": null,
            "grid_template_columns": null,
            "grid_template_rows": null,
            "height": null,
            "justify_content": null,
            "justify_items": null,
            "left": null,
            "margin": null,
            "max_height": null,
            "max_width": null,
            "min_height": null,
            "min_width": null,
            "object_fit": null,
            "object_position": null,
            "order": null,
            "overflow": null,
            "overflow_x": null,
            "overflow_y": null,
            "padding": null,
            "right": null,
            "top": null,
            "visibility": null,
            "width": null
          }
        },
        "31db0ecd718340b98836d792a3abe02f": {
          "model_module": "@jupyter-widgets/base",
          "model_module_version": "1.2.0",
          "model_name": "LayoutModel",
          "state": {
            "_model_module": "@jupyter-widgets/base",
            "_model_module_version": "1.2.0",
            "_model_name": "LayoutModel",
            "_view_count": null,
            "_view_module": "@jupyter-widgets/base",
            "_view_module_version": "1.2.0",
            "_view_name": "LayoutView",
            "align_content": null,
            "align_items": null,
            "align_self": null,
            "border": null,
            "bottom": null,
            "display": null,
            "flex": null,
            "flex_flow": null,
            "grid_area": null,
            "grid_auto_columns": null,
            "grid_auto_flow": null,
            "grid_auto_rows": null,
            "grid_column": null,
            "grid_gap": null,
            "grid_row": null,
            "grid_template_areas": null,
            "grid_template_columns": null,
            "grid_template_rows": null,
            "height": null,
            "justify_content": null,
            "justify_items": null,
            "left": null,
            "margin": null,
            "max_height": null,
            "max_width": null,
            "min_height": null,
            "min_width": null,
            "object_fit": null,
            "object_position": null,
            "order": null,
            "overflow": null,
            "overflow_x": null,
            "overflow_y": null,
            "padding": null,
            "right": null,
            "top": null,
            "visibility": null,
            "width": null
          }
        },
        "3c40a92d9f104f9985eb7056d6768899": {
          "model_module": "@jupyter-widgets/controls",
          "model_module_version": "1.5.0",
          "model_name": "DescriptionStyleModel",
          "state": {
            "_model_module": "@jupyter-widgets/controls",
            "_model_module_version": "1.5.0",
            "_model_name": "DescriptionStyleModel",
            "_view_count": null,
            "_view_module": "@jupyter-widgets/base",
            "_view_module_version": "1.2.0",
            "_view_name": "StyleView",
            "description_width": ""
          }
        },
        "3eef310ebcda4a7f9f9c82d41b66a9b1": {
          "model_module": "@jupyter-widgets/base",
          "model_module_version": "1.2.0",
          "model_name": "LayoutModel",
          "state": {
            "_model_module": "@jupyter-widgets/base",
            "_model_module_version": "1.2.0",
            "_model_name": "LayoutModel",
            "_view_count": null,
            "_view_module": "@jupyter-widgets/base",
            "_view_module_version": "1.2.0",
            "_view_name": "LayoutView",
            "align_content": null,
            "align_items": null,
            "align_self": null,
            "border": null,
            "bottom": null,
            "display": null,
            "flex": null,
            "flex_flow": null,
            "grid_area": null,
            "grid_auto_columns": null,
            "grid_auto_flow": null,
            "grid_auto_rows": null,
            "grid_column": null,
            "grid_gap": null,
            "grid_row": null,
            "grid_template_areas": null,
            "grid_template_columns": null,
            "grid_template_rows": null,
            "height": null,
            "justify_content": null,
            "justify_items": null,
            "left": null,
            "margin": null,
            "max_height": null,
            "max_width": null,
            "min_height": null,
            "min_width": null,
            "object_fit": null,
            "object_position": null,
            "order": null,
            "overflow": null,
            "overflow_x": null,
            "overflow_y": null,
            "padding": null,
            "right": null,
            "top": null,
            "visibility": null,
            "width": null
          }
        },
        "3f4f1d019bef4339b931e07a80ef3071": {
          "model_module": "@jupyter-widgets/base",
          "model_module_version": "1.2.0",
          "model_name": "LayoutModel",
          "state": {
            "_model_module": "@jupyter-widgets/base",
            "_model_module_version": "1.2.0",
            "_model_name": "LayoutModel",
            "_view_count": null,
            "_view_module": "@jupyter-widgets/base",
            "_view_module_version": "1.2.0",
            "_view_name": "LayoutView",
            "align_content": null,
            "align_items": null,
            "align_self": null,
            "border": null,
            "bottom": null,
            "display": null,
            "flex": null,
            "flex_flow": null,
            "grid_area": null,
            "grid_auto_columns": null,
            "grid_auto_flow": null,
            "grid_auto_rows": null,
            "grid_column": null,
            "grid_gap": null,
            "grid_row": null,
            "grid_template_areas": null,
            "grid_template_columns": null,
            "grid_template_rows": null,
            "height": null,
            "justify_content": null,
            "justify_items": null,
            "left": null,
            "margin": null,
            "max_height": null,
            "max_width": null,
            "min_height": null,
            "min_width": null,
            "object_fit": null,
            "object_position": null,
            "order": null,
            "overflow": null,
            "overflow_x": null,
            "overflow_y": null,
            "padding": null,
            "right": null,
            "top": null,
            "visibility": null,
            "width": null
          }
        },
        "43c7e765f8f447d3a5b44b037faf0fc3": {
          "model_module": "@jupyter-widgets/base",
          "model_module_version": "1.2.0",
          "model_name": "LayoutModel",
          "state": {
            "_model_module": "@jupyter-widgets/base",
            "_model_module_version": "1.2.0",
            "_model_name": "LayoutModel",
            "_view_count": null,
            "_view_module": "@jupyter-widgets/base",
            "_view_module_version": "1.2.0",
            "_view_name": "LayoutView",
            "align_content": null,
            "align_items": null,
            "align_self": null,
            "border": null,
            "bottom": null,
            "display": null,
            "flex": null,
            "flex_flow": null,
            "grid_area": null,
            "grid_auto_columns": null,
            "grid_auto_flow": null,
            "grid_auto_rows": null,
            "grid_column": null,
            "grid_gap": null,
            "grid_row": null,
            "grid_template_areas": null,
            "grid_template_columns": null,
            "grid_template_rows": null,
            "height": null,
            "justify_content": null,
            "justify_items": null,
            "left": null,
            "margin": null,
            "max_height": null,
            "max_width": null,
            "min_height": null,
            "min_width": null,
            "object_fit": null,
            "object_position": null,
            "order": null,
            "overflow": null,
            "overflow_x": null,
            "overflow_y": null,
            "padding": null,
            "right": null,
            "top": null,
            "visibility": null,
            "width": null
          }
        },
        "46550fe8bbe8443298e2c3958681cc9e": {
          "model_module": "@jupyter-widgets/controls",
          "model_module_version": "1.5.0",
          "model_name": "HBoxModel",
          "state": {
            "_dom_classes": [],
            "_model_module": "@jupyter-widgets/controls",
            "_model_module_version": "1.5.0",
            "_model_name": "HBoxModel",
            "_view_count": null,
            "_view_module": "@jupyter-widgets/controls",
            "_view_module_version": "1.5.0",
            "_view_name": "HBoxView",
            "box_style": "",
            "children": [
              "IPY_MODEL_844d933412ee4c8eb4f440b188d19cfb",
              "IPY_MODEL_7f0ee03835dc46bbbb54b9a79f311109",
              "IPY_MODEL_17bef6e5f1134a918dcb95ed811ca098"
            ],
            "layout": "IPY_MODEL_c284e6fbec214651ae71a6e4d01ff90d"
          }
        },
        "4bb3dd649c7a4970bd225efec3fcb623": {
          "model_module": "@jupyter-widgets/controls",
          "model_module_version": "1.5.0",
          "model_name": "DescriptionStyleModel",
          "state": {
            "_model_module": "@jupyter-widgets/controls",
            "_model_module_version": "1.5.0",
            "_model_name": "DescriptionStyleModel",
            "_view_count": null,
            "_view_module": "@jupyter-widgets/base",
            "_view_module_version": "1.2.0",
            "_view_name": "StyleView",
            "description_width": ""
          }
        },
        "50d26b215da14dc8bb40ec5d76fb10de": {
          "model_module": "@jupyter-widgets/base",
          "model_module_version": "1.2.0",
          "model_name": "LayoutModel",
          "state": {
            "_model_module": "@jupyter-widgets/base",
            "_model_module_version": "1.2.0",
            "_model_name": "LayoutModel",
            "_view_count": null,
            "_view_module": "@jupyter-widgets/base",
            "_view_module_version": "1.2.0",
            "_view_name": "LayoutView",
            "align_content": null,
            "align_items": null,
            "align_self": null,
            "border": null,
            "bottom": null,
            "display": null,
            "flex": null,
            "flex_flow": null,
            "grid_area": null,
            "grid_auto_columns": null,
            "grid_auto_flow": null,
            "grid_auto_rows": null,
            "grid_column": null,
            "grid_gap": null,
            "grid_row": null,
            "grid_template_areas": null,
            "grid_template_columns": null,
            "grid_template_rows": null,
            "height": null,
            "justify_content": null,
            "justify_items": null,
            "left": null,
            "margin": null,
            "max_height": null,
            "max_width": null,
            "min_height": null,
            "min_width": null,
            "object_fit": null,
            "object_position": null,
            "order": null,
            "overflow": null,
            "overflow_x": null,
            "overflow_y": null,
            "padding": null,
            "right": null,
            "top": null,
            "visibility": null,
            "width": null
          }
        },
        "5213a60c044d4fc3a8624c7137b160e1": {
          "model_module": "@jupyter-widgets/controls",
          "model_module_version": "1.5.0",
          "model_name": "HBoxModel",
          "state": {
            "_dom_classes": [],
            "_model_module": "@jupyter-widgets/controls",
            "_model_module_version": "1.5.0",
            "_model_name": "HBoxModel",
            "_view_count": null,
            "_view_module": "@jupyter-widgets/controls",
            "_view_module_version": "1.5.0",
            "_view_name": "HBoxView",
            "box_style": "",
            "children": [
              "IPY_MODEL_005ff223e17b4119b54fcceec1879414",
              "IPY_MODEL_60cf3f33151249ee84d1748b23664ed2",
              "IPY_MODEL_c38db725528c41ec9352aa441e5d5569"
            ],
            "layout": "IPY_MODEL_43c7e765f8f447d3a5b44b037faf0fc3"
          }
        },
        "56822d7709ea42418511ec9eb6ffdb2a": {
          "model_module": "@jupyter-widgets/base",
          "model_module_version": "1.2.0",
          "model_name": "LayoutModel",
          "state": {
            "_model_module": "@jupyter-widgets/base",
            "_model_module_version": "1.2.0",
            "_model_name": "LayoutModel",
            "_view_count": null,
            "_view_module": "@jupyter-widgets/base",
            "_view_module_version": "1.2.0",
            "_view_name": "LayoutView",
            "align_content": null,
            "align_items": null,
            "align_self": null,
            "border": null,
            "bottom": null,
            "display": null,
            "flex": null,
            "flex_flow": null,
            "grid_area": null,
            "grid_auto_columns": null,
            "grid_auto_flow": null,
            "grid_auto_rows": null,
            "grid_column": null,
            "grid_gap": null,
            "grid_row": null,
            "grid_template_areas": null,
            "grid_template_columns": null,
            "grid_template_rows": null,
            "height": null,
            "justify_content": null,
            "justify_items": null,
            "left": null,
            "margin": null,
            "max_height": null,
            "max_width": null,
            "min_height": null,
            "min_width": null,
            "object_fit": null,
            "object_position": null,
            "order": null,
            "overflow": null,
            "overflow_x": null,
            "overflow_y": null,
            "padding": null,
            "right": null,
            "top": null,
            "visibility": null,
            "width": null
          }
        },
        "60cf3f33151249ee84d1748b23664ed2": {
          "model_module": "@jupyter-widgets/controls",
          "model_module_version": "1.5.0",
          "model_name": "FloatProgressModel",
          "state": {
            "_dom_classes": [],
            "_model_module": "@jupyter-widgets/controls",
            "_model_module_version": "1.5.0",
            "_model_name": "FloatProgressModel",
            "_view_count": null,
            "_view_module": "@jupyter-widgets/controls",
            "_view_module_version": "1.5.0",
            "_view_name": "ProgressView",
            "bar_style": "success",
            "description": "",
            "description_tooltip": null,
            "layout": "IPY_MODEL_31db0ecd718340b98836d792a3abe02f",
            "max": 570,
            "min": 0,
            "orientation": "horizontal",
            "style": "IPY_MODEL_6e550ba2ff88418abc63bc5b0551869e",
            "value": 570
          }
        },
        "64ada12cf492401eb4d46783a85b33b2": {
          "model_module": "@jupyter-widgets/controls",
          "model_module_version": "1.5.0",
          "model_name": "HBoxModel",
          "state": {
            "_dom_classes": [],
            "_model_module": "@jupyter-widgets/controls",
            "_model_module_version": "1.5.0",
            "_model_name": "HBoxModel",
            "_view_count": null,
            "_view_module": "@jupyter-widgets/controls",
            "_view_module_version": "1.5.0",
            "_view_name": "HBoxView",
            "box_style": "",
            "children": [
              "IPY_MODEL_2adaa84c834042f5b598f46bdc418f7b",
              "IPY_MODEL_91346d5de92e4e8f9e2b2234347d118f",
              "IPY_MODEL_cbfb1e53d51a4a138c07bd46d939e830"
            ],
            "layout": "IPY_MODEL_50d26b215da14dc8bb40ec5d76fb10de"
          }
        },
        "6e550ba2ff88418abc63bc5b0551869e": {
          "model_module": "@jupyter-widgets/controls",
          "model_module_version": "1.5.0",
          "model_name": "ProgressStyleModel",
          "state": {
            "_model_module": "@jupyter-widgets/controls",
            "_model_module_version": "1.5.0",
            "_model_name": "ProgressStyleModel",
            "_view_count": null,
            "_view_module": "@jupyter-widgets/base",
            "_view_module_version": "1.2.0",
            "_view_name": "StyleView",
            "bar_color": null,
            "description_width": ""
          }
        },
        "717f0f48afce4f13be881e75874566d1": {
          "model_module": "@jupyter-widgets/controls",
          "model_module_version": "1.5.0",
          "model_name": "DescriptionStyleModel",
          "state": {
            "_model_module": "@jupyter-widgets/controls",
            "_model_module_version": "1.5.0",
            "_model_name": "DescriptionStyleModel",
            "_view_count": null,
            "_view_module": "@jupyter-widgets/base",
            "_view_module_version": "1.2.0",
            "_view_name": "StyleView",
            "description_width": ""
          }
        },
        "7942ac87a1ff45099c921fd60e4268c8": {
          "model_module": "@jupyter-widgets/base",
          "model_module_version": "1.2.0",
          "model_name": "LayoutModel",
          "state": {
            "_model_module": "@jupyter-widgets/base",
            "_model_module_version": "1.2.0",
            "_model_name": "LayoutModel",
            "_view_count": null,
            "_view_module": "@jupyter-widgets/base",
            "_view_module_version": "1.2.0",
            "_view_name": "LayoutView",
            "align_content": null,
            "align_items": null,
            "align_self": null,
            "border": null,
            "bottom": null,
            "display": null,
            "flex": null,
            "flex_flow": null,
            "grid_area": null,
            "grid_auto_columns": null,
            "grid_auto_flow": null,
            "grid_auto_rows": null,
            "grid_column": null,
            "grid_gap": null,
            "grid_row": null,
            "grid_template_areas": null,
            "grid_template_columns": null,
            "grid_template_rows": null,
            "height": null,
            "justify_content": null,
            "justify_items": null,
            "left": null,
            "margin": null,
            "max_height": null,
            "max_width": null,
            "min_height": null,
            "min_width": null,
            "object_fit": null,
            "object_position": null,
            "order": null,
            "overflow": null,
            "overflow_x": null,
            "overflow_y": null,
            "padding": null,
            "right": null,
            "top": null,
            "visibility": null,
            "width": null
          }
        },
        "7f0ee03835dc46bbbb54b9a79f311109": {
          "model_module": "@jupyter-widgets/controls",
          "model_module_version": "1.5.0",
          "model_name": "FloatProgressModel",
          "state": {
            "_dom_classes": [],
            "_model_module": "@jupyter-widgets/controls",
            "_model_module_version": "1.5.0",
            "_model_name": "FloatProgressModel",
            "_view_count": null,
            "_view_module": "@jupyter-widgets/controls",
            "_view_module_version": "1.5.0",
            "_view_name": "ProgressView",
            "bar_style": "success",
            "description": "",
            "description_tooltip": null,
            "layout": "IPY_MODEL_19b33bd0ab8747cf9c59a6b782a1916c",
            "max": 28,
            "min": 0,
            "orientation": "horizontal",
            "style": "IPY_MODEL_e70d5b599c3543c086cfd1e264daeeda",
            "value": 28
          }
        },
        "824dfc35c52e490984bc9c6241ea7295": {
          "model_module": "@jupyter-widgets/base",
          "model_module_version": "1.2.0",
          "model_name": "LayoutModel",
          "state": {
            "_model_module": "@jupyter-widgets/base",
            "_model_module_version": "1.2.0",
            "_model_name": "LayoutModel",
            "_view_count": null,
            "_view_module": "@jupyter-widgets/base",
            "_view_module_version": "1.2.0",
            "_view_name": "LayoutView",
            "align_content": null,
            "align_items": null,
            "align_self": null,
            "border": null,
            "bottom": null,
            "display": null,
            "flex": null,
            "flex_flow": null,
            "grid_area": null,
            "grid_auto_columns": null,
            "grid_auto_flow": null,
            "grid_auto_rows": null,
            "grid_column": null,
            "grid_gap": null,
            "grid_row": null,
            "grid_template_areas": null,
            "grid_template_columns": null,
            "grid_template_rows": null,
            "height": null,
            "justify_content": null,
            "justify_items": null,
            "left": null,
            "margin": null,
            "max_height": null,
            "max_width": null,
            "min_height": null,
            "min_width": null,
            "object_fit": null,
            "object_position": null,
            "order": null,
            "overflow": null,
            "overflow_x": null,
            "overflow_y": null,
            "padding": null,
            "right": null,
            "top": null,
            "visibility": null,
            "width": null
          }
        },
        "844d933412ee4c8eb4f440b188d19cfb": {
          "model_module": "@jupyter-widgets/controls",
          "model_module_version": "1.5.0",
          "model_name": "HTMLModel",
          "state": {
            "_dom_classes": [],
            "_model_module": "@jupyter-widgets/controls",
            "_model_module_version": "1.5.0",
            "_model_name": "HTMLModel",
            "_view_count": null,
            "_view_module": "@jupyter-widgets/controls",
            "_view_module_version": "1.5.0",
            "_view_name": "HTMLView",
            "description": "",
            "description_tooltip": null,
            "layout": "IPY_MODEL_edcc80676a964ccbb4a8cb62fd209763",
            "placeholder": "​",
            "style": "IPY_MODEL_14b7658f608c43fea72cbcc5b56ab1ae",
            "value": "Downloading: 100%"
          }
        },
        "91346d5de92e4e8f9e2b2234347d118f": {
          "model_module": "@jupyter-widgets/controls",
          "model_module_version": "1.5.0",
          "model_name": "FloatProgressModel",
          "state": {
            "_dom_classes": [],
            "_model_module": "@jupyter-widgets/controls",
            "_model_module_version": "1.5.0",
            "_model_name": "FloatProgressModel",
            "_view_count": null,
            "_view_module": "@jupyter-widgets/controls",
            "_view_module_version": "1.5.0",
            "_view_name": "ProgressView",
            "bar_style": "success",
            "description": "",
            "description_tooltip": null,
            "layout": "IPY_MODEL_a24bc9df5a0543cc80200d6b0d46b58e",
            "max": 231508,
            "min": 0,
            "orientation": "horizontal",
            "style": "IPY_MODEL_03b6ccc7b6b640d8af50242a5f8909c5",
            "value": 231508
          }
        },
        "931dc55d9c6c4f1dad5f517517d295dc": {
          "model_module": "@jupyter-widgets/controls",
          "model_module_version": "1.5.0",
          "model_name": "DescriptionStyleModel",
          "state": {
            "_model_module": "@jupyter-widgets/controls",
            "_model_module_version": "1.5.0",
            "_model_name": "DescriptionStyleModel",
            "_view_count": null,
            "_view_module": "@jupyter-widgets/base",
            "_view_module_version": "1.2.0",
            "_view_name": "StyleView",
            "description_width": ""
          }
        },
        "9d4481ef707f4330b09ba40770a02e8c": {
          "model_module": "@jupyter-widgets/controls",
          "model_module_version": "1.5.0",
          "model_name": "FloatProgressModel",
          "state": {
            "_dom_classes": [],
            "_model_module": "@jupyter-widgets/controls",
            "_model_module_version": "1.5.0",
            "_model_name": "FloatProgressModel",
            "_view_count": null,
            "_view_module": "@jupyter-widgets/controls",
            "_view_module_version": "1.5.0",
            "_view_name": "ProgressView",
            "bar_style": "success",
            "description": "",
            "description_tooltip": null,
            "layout": "IPY_MODEL_a9038d8c83274a0793015f2e0942d221",
            "max": 536063208,
            "min": 0,
            "orientation": "horizontal",
            "style": "IPY_MODEL_d7888d782aea4b299fb37c1b886a74a1",
            "value": 536063208
          }
        },
        "a24bc9df5a0543cc80200d6b0d46b58e": {
          "model_module": "@jupyter-widgets/base",
          "model_module_version": "1.2.0",
          "model_name": "LayoutModel",
          "state": {
            "_model_module": "@jupyter-widgets/base",
            "_model_module_version": "1.2.0",
            "_model_name": "LayoutModel",
            "_view_count": null,
            "_view_module": "@jupyter-widgets/base",
            "_view_module_version": "1.2.0",
            "_view_name": "LayoutView",
            "align_content": null,
            "align_items": null,
            "align_self": null,
            "border": null,
            "bottom": null,
            "display": null,
            "flex": null,
            "flex_flow": null,
            "grid_area": null,
            "grid_auto_columns": null,
            "grid_auto_flow": null,
            "grid_auto_rows": null,
            "grid_column": null,
            "grid_gap": null,
            "grid_row": null,
            "grid_template_areas": null,
            "grid_template_columns": null,
            "grid_template_rows": null,
            "height": null,
            "justify_content": null,
            "justify_items": null,
            "left": null,
            "margin": null,
            "max_height": null,
            "max_width": null,
            "min_height": null,
            "min_width": null,
            "object_fit": null,
            "object_position": null,
            "order": null,
            "overflow": null,
            "overflow_x": null,
            "overflow_y": null,
            "padding": null,
            "right": null,
            "top": null,
            "visibility": null,
            "width": null
          }
        },
        "a48ec8e40df64d50bd6ec208bd482a02": {
          "model_module": "@jupyter-widgets/controls",
          "model_module_version": "1.5.0",
          "model_name": "DescriptionStyleModel",
          "state": {
            "_model_module": "@jupyter-widgets/controls",
            "_model_module_version": "1.5.0",
            "_model_name": "DescriptionStyleModel",
            "_view_count": null,
            "_view_module": "@jupyter-widgets/base",
            "_view_module_version": "1.2.0",
            "_view_name": "StyleView",
            "description_width": ""
          }
        },
        "a9038d8c83274a0793015f2e0942d221": {
          "model_module": "@jupyter-widgets/base",
          "model_module_version": "1.2.0",
          "model_name": "LayoutModel",
          "state": {
            "_model_module": "@jupyter-widgets/base",
            "_model_module_version": "1.2.0",
            "_model_name": "LayoutModel",
            "_view_count": null,
            "_view_module": "@jupyter-widgets/base",
            "_view_module_version": "1.2.0",
            "_view_name": "LayoutView",
            "align_content": null,
            "align_items": null,
            "align_self": null,
            "border": null,
            "bottom": null,
            "display": null,
            "flex": null,
            "flex_flow": null,
            "grid_area": null,
            "grid_auto_columns": null,
            "grid_auto_flow": null,
            "grid_auto_rows": null,
            "grid_column": null,
            "grid_gap": null,
            "grid_row": null,
            "grid_template_areas": null,
            "grid_template_columns": null,
            "grid_template_rows": null,
            "height": null,
            "justify_content": null,
            "justify_items": null,
            "left": null,
            "margin": null,
            "max_height": null,
            "max_width": null,
            "min_height": null,
            "min_width": null,
            "object_fit": null,
            "object_position": null,
            "order": null,
            "overflow": null,
            "overflow_x": null,
            "overflow_y": null,
            "padding": null,
            "right": null,
            "top": null,
            "visibility": null,
            "width": null
          }
        },
        "c284e6fbec214651ae71a6e4d01ff90d": {
          "model_module": "@jupyter-widgets/base",
          "model_module_version": "1.2.0",
          "model_name": "LayoutModel",
          "state": {
            "_model_module": "@jupyter-widgets/base",
            "_model_module_version": "1.2.0",
            "_model_name": "LayoutModel",
            "_view_count": null,
            "_view_module": "@jupyter-widgets/base",
            "_view_module_version": "1.2.0",
            "_view_name": "LayoutView",
            "align_content": null,
            "align_items": null,
            "align_self": null,
            "border": null,
            "bottom": null,
            "display": null,
            "flex": null,
            "flex_flow": null,
            "grid_area": null,
            "grid_auto_columns": null,
            "grid_auto_flow": null,
            "grid_auto_rows": null,
            "grid_column": null,
            "grid_gap": null,
            "grid_row": null,
            "grid_template_areas": null,
            "grid_template_columns": null,
            "grid_template_rows": null,
            "height": null,
            "justify_content": null,
            "justify_items": null,
            "left": null,
            "margin": null,
            "max_height": null,
            "max_width": null,
            "min_height": null,
            "min_width": null,
            "object_fit": null,
            "object_position": null,
            "order": null,
            "overflow": null,
            "overflow_x": null,
            "overflow_y": null,
            "padding": null,
            "right": null,
            "top": null,
            "visibility": null,
            "width": null
          }
        },
        "c38db725528c41ec9352aa441e5d5569": {
          "model_module": "@jupyter-widgets/controls",
          "model_module_version": "1.5.0",
          "model_name": "HTMLModel",
          "state": {
            "_dom_classes": [],
            "_model_module": "@jupyter-widgets/controls",
            "_model_module_version": "1.5.0",
            "_model_name": "HTMLModel",
            "_view_count": null,
            "_view_module": "@jupyter-widgets/controls",
            "_view_module_version": "1.5.0",
            "_view_name": "HTMLView",
            "description": "",
            "description_tooltip": null,
            "layout": "IPY_MODEL_2d4a17c75b0345c1bd7521bceec285cc",
            "placeholder": "​",
            "style": "IPY_MODEL_931dc55d9c6c4f1dad5f517517d295dc",
            "value": " 570/570 [00:00&lt;00:00, 3.23kB/s]"
          }
        },
        "cbfb1e53d51a4a138c07bd46d939e830": {
          "model_module": "@jupyter-widgets/controls",
          "model_module_version": "1.5.0",
          "model_name": "HTMLModel",
          "state": {
            "_dom_classes": [],
            "_model_module": "@jupyter-widgets/controls",
            "_model_module_version": "1.5.0",
            "_model_name": "HTMLModel",
            "_view_count": null,
            "_view_module": "@jupyter-widgets/controls",
            "_view_module_version": "1.5.0",
            "_view_name": "HTMLView",
            "description": "",
            "description_tooltip": null,
            "layout": "IPY_MODEL_3f4f1d019bef4339b931e07a80ef3071",
            "placeholder": "​",
            "style": "IPY_MODEL_4bb3dd649c7a4970bd225efec3fcb623",
            "value": " 226k/226k [00:00&lt;00:00, 331kB/s]"
          }
        },
        "d7888d782aea4b299fb37c1b886a74a1": {
          "model_module": "@jupyter-widgets/controls",
          "model_module_version": "1.5.0",
          "model_name": "ProgressStyleModel",
          "state": {
            "_model_module": "@jupyter-widgets/controls",
            "_model_module_version": "1.5.0",
            "_model_name": "ProgressStyleModel",
            "_view_count": null,
            "_view_module": "@jupyter-widgets/base",
            "_view_module_version": "1.2.0",
            "_view_name": "StyleView",
            "bar_color": null,
            "description_width": ""
          }
        },
        "de57b9b476564cfdbb14f5cc6707cd84": {
          "model_module": "@jupyter-widgets/controls",
          "model_module_version": "1.5.0",
          "model_name": "DescriptionStyleModel",
          "state": {
            "_model_module": "@jupyter-widgets/controls",
            "_model_module_version": "1.5.0",
            "_model_name": "DescriptionStyleModel",
            "_view_count": null,
            "_view_module": "@jupyter-widgets/base",
            "_view_module_version": "1.2.0",
            "_view_name": "StyleView",
            "description_width": ""
          }
        },
        "e70d5b599c3543c086cfd1e264daeeda": {
          "model_module": "@jupyter-widgets/controls",
          "model_module_version": "1.5.0",
          "model_name": "ProgressStyleModel",
          "state": {
            "_model_module": "@jupyter-widgets/controls",
            "_model_module_version": "1.5.0",
            "_model_name": "ProgressStyleModel",
            "_view_count": null,
            "_view_module": "@jupyter-widgets/base",
            "_view_module_version": "1.2.0",
            "_view_name": "StyleView",
            "bar_color": null,
            "description_width": ""
          }
        },
        "edcc80676a964ccbb4a8cb62fd209763": {
          "model_module": "@jupyter-widgets/base",
          "model_module_version": "1.2.0",
          "model_name": "LayoutModel",
          "state": {
            "_model_module": "@jupyter-widgets/base",
            "_model_module_version": "1.2.0",
            "_model_name": "LayoutModel",
            "_view_count": null,
            "_view_module": "@jupyter-widgets/base",
            "_view_module_version": "1.2.0",
            "_view_name": "LayoutView",
            "align_content": null,
            "align_items": null,
            "align_self": null,
            "border": null,
            "bottom": null,
            "display": null,
            "flex": null,
            "flex_flow": null,
            "grid_area": null,
            "grid_auto_columns": null,
            "grid_auto_flow": null,
            "grid_auto_rows": null,
            "grid_column": null,
            "grid_gap": null,
            "grid_row": null,
            "grid_template_areas": null,
            "grid_template_columns": null,
            "grid_template_rows": null,
            "height": null,
            "justify_content": null,
            "justify_items": null,
            "left": null,
            "margin": null,
            "max_height": null,
            "max_width": null,
            "min_height": null,
            "min_width": null,
            "object_fit": null,
            "object_position": null,
            "order": null,
            "overflow": null,
            "overflow_x": null,
            "overflow_y": null,
            "padding": null,
            "right": null,
            "top": null,
            "visibility": null,
            "width": null
          }
        }
      }
    }
  },
  "nbformat": 4,
  "nbformat_minor": 0
}